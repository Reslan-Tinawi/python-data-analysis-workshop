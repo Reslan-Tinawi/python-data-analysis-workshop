{
 "cells": [
  {
   "cell_type": "markdown",
   "id": "295b835e-f2ac-4ff5-8936-8d229fb81763",
   "metadata": {},
   "source": [
    "# Import libraries"
   ]
  },
  {
   "cell_type": "code",
   "execution_count": null,
   "id": "14ad3406-821e-4331-9a38-fbb5dd3a9630",
   "metadata": {},
   "outputs": [],
   "source": [
    "import numpy as np\n",
    "import pandas as pd\n",
    "import plotly.express as px\n",
    "import seaborn as sns\n",
    "from wordcloud import WordCloud"
   ]
  },
  {
   "cell_type": "markdown",
   "id": "15bf96a9-9d07-4fe0-9d93-b78b1cdd9630",
   "metadata": {},
   "source": [
    "# Load data"
   ]
  },
  {
   "cell_type": "code",
   "execution_count": null,
   "id": "e4264997-f531-465b-a5d7-60bc58353745",
   "metadata": {
    "tags": []
   },
   "outputs": [],
   "source": [
    "google_play_apps_df = pd.read_csv(\"data/google-play-store-data-cleaned.csv\")"
   ]
  },
  {
   "cell_type": "code",
   "execution_count": null,
   "id": "800281e3-2d1d-4f2f-9d2a-a297d633d78a",
   "metadata": {
    "tags": []
   },
   "outputs": [],
   "source": [
    "google_play_apps_reviews_df = pd.read_csv(\"data/google-play-store-user-reviews.csv\")"
   ]
  },
  {
   "cell_type": "code",
   "execution_count": null,
   "id": "544f9265-faab-4eb2-b530-bc2a6c6a87c3",
   "metadata": {},
   "outputs": [],
   "source": [
    "google_play_apps_df.head()"
   ]
  },
  {
   "cell_type": "code",
   "execution_count": null,
   "id": "b53c984f-ab42-43fa-acf4-17ce9b533f4a",
   "metadata": {},
   "outputs": [],
   "source": [
    "google_play_apps_reviews_df.head()"
   ]
  },
  {
   "cell_type": "code",
   "execution_count": null,
   "id": "be0a6231-cec3-4032-8a77-d57f36591492",
   "metadata": {},
   "outputs": [],
   "source": [
    "google_play_apps_df.shape"
   ]
  },
  {
   "cell_type": "code",
   "execution_count": null,
   "id": "fe95c154-7885-43d9-baf5-01def4b46116",
   "metadata": {},
   "outputs": [],
   "source": [
    "google_play_apps_reviews_df.shape"
   ]
  },
  {
   "cell_type": "markdown",
   "id": "415e5613-3265-483f-b773-1f1706a4e2b8",
   "metadata": {},
   "source": [
    "# Data description:"
   ]
  },
  {
   "cell_type": "markdown",
   "id": "6df4bd38-bafa-4a58-a513-8a2a6348b7bc",
   "metadata": {},
   "source": [
    "1. `App`: Application name\n",
    "2. `Category`: Category the app belongs to\n",
    "3. `Rating`: Overall user rating of the app (as when scraped)\n",
    "4. `Reviews`: Number of user reviews for the app (as when scraped)\n",
    "5. `Size`: Size of the app (as when scraped)\n",
    "6. `Installs`: Number of user downloads/installs for the app (as when scraped)\n",
    "7. `Type`: Paid or Free\n",
    "8. `Price`: Price of the app (as when scraped)\n",
    "9. `Content Rating`: Age group the app is targeted at - Children / Mature 21+ / Adult\n",
    "10. `Genres`: An app can belong to multiple genres (apart from its main category). For eg, a musical family game will belong to\n",
    "11. `Last Updated`: Date when the app was last updated on Play Store (as when scraped)\n",
    "12. `Current Ver`: Current version of the app available on Play Store (as when scraped)\n",
    "13. `Android Ver`: Min required Android version (as when scraped)"
   ]
  },
  {
   "cell_type": "markdown",
   "id": "dc5144cf-c950-4734-b116-ce74498e9a6c",
   "metadata": {},
   "source": [
    "1. `Translated_Review`: User review (Preprocessed and translated to English)\n",
    "2. `Sentiment`: Positive/Negative/Neutral (Preprocessed)\n",
    "3. `Sentiment_Polarity`: Sentiment polarity score\n",
    "4. `Sentiment_Subjectivity`: Sentiment subjectivity score"
   ]
  },
  {
   "cell_type": "markdown",
   "id": "35fd6fda-d46d-4cd0-89cd-22f1d17ea3a1",
   "metadata": {},
   "source": [
    "# Simple questions"
   ]
  },
  {
   "cell_type": "markdown",
   "id": "334516a1-d3f5-447e-8b1b-3715538f94c4",
   "metadata": {},
   "source": [
    "## How many different categories are there?"
   ]
  },
  {
   "cell_type": "code",
   "execution_count": null,
   "id": "09353985-ef8e-4485-ad50-32a7c4145a11",
   "metadata": {},
   "outputs": [],
   "source": [
    "google_play_apps_df[\"Category\"].nunique()"
   ]
  },
  {
   "cell_type": "markdown",
   "id": "60fcc9ed-74f5-49fc-bb83-f0c5fe8b033a",
   "metadata": {},
   "source": [
    "# What is the highest/lowest rating app?"
   ]
  },
  {
   "cell_type": "code",
   "execution_count": null,
   "id": "6cd6e8e3-d019-479d-8e3a-9973ad85e48f",
   "metadata": {
    "tags": []
   },
   "outputs": [],
   "source": [
    "google_play_apps_df.loc[\n",
    "    google_play_apps_df[\"Rating\"] == google_play_apps_df[\"Rating\"].min()\n",
    "]"
   ]
  },
  {
   "cell_type": "code",
   "execution_count": null,
   "id": "463a6327-431e-49cd-9b24-27a0bb71abab",
   "metadata": {},
   "outputs": [],
   "source": [
    "google_play_apps_df.loc[\n",
    "    google_play_apps_df[\"Rating\"] == google_play_apps_df[\"Rating\"].max()\n",
    "]"
   ]
  },
  {
   "cell_type": "markdown",
   "id": "6436fc8e-9565-4a58-8729-5576d6dba588",
   "metadata": {},
   "source": [
    "# Android market breakdown:"
   ]
  },
  {
   "cell_type": "markdown",
   "id": "2507c742-69c0-4fb3-92a2-5d83e5c6fc8a",
   "metadata": {},
   "source": [
    "The number of active apps per category:"
   ]
  },
  {
   "cell_type": "code",
   "execution_count": null,
   "id": "1dfd9625-aa27-4986-939e-f7919bba0320",
   "metadata": {
    "tags": []
   },
   "outputs": [],
   "source": [
    "google_play_apps_df[\"Category\"].value_counts(normalize=True)"
   ]
  },
  {
   "cell_type": "code",
   "execution_count": null,
   "id": "0e2c15b8-c11f-4038-9867-84bc11dde3d4",
   "metadata": {
    "tags": []
   },
   "outputs": [],
   "source": [
    "category_stats_df = google_play_apps_df.groupby(\n",
    "    by=\"Category\", as_index=False\n",
    ").aggregate(number_of_apps=pd.NamedAgg(column=\"Rating\", aggfunc=\"count\"))"
   ]
  },
  {
   "cell_type": "code",
   "execution_count": null,
   "id": "f7d1976d-4ca7-4673-926e-b078baafbc6e",
   "metadata": {},
   "outputs": [],
   "source": [
    "category_stats_df.head()"
   ]
  },
  {
   "cell_type": "code",
   "execution_count": null,
   "id": "35b66e00-69f9-446f-9de6-ffc2c18e5ea6",
   "metadata": {
    "tags": []
   },
   "outputs": [],
   "source": [
    "category_stats_df = category_stats_df.sort_values(by=\"number_of_apps\", ascending=False)"
   ]
  },
  {
   "cell_type": "code",
   "execution_count": null,
   "id": "97c08f26-895f-4b31-b3c2-53a27a914575",
   "metadata": {
    "tags": []
   },
   "outputs": [],
   "source": [
    "fig = px.bar(\n",
    "    data_frame=category_stats_df, x=\"Category\", y=\"number_of_apps\", color=\"Category\"\n",
    ")\n",
    "\n",
    "fig.show()"
   ]
  },
  {
   "cell_type": "markdown",
   "id": "7e8d1143-89b9-4c94-8b69-c8ec94fa0900",
   "metadata": {},
   "source": [
    "# How apps are rated on general?"
   ]
  },
  {
   "cell_type": "code",
   "execution_count": null,
   "id": "226da041-1b41-40be-833a-0810ad379e5d",
   "metadata": {
    "tags": []
   },
   "outputs": [],
   "source": [
    "google_play_apps_df[\"Rating\"].mean()"
   ]
  },
  {
   "cell_type": "code",
   "execution_count": null,
   "id": "fd1c6fbe-20e6-4784-b76d-86c9674dc93f",
   "metadata": {},
   "outputs": [],
   "source": [
    "google_play_apps_df[\"Rating\"].max()"
   ]
  },
  {
   "cell_type": "code",
   "execution_count": null,
   "id": "d01ed788-708f-4327-a133-b96438dae288",
   "metadata": {},
   "outputs": [],
   "source": [
    "google_play_apps_df[\"Rating\"].min()"
   ]
  },
  {
   "cell_type": "code",
   "execution_count": null,
   "id": "e721e889-fa5b-42e8-b481-c080c284982e",
   "metadata": {},
   "outputs": [],
   "source": [
    "fig = px.histogram(data_frame=google_play_apps_df, x=\"Rating\")\n",
    "\n",
    "fig.show()"
   ]
  },
  {
   "cell_type": "markdown",
   "id": "82a6c41c-3a5b-425b-bb7e-f618b03d9ce6",
   "metadata": {},
   "source": [
    "# How apps rating change by app category?"
   ]
  },
  {
   "cell_type": "code",
   "execution_count": null,
   "id": "48e41a3e-5690-4682-afef-7f825e7f8274",
   "metadata": {},
   "outputs": [],
   "source": [
    "google_play_apps_df[[\"Category\", \"Rating\"]]"
   ]
  },
  {
   "cell_type": "code",
   "execution_count": null,
   "id": "ae7f4de3-efd8-4b41-857f-426b9ed5dded",
   "metadata": {
    "tags": []
   },
   "outputs": [],
   "source": [
    "category_rating_stats_df = google_play_apps_df.groupby(\n",
    "    by=\"Category\", as_index=False\n",
    ").aggregate(\n",
    "    category_min_rating=pd.NamedAgg(column=\"Rating\", aggfunc=\"min\"),\n",
    "    category_max_rating=pd.NamedAgg(column=\"Rating\", aggfunc=\"max\"),\n",
    "    category_average_rating=pd.NamedAgg(column=\"Rating\", aggfunc=\"mean\"),\n",
    ")"
   ]
  },
  {
   "cell_type": "code",
   "execution_count": null,
   "id": "17b959e0-e1cf-4d8d-9a41-2078d43ee13b",
   "metadata": {
    "tags": []
   },
   "outputs": [],
   "source": [
    "category_rating_stats_df.head(10)"
   ]
  },
  {
   "cell_type": "markdown",
   "id": "5969e94b-f1d8-4931-889d-bc2f98ce3f68",
   "metadata": {},
   "source": [
    "Now, we have for each _category_ (`ART_AND_DESIGN`, `AUTO_AND_VEHICLES`, `BEAUTY`, etc ...) three measurements:\n",
    "\n",
    "1. `category_min_rating`: minimum rating value for the category\n",
    "2. `category_max_rating`: maximum rating value for the category\n",
    "3. `category_average_rating`: average rating for the category"
   ]
  },
  {
   "cell_type": "code",
   "execution_count": null,
   "id": "f1d2cbcf-7264-4b11-8dbd-94134a1b92db",
   "metadata": {
    "tags": []
   },
   "outputs": [],
   "source": [
    "google_play_apps_df[\"Category\"].nunique()"
   ]
  },
  {
   "cell_type": "code",
   "execution_count": null,
   "id": "72d9c54b-0a1d-4669-8394-9492bd5446cf",
   "metadata": {},
   "outputs": [],
   "source": [
    "focus_categories = [\n",
    "    \"BOOKS_AND_REFERENCE\",\n",
    "    \"BUSINESS\",\n",
    "    \"COMMUNICATION\",\n",
    "    \"EDUCATION\",\n",
    "    \"ENTERTAINMENT\",\n",
    "]"
   ]
  },
  {
   "cell_type": "code",
   "execution_count": null,
   "id": "78e26a72-dc27-491b-a9ad-0199b37acf9d",
   "metadata": {
    "tags": []
   },
   "outputs": [],
   "source": [
    "fig = px.histogram(\n",
    "    data_frame=google_play_apps_df.loc[\n",
    "        google_play_apps_df[\"Category\"].isin(focus_categories)\n",
    "    ],\n",
    "    x=\"Rating\",\n",
    "    color='Category',\n",
    "    facet_row='Category',\n",
    "    height=1000\n",
    ")\n",
    "\n",
    "fig.show()"
   ]
  },
  {
   "cell_type": "markdown",
   "id": "250a6613-1341-4205-b5b8-6712e868d4c2",
   "metadata": {},
   "source": [
    "# What is the relation between app size and rating?"
   ]
  },
  {
   "cell_type": "markdown",
   "id": "def4fc52-7626-422d-bf91-eabe2a002a35",
   "metadata": {},
   "source": [
    "Is there a relation between app size and its rating?\n",
    "\n",
    "For example, can we infer that bigger apps have higher rating?"
   ]
  },
  {
   "cell_type": "code",
   "execution_count": null,
   "id": "af5ba1c7-f7f1-4fbf-bfbd-3ff5a1a4083e",
   "metadata": {},
   "outputs": [],
   "source": [
    "google_play_apps_df[['Rating', 'Size']]"
   ]
  },
  {
   "cell_type": "code",
   "execution_count": null,
   "id": "e46018d2-e7f0-4894-8be3-d050a1ccddf5",
   "metadata": {
    "tags": []
   },
   "outputs": [],
   "source": [
    "fig = px.scatter(data_frame=google_play_apps_df, x='Size', y='Rating')\n",
    "\n",
    "fig.show()"
   ]
  },
  {
   "cell_type": "markdown",
   "id": "fe707569-032c-48e9-9813-950ee0810c59",
   "metadata": {},
   "source": [
    "Most top rated apps are optimally sized between ~2MB to ~40MB - neither too light nor too heavy."
   ]
  },
  {
   "cell_type": "code",
   "execution_count": null,
   "id": "dba80e85-a4b9-445d-ae35-24052eac04a3",
   "metadata": {},
   "outputs": [],
   "source": []
  }
 ],
 "metadata": {
  "kernelspec": {
   "display_name": "Python 3 (ipykernel)",
   "language": "python",
   "name": "python3"
  },
  "language_info": {
   "codemirror_mode": {
    "name": "ipython",
    "version": 3
   },
   "file_extension": ".py",
   "mimetype": "text/x-python",
   "name": "python",
   "nbconvert_exporter": "python",
   "pygments_lexer": "ipython3",
   "version": "3.9.7"
  }
 },
 "nbformat": 4,
 "nbformat_minor": 5
}
