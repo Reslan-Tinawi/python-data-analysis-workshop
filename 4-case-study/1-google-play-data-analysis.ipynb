{
 "cells": [
  {
   "cell_type": "markdown",
   "id": "cae12c33-903a-4b4e-854f-f51a556462c2",
   "metadata": {},
   "source": [
    "# Agenda:"
   ]
  },
  {
   "cell_type": "markdown",
   "id": "f41f38de-b2d9-4bda-a3e1-ffb8b89f3a31",
   "metadata": {},
   "source": [
    "In this final session on the topic of data analysis in `Python`, we will an example of how we can work with a dataset and perform some analysis steps to answer questions about the data in hand.\n",
    "\n",
    "You can imagine this as a typical task of data scientist. Reading and manipulating data and reaching some useful insights.\n",
    "\n",
    "Following the previous sessions, we will continue using the `pandas` library, and we will introduce three new functions:\n",
    "\n",
    "1. `groupby`: for calculating summary statistics (min, max, etc) `group-wise`, rather than on the whole data.\n",
    "2. `merge`: for merging (joining) two dataframes into one based on a common key.\n",
    "3. `pivot`: for calculating [pivot table](https://en.wikipedia.org/wiki/Pivot_table)."
   ]
  },
  {
   "cell_type": "markdown",
   "id": "295b835e-f2ac-4ff5-8936-8d229fb81763",
   "metadata": {},
   "source": [
    "# Import libraries"
   ]
  },
  {
   "cell_type": "markdown",
   "id": "5627b707-a37e-480c-8355-b81deaf45c2c",
   "metadata": {},
   "source": [
    "Uncomment the following cell to install the libraries:"
   ]
  },
  {
   "cell_type": "code",
   "execution_count": null,
   "id": "2b42882c-4512-4505-aac2-22a31f594ad1",
   "metadata": {},
   "outputs": [],
   "source": [
    "# ! pip install pandas numpy plotly"
   ]
  },
  {
   "cell_type": "code",
   "execution_count": null,
   "id": "14ad3406-821e-4331-9a38-fbb5dd3a9630",
   "metadata": {
    "tags": []
   },
   "outputs": [],
   "source": [
    "import numpy as np\n",
    "import pandas as pd\n",
    "import plotly.express as px"
   ]
  },
  {
   "cell_type": "markdown",
   "id": "c1c28107-4a9b-4335-b1af-a031d703e131",
   "metadata": {},
   "source": [
    "# Reading data in pands:"
   ]
  },
  {
   "cell_type": "markdown",
   "id": "0b6c310c-24d0-4fe9-a3b1-a76c92a1c689",
   "metadata": {},
   "source": [
    "There are plenty of functions for loading _tabular data_ in pandas, including:\n",
    "\n",
    "1. `read_csv`\n",
    "2. `read_excel`\n",
    "3. `read_html`\n",
    "4. `read_json`\n",
    "5. `read_sql`\n",
    "\n",
    "Depending on the file type of your data, you use the appropriate function."
   ]
  },
  {
   "cell_type": "markdown",
   "id": "15bf96a9-9d07-4fe0-9d93-b78b1cdd9630",
   "metadata": {},
   "source": [
    "# Load data"
   ]
  },
  {
   "cell_type": "markdown",
   "id": "39cad5b6-9641-4947-a6c0-82a8aca091d8",
   "metadata": {},
   "source": [
    "The data we are working with in this notebook is hosted on Kaggle: [Google Play Store Apps](https://www.kaggle.com/datasets/lava18/google-play-store-apps).\n",
    "\n",
    "It consists of two data files:\n",
    "\n",
    "1. apps information.\n",
    "2. apps reviews."
   ]
  },
  {
   "cell_type": "code",
   "execution_count": null,
   "id": "e4264997-f531-465b-a5d7-60bc58353745",
   "metadata": {
    "tags": []
   },
   "outputs": [],
   "source": [
    "google_play_apps_df = pd.read_csv(\n",
    "    \"https://raw.githubusercontent.com/Reslan-Tinawi/python-data-analysis-workshop/main/4-case-study/data/google-play-store-data-cleaned.csv\"\n",
    ")"
   ]
  },
  {
   "cell_type": "code",
   "execution_count": null,
   "id": "800281e3-2d1d-4f2f-9d2a-a297d633d78a",
   "metadata": {
    "tags": []
   },
   "outputs": [],
   "source": [
    "google_play_apps_reviews_df = pd.read_csv(\n",
    "    \"https://raw.githubusercontent.com/Reslan-Tinawi/python-data-analysis-workshop/main/4-case-study/data/google-play-store-user-reviews-cleaned.csv\"\n",
    ")"
   ]
  },
  {
   "cell_type": "code",
   "execution_count": null,
   "id": "544f9265-faab-4eb2-b530-bc2a6c6a87c3",
   "metadata": {},
   "outputs": [],
   "source": [
    "google_play_apps_df.head()"
   ]
  },
  {
   "cell_type": "code",
   "execution_count": null,
   "id": "b53c984f-ab42-43fa-acf4-17ce9b533f4a",
   "metadata": {},
   "outputs": [],
   "source": [
    "google_play_apps_reviews_df.head()"
   ]
  },
  {
   "cell_type": "code",
   "execution_count": null,
   "id": "be0a6231-cec3-4032-8a77-d57f36591492",
   "metadata": {},
   "outputs": [],
   "source": [
    "google_play_apps_df.shape"
   ]
  },
  {
   "cell_type": "code",
   "execution_count": null,
   "id": "fe95c154-7885-43d9-baf5-01def4b46116",
   "metadata": {},
   "outputs": [],
   "source": [
    "google_play_apps_reviews_df.shape"
   ]
  },
  {
   "cell_type": "markdown",
   "id": "415e5613-3265-483f-b773-1f1706a4e2b8",
   "metadata": {},
   "source": [
    "# Data description:"
   ]
  },
  {
   "cell_type": "markdown",
   "id": "6df4bd38-bafa-4a58-a513-8a2a6348b7bc",
   "metadata": {},
   "source": [
    "1. `App`: Application name\n",
    "2. `Category`: Category the app belongs to\n",
    "3. `Rating`: Overall user rating of the app (as when scraped)\n",
    "4. `Reviews`: Number of user reviews for the app (as when scraped)\n",
    "5. `Size`: Size of the app (as when scraped)\n",
    "6. `Installs`: Number of user downloads/installs for the app (as when scraped)\n",
    "7. `Type`: Paid or Free\n",
    "8. `Price`: Price of the app (as when scraped)\n",
    "9. `Content Rating`: Age group the app is targeted at - Children / Mature 21+ / Adult\n",
    "10. `Genres`: An app can belong to multiple genres (apart from its main category). For eg, a musical family game will belong to\n",
    "11. `Last Updated`: Date when the app was last updated on Play Store (as when scraped)\n",
    "12. `Current Ver`: Current version of the app available on Play Store (as when scraped)\n",
    "13. `Android Ver`: Min required Android version (as when scraped)"
   ]
  },
  {
   "cell_type": "markdown",
   "id": "dc5144cf-c950-4734-b116-ce74498e9a6c",
   "metadata": {},
   "source": [
    "1. `Translated_Review`: User review (Preprocessed and translated to English)\n",
    "2. `Sentiment`: Positive/Negative/Neutral (Preprocessed)\n",
    "3. `Sentiment_Polarity`: Sentiment polarity score\n",
    "4. `Sentiment_Subjectivity`: Sentiment subjectivity score"
   ]
  },
  {
   "cell_type": "markdown",
   "id": "35fd6fda-d46d-4cd0-89cd-22f1d17ea3a1",
   "metadata": {},
   "source": [
    "# Simple questions"
   ]
  },
  {
   "cell_type": "markdown",
   "id": "334516a1-d3f5-447e-8b1b-3715538f94c4",
   "metadata": {},
   "source": [
    "## How many different categories are there?"
   ]
  },
  {
   "cell_type": "code",
   "execution_count": null,
   "id": "09353985-ef8e-4485-ad50-32a7c4145a11",
   "metadata": {},
   "outputs": [],
   "source": [
    "google_play_apps_df[\"Category\"].nunique()"
   ]
  },
  {
   "cell_type": "markdown",
   "id": "ac436c0e-a258-4294-ae8e-735e2b4d1f46",
   "metadata": {},
   "source": [
    "# What are the unique categories?"
   ]
  },
  {
   "cell_type": "code",
   "execution_count": null,
   "id": "17125a9c-c5b8-4091-a7d0-41b284e798dc",
   "metadata": {},
   "outputs": [],
   "source": [
    "google_play_apps_df[\"Category\"].unique()"
   ]
  },
  {
   "cell_type": "markdown",
   "id": "60fcc9ed-74f5-49fc-bb83-f0c5fe8b033a",
   "metadata": {},
   "source": [
    "# What is the highest/lowest rating app(s)?"
   ]
  },
  {
   "cell_type": "code",
   "execution_count": null,
   "id": "ec9e1668-61fd-4141-8a7b-3a4946429d02",
   "metadata": {
    "tags": []
   },
   "outputs": [],
   "source": [
    "min_rating_value = google_play_apps_df[\"Rating\"].min()"
   ]
  },
  {
   "cell_type": "code",
   "execution_count": null,
   "id": "6ad7a401-fa6e-4ead-acf4-f79fa2d1441a",
   "metadata": {},
   "outputs": [],
   "source": [
    "print(min_rating_value)"
   ]
  },
  {
   "cell_type": "code",
   "execution_count": null,
   "id": "7b4f3511-4122-4645-86fa-73b40864a986",
   "metadata": {},
   "outputs": [],
   "source": [
    "google_play_apps_df[\"Rating\"] == min_rating_value"
   ]
  },
  {
   "cell_type": "code",
   "execution_count": null,
   "id": "6cd6e8e3-d019-479d-8e3a-9973ad85e48f",
   "metadata": {
    "tags": []
   },
   "outputs": [],
   "source": [
    "google_play_apps_df.loc[google_play_apps_df[\"Rating\"] == min_rating_value]"
   ]
  },
  {
   "cell_type": "code",
   "execution_count": null,
   "id": "577f9cbe-467e-4bfe-8348-af83a23a92c5",
   "metadata": {},
   "outputs": [],
   "source": [
    "max_rating_value = google_play_apps_df[\"Rating\"].max()"
   ]
  },
  {
   "cell_type": "code",
   "execution_count": null,
   "id": "5cbd344a-e392-4b22-9a0e-710b0beaf374",
   "metadata": {},
   "outputs": [],
   "source": [
    "print(max_rating_value)"
   ]
  },
  {
   "cell_type": "code",
   "execution_count": null,
   "id": "463a6327-431e-49cd-9b24-27a0bb71abab",
   "metadata": {
    "tags": []
   },
   "outputs": [],
   "source": [
    "google_play_apps_df.loc[google_play_apps_df[\"Rating\"] == max_rating_value]"
   ]
  },
  {
   "cell_type": "markdown",
   "id": "6436fc8e-9565-4a58-8729-5576d6dba588",
   "metadata": {},
   "source": [
    "# Android market breakdown:"
   ]
  },
  {
   "cell_type": "markdown",
   "id": "2507c742-69c0-4fb3-92a2-5d83e5c6fc8a",
   "metadata": {},
   "source": [
    "The number of active apps per category:"
   ]
  },
  {
   "cell_type": "code",
   "execution_count": null,
   "id": "1dfd9625-aa27-4986-939e-f7919bba0320",
   "metadata": {
    "tags": []
   },
   "outputs": [],
   "source": [
    "google_play_apps_df[\"Category\"].value_counts(normalize=True)"
   ]
  },
  {
   "cell_type": "markdown",
   "id": "9d9645b6-8cc3-4b13-8ba5-c0c52c415b9f",
   "metadata": {},
   "source": [
    "In simple words, the `groupby` function performs an aggregation functions group-wise.\n",
    "\n",
    "In our case, when we _group by_ `Category` is as saying:\n",
    "\n",
    "**Perform this aggregation function(s) for each _distinct_ category independently**\n",
    "\n",
    "The simplest case is calculating the total number of rows for each category. In this case our aggregation function is `count` and we are grouping by `Category`"
   ]
  },
  {
   "cell_type": "code",
   "execution_count": null,
   "id": "0e2c15b8-c11f-4038-9867-84bc11dde3d4",
   "metadata": {
    "tags": []
   },
   "outputs": [],
   "source": [
    "category_stats_df = google_play_apps_df.groupby(\n",
    "    by=\"Category\", as_index=False\n",
    ").aggregate(number_of_apps=pd.NamedAgg(column=\"Rating\", aggfunc=\"count\"))"
   ]
  },
  {
   "cell_type": "code",
   "execution_count": null,
   "id": "f7d1976d-4ca7-4673-926e-b078baafbc6e",
   "metadata": {},
   "outputs": [],
   "source": [
    "category_stats_df.head()"
   ]
  },
  {
   "cell_type": "markdown",
   "id": "36f9ea07-425a-4d10-afd9-7fadcd29f5ec",
   "metadata": {},
   "source": [
    "We can sort dataframe rows by column values. Here, we sort by the `number_of_apps` colum in descending order (highest value comes first):"
   ]
  },
  {
   "cell_type": "code",
   "execution_count": null,
   "id": "35b66e00-69f9-446f-9de6-ffc2c18e5ea6",
   "metadata": {
    "tags": []
   },
   "outputs": [],
   "source": [
    "category_stats_df = category_stats_df.sort_values(by=\"number_of_apps\", ascending=False)"
   ]
  },
  {
   "cell_type": "code",
   "execution_count": null,
   "id": "8e944c4f-6173-4caa-96c0-364150b8735b",
   "metadata": {},
   "outputs": [],
   "source": [
    "category_stats_df.head()"
   ]
  },
  {
   "cell_type": "code",
   "execution_count": null,
   "id": "97c08f26-895f-4b31-b3c2-53a27a914575",
   "metadata": {
    "tags": []
   },
   "outputs": [],
   "source": [
    "fig = px.bar(data_frame=category_stats_df, x=\"Category\", y=\"number_of_apps\")\n",
    "\n",
    "fig.show()"
   ]
  },
  {
   "cell_type": "markdown",
   "id": "7e8d1143-89b9-4c94-8b69-c8ec94fa0900",
   "metadata": {},
   "source": [
    "# How apps are rated on general?"
   ]
  },
  {
   "cell_type": "code",
   "execution_count": null,
   "id": "226da041-1b41-40be-833a-0810ad379e5d",
   "metadata": {
    "tags": []
   },
   "outputs": [],
   "source": [
    "google_play_apps_df[\"Rating\"].mean()"
   ]
  },
  {
   "cell_type": "code",
   "execution_count": null,
   "id": "fd1c6fbe-20e6-4784-b76d-86c9674dc93f",
   "metadata": {},
   "outputs": [],
   "source": [
    "google_play_apps_df[\"Rating\"].max()"
   ]
  },
  {
   "cell_type": "code",
   "execution_count": null,
   "id": "e721e889-fa5b-42e8-b481-c080c284982e",
   "metadata": {
    "tags": []
   },
   "outputs": [],
   "source": [
    "fig = px.histogram(data_frame=google_play_apps_df, x=\"Rating\")\n",
    "\n",
    "fig.update_traces(xbins=dict(start=0.0, end=5.0, size=0.5))  # bins used for histogram\n",
    "\n",
    "fig.show()"
   ]
  },
  {
   "cell_type": "markdown",
   "id": "82a6c41c-3a5b-425b-bb7e-f618b03d9ce6",
   "metadata": {},
   "source": [
    "# How apps rating change by app category?"
   ]
  },
  {
   "cell_type": "code",
   "execution_count": null,
   "id": "48e41a3e-5690-4682-afef-7f825e7f8274",
   "metadata": {},
   "outputs": [],
   "source": [
    "google_play_apps_df[[\"Category\", \"Rating\"]]"
   ]
  },
  {
   "cell_type": "markdown",
   "id": "32f329c7-143a-46f1-8b01-56b3ace712a4",
   "metadata": {},
   "source": [
    "Let's calculate min, max and average rating for each category to understand the how these measurements change by app category.\n",
    "\n",
    "Here, we need to perform `groupby` as we are calculating an aggregate function for each group separately."
   ]
  },
  {
   "cell_type": "code",
   "execution_count": null,
   "id": "ae7f4de3-efd8-4b41-857f-426b9ed5dded",
   "metadata": {
    "tags": []
   },
   "outputs": [],
   "source": [
    "category_rating_stats_df = google_play_apps_df.groupby(\n",
    "    by=\"Category\", as_index=False\n",
    ").aggregate(\n",
    "    category_min_rating=pd.NamedAgg(  # min aggregate function\n",
    "        column=\"Rating\", aggfunc=\"min\"\n",
    "    ),\n",
    "    category_max_rating=pd.NamedAgg(  # max aggregate function\n",
    "        column=\"Rating\", aggfunc=\"max\"\n",
    "    ),\n",
    "    category_average_rating=pd.NamedAgg(  # mean aggregate function\n",
    "        column=\"Rating\", aggfunc=\"mean\"\n",
    "    ),\n",
    ")"
   ]
  },
  {
   "cell_type": "markdown",
   "id": "a31b69ce-2490-4b05-89c0-39021a3eee03",
   "metadata": {},
   "source": [
    "Notice how aggregations are performed:\n",
    "- we define the column over which the aggrgation function is performed: `column`\n",
    "- and we then specify the aggregate function we wish to calculate: `aggfunc`\n",
    "\n",
    "This code:\n",
    "\n",
    "`pd.NamedAgg(column=\"Rating\", aggfunc=\"mean\")`\n",
    "\n",
    "means:\n",
    "\n",
    "**Calculate the mean of `Rating` column for each group.**"
   ]
  },
  {
   "cell_type": "code",
   "execution_count": null,
   "id": "17b959e0-e1cf-4d8d-9a41-2078d43ee13b",
   "metadata": {
    "tags": []
   },
   "outputs": [],
   "source": [
    "category_rating_stats_df.head(10)"
   ]
  },
  {
   "cell_type": "markdown",
   "id": "5969e94b-f1d8-4931-889d-bc2f98ce3f68",
   "metadata": {},
   "source": [
    "Now, we have for each _category_ (`ART_AND_DESIGN`, `AUTO_AND_VEHICLES`, `BEAUTY`, etc ...) three measurements:\n",
    "\n",
    "1. `category_min_rating`: minimum rating value for the category\n",
    "2. `category_max_rating`: maximum rating value for the category\n",
    "3. `category_average_rating`: average rating for the category"
   ]
  },
  {
   "cell_type": "markdown",
   "id": "933c2ec6-9e4a-48a3-9701-524ede5109cc",
   "metadata": {},
   "source": [
    "The following image better explains how the `groupby` function works:"
   ]
  },
  {
   "cell_type": "markdown",
   "id": "77bf498d-e7fb-4c3b-b0c3-34cf2d62cd96",
   "metadata": {},
   "source": [
    "<div>\n",
    "    <img src=\"img/group-by-example.png\" alt='numpy-array-vs-pandas-series' width=\"1000\"/>\n",
    "</div>"
   ]
  },
  {
   "cell_type": "markdown",
   "id": "1da5082b-aa30-4ee7-9e91-3e8a6655040b",
   "metadata": {
    "tags": []
   },
   "source": [
    "Let's visualize the `Rating` histogram for only few categories to compare them:"
   ]
  },
  {
   "cell_type": "code",
   "execution_count": null,
   "id": "72d9c54b-0a1d-4669-8394-9492bd5446cf",
   "metadata": {},
   "outputs": [],
   "source": [
    "focus_categories = [\n",
    "    \"BOOKS_AND_REFERENCE\",\n",
    "    \"BUSINESS\",\n",
    "    \"COMMUNICATION\",\n",
    "    \"EDUCATION\",\n",
    "    \"ENTERTAINMENT\",\n",
    "]"
   ]
  },
  {
   "cell_type": "markdown",
   "id": "504ab5c6-7f17-4929-bfd7-f44a2df3ad2e",
   "metadata": {},
   "source": [
    "Here, we use the `.isin` series function.\n",
    "\n",
    "For each value in the `Category` column, if it exists in the `focus_categories` list, the function returns `True` and `False` otherwise.\n",
    "\n",
    "This results in a boolean mask which we can use to filter the data."
   ]
  },
  {
   "cell_type": "code",
   "execution_count": null,
   "id": "efc84a41-c3ed-4dc9-ba0a-0fc532cefd1d",
   "metadata": {},
   "outputs": [],
   "source": [
    "google_play_apps_df[\"Category\"].isin(focus_categories)"
   ]
  },
  {
   "cell_type": "code",
   "execution_count": null,
   "id": "1dbb2d22-aeb3-468d-9155-1758a891cc20",
   "metadata": {},
   "outputs": [],
   "source": [
    "focus_app_data = data_frame = google_play_apps_df.loc[\n",
    "    google_play_apps_df[\"Category\"].isin(focus_categories)\n",
    "]"
   ]
  },
  {
   "cell_type": "code",
   "execution_count": null,
   "id": "76a2c359-d5d5-4c8f-a61d-5ed95e42dd0d",
   "metadata": {},
   "outputs": [],
   "source": [
    "focus_app_data"
   ]
  },
  {
   "cell_type": "code",
   "execution_count": null,
   "id": "78e26a72-dc27-491b-a9ad-0199b37acf9d",
   "metadata": {
    "tags": []
   },
   "outputs": [],
   "source": [
    "fig = px.histogram(\n",
    "    data_frame=focus_app_data,\n",
    "    x=\"Rating\",\n",
    "    color=\"Category\",\n",
    "    facet_row=\"Category\",\n",
    "    height=1000,\n",
    ")\n",
    "\n",
    "fig.show()"
   ]
  },
  {
   "cell_type": "markdown",
   "id": "250a6613-1341-4205-b5b8-6712e868d4c2",
   "metadata": {},
   "source": [
    "# What is the relation between app size and rating?"
   ]
  },
  {
   "cell_type": "markdown",
   "id": "def4fc52-7626-422d-bf91-eabe2a002a35",
   "metadata": {},
   "source": [
    "Is there a relation between app size and its rating?\n",
    "\n",
    "For example, can we infer that bigger apps have higher rating?"
   ]
  },
  {
   "cell_type": "code",
   "execution_count": null,
   "id": "af5ba1c7-f7f1-4fbf-bfbd-3ff5a1a4083e",
   "metadata": {},
   "outputs": [],
   "source": [
    "google_play_apps_df[[\"Rating\", \"Size\"]]"
   ]
  },
  {
   "cell_type": "markdown",
   "id": "cd6bc847-bb6d-469b-865e-20daef3f8c3f",
   "metadata": {},
   "source": [
    "Scatter plots are useful for studying the binary relation between two _numerical_ variables."
   ]
  },
  {
   "cell_type": "code",
   "execution_count": null,
   "id": "e46018d2-e7f0-4894-8be3-d050a1ccddf5",
   "metadata": {
    "tags": []
   },
   "outputs": [],
   "source": [
    "fig = px.scatter(data_frame=google_play_apps_df, x=\"Size\", y=\"Rating\")\n",
    "\n",
    "fig.show()"
   ]
  },
  {
   "cell_type": "markdown",
   "id": "fe707569-032c-48e9-9813-950ee0810c59",
   "metadata": {},
   "source": [
    "Most top rated apps are optimally sized between ~2MB to ~40MB - neither too light nor too heavy."
   ]
  },
  {
   "cell_type": "markdown",
   "id": "f83cc01f-79e5-4ccf-9393-fa581554620f",
   "metadata": {},
   "source": [
    "# App reviews"
   ]
  },
  {
   "cell_type": "markdown",
   "id": "4be2df7f-3f3d-4aa6-8340-60f5c280a473",
   "metadata": {},
   "source": [
    "## Review sentiment"
   ]
  },
  {
   "cell_type": "code",
   "execution_count": null,
   "id": "e4a277e7-0694-422a-bb8a-110f8f5e75ab",
   "metadata": {},
   "outputs": [],
   "source": [
    "google_play_apps_reviews_df.head()"
   ]
  },
  {
   "cell_type": "code",
   "execution_count": null,
   "id": "dea77dfb-b1ae-409b-9636-4c7176ce556a",
   "metadata": {
    "tags": []
   },
   "outputs": [],
   "source": [
    "google_play_apps_reviews_df[\"Sentiment\"].value_counts()"
   ]
  },
  {
   "cell_type": "markdown",
   "id": "ceba8753-ed75-4f5e-85ad-c4d2d425ce38",
   "metadata": {},
   "source": [
    "The `Sentiment` has three values:\n",
    "\n",
    "1. `Positive`: the app review is positive.\n",
    "2. `Neutral`: the app review is neutral.\n",
    "3. `Negative`: the app review is negative.\n",
    "\n"
   ]
  },
  {
   "cell_type": "markdown",
   "id": "ac7e01cd-e10a-4d2b-9458-adbc1d10b88a",
   "metadata": {},
   "source": [
    "## Merging"
   ]
  },
  {
   "cell_type": "markdown",
   "id": "1df40219-def1-4c59-acfe-03d80cbce320",
   "metadata": {},
   "source": [
    "The `App` column is common between the two dataframes. We can _merge_ the two dataframes using this columns, to get one dataframe."
   ]
  },
  {
   "cell_type": "code",
   "execution_count": null,
   "id": "84cf73a9-b150-4e59-bdee-254e3a0396be",
   "metadata": {
    "tags": []
   },
   "outputs": [],
   "source": [
    "google_play_apps_df.head(2)"
   ]
  },
  {
   "cell_type": "code",
   "execution_count": null,
   "id": "68fd523b-da5b-4ef0-a8c9-2e9579ea2792",
   "metadata": {
    "tags": []
   },
   "outputs": [],
   "source": [
    "google_play_apps_reviews_df.head(2)"
   ]
  },
  {
   "cell_type": "markdown",
   "id": "fd6ee651-fb06-4e87-a509-af10724d772a",
   "metadata": {},
   "source": [
    "In the `merge` function, we specify the `left` and `right` dataframes:"
   ]
  },
  {
   "cell_type": "code",
   "execution_count": null,
   "id": "69c9845d-a64f-44f7-910a-00c5daf89c64",
   "metadata": {
    "tags": []
   },
   "outputs": [],
   "source": [
    "apps_and_reviews_df = pd.merge(\n",
    "    left=google_play_apps_df, right=google_play_apps_reviews_df\n",
    ")"
   ]
  },
  {
   "cell_type": "code",
   "execution_count": null,
   "id": "b31b02c6-3779-4128-8d31-d48dc3eb8b2f",
   "metadata": {},
   "outputs": [],
   "source": [
    "apps_and_reviews_df.head()"
   ]
  },
  {
   "cell_type": "markdown",
   "id": "1e47736c-8778-4e16-b2c9-e9486f9329da",
   "metadata": {},
   "source": [
    "We can see that columns from `apps_and_reviews_df` have been added to the `google_play_apps_df`."
   ]
  },
  {
   "cell_type": "markdown",
   "id": "c729bbe1-189d-42a6-bc3b-4440cf1f277c",
   "metadata": {},
   "source": [
    "## App sentiment values"
   ]
  },
  {
   "cell_type": "markdown",
   "id": "3e5f5e3b-1b36-47ee-968e-759ef29ec46b",
   "metadata": {},
   "source": [
    "After merging the data, now we can inspect the `Sentiment` values for each app:"
   ]
  },
  {
   "cell_type": "code",
   "execution_count": null,
   "id": "b9ac97db-0c79-4380-8a01-4126a7dd6d39",
   "metadata": {},
   "outputs": [],
   "source": [
    "apps_and_reviews_df[[\"App\", \"Sentiment\"]]"
   ]
  },
  {
   "cell_type": "markdown",
   "id": "56e728b6-88a5-4898-924d-880a2792b126",
   "metadata": {},
   "source": [
    "Right now, the data is in _long format_, for each app we have several different sentiment values.\n",
    "\n",
    "An easier way to look at the data is to transform it into _wide format_, where the different Sentiment values become columns with their values aggregated by app."
   ]
  },
  {
   "cell_type": "markdown",
   "id": "9addab88-90d5-4a94-882d-04f9c8902a65",
   "metadata": {},
   "source": [
    "**NOTE**: the following code cell will only work if your `pandas` version is `1.4.2` or higher. At the time of developing this notebook, `pandas` version is `1.3.5`, therfore, the following code cell will raise an excpetion."
   ]
  },
  {
   "cell_type": "code",
   "execution_count": null,
   "id": "80172d36-5d5b-4eaa-8fc8-a25ab4e1f23c",
   "metadata": {
    "tags": []
   },
   "outputs": [],
   "source": [
    "apps_sentiment_df = (\n",
    "    apps_and_reviews_df.groupby(by=\"App\", as_index=False)[\"Sentiment\"]\n",
    "    .value_counts()\n",
    "    .pivot(index=\"App\", columns=\"Sentiment\", values=\"count\")\n",
    "    .sort_values(by=[\"Positive\", \"Neutral\", \"Negative\"], ascending=False)\n",
    "    .fillna(0)\n",
    ")"
   ]
  },
  {
   "cell_type": "code",
   "execution_count": null,
   "id": "863880c5-d8ab-4f9e-81bb-714c4dd0479e",
   "metadata": {
    "tags": []
   },
   "outputs": [],
   "source": [
    "apps_sentiment_df"
   ]
  },
  {
   "cell_type": "markdown",
   "id": "e6ce4ae4-275e-402e-8016-d35b4f48e2c8",
   "metadata": {},
   "source": [
    "The following image explains how the `pivot` function works:"
   ]
  },
  {
   "cell_type": "markdown",
   "id": "dc5adf2c-395a-4b6c-a00b-db772d49d187",
   "metadata": {},
   "source": [
    "<div>\n",
    "    <img src=\"img/pivot-example.png\" alt='numpy-array-vs-pandas-series' width=\"1000\"/>\n",
    "</div>"
   ]
  },
  {
   "cell_type": "code",
   "execution_count": null,
   "id": "ae17552e-8f00-4972-8a79-781b320aefc9",
   "metadata": {},
   "outputs": [],
   "source": []
  }
 ],
 "metadata": {
  "kernelspec": {
   "display_name": "Python 3 (ipykernel)",
   "language": "python",
   "name": "python3"
  },
  "language_info": {
   "codemirror_mode": {
    "name": "ipython",
    "version": 3
   },
   "file_extension": ".py",
   "mimetype": "text/x-python",
   "name": "python",
   "nbconvert_exporter": "python",
   "pygments_lexer": "ipython3",
   "version": "3.9.7 (default, Sep 16 2021, 16:59:28) [MSC v.1916 64 bit (AMD64)]"
  },
  "toc-autonumbering": true,
  "vscode": {
   "interpreter": {
    "hash": "6b06815203ddd92f5faa4842166b29684388ac14e401fa79d1b33b92504025b6"
   }
  }
 },
 "nbformat": 4,
 "nbformat_minor": 5
}
