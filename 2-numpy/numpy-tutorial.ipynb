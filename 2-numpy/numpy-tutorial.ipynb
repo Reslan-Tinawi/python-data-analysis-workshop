{
 "cells": [
  {
   "cell_type": "markdown",
   "id": "79bb87d0-c238-4f7f-9494-f353b5e1883f",
   "metadata": {},
   "source": [
    "<img src='img/NumPy_logo_2020.svg' alt='NumPy logo' height='50%'>"
   ]
  },
  {
   "cell_type": "markdown",
   "id": "174e4d44-7217-4b41-8ec6-ef583ebf09bc",
   "metadata": {
    "tags": []
   },
   "source": [
    "# Importing `NumPy`"
   ]
  },
  {
   "cell_type": "code",
   "execution_count": null,
   "id": "042ac733-03ae-4eff-a9a3-c31b5739f8f1",
   "metadata": {
    "tags": []
   },
   "outputs": [],
   "source": [
    "import numpy as np"
   ]
  },
  {
   "cell_type": "markdown",
   "id": "1c18befd-637c-49c1-b6d3-36b5c6ac37e5",
   "metadata": {
    "tags": []
   },
   "source": [
    "# `NumPy` and the Data Science ecosystem:"
   ]
  },
  {
   "cell_type": "markdown",
   "id": "a44c1184-5423-4017-80c7-6a67b234f4be",
   "metadata": {},
   "source": [
    "`NumPy` is a multi-dimensional arrays library, forming the basis for scientific computing in Python.\n",
    "\n",
    "It is used in most data science libraries. Thus, having solid knowledge and understanding in it is crucial for any data science practitioner."
   ]
  },
  {
   "cell_type": "markdown",
   "id": "18dd8799-0a81-4ef9-828f-b03c994acd8f",
   "metadata": {},
   "source": [
    "## _On the shoulders of giants_"
   ]
  },
  {
   "cell_type": "markdown",
   "id": "82c1f981-a0d4-49dd-8ce1-1c18e694ce3d",
   "metadata": {},
   "source": [
    "<img src='img/Python-scientific-stack.jpg' alt='pydata-stack' width='1000' height='300'>"
   ]
  },
  {
   "cell_type": "markdown",
   "id": "98d27030-9f81-4bb4-990b-01b5d1b56129",
   "metadata": {
    "jp-MarkdownHeadingCollapsed": true,
    "tags": []
   },
   "source": [
    "# Why `NumPy`?"
   ]
  },
  {
   "cell_type": "markdown",
   "id": "d64b68eb-ab10-4ea8-8b6b-ba2cd488b8bc",
   "metadata": {},
   "source": [
    "This section outlines and contrasts how arrays of data are handled in the Python language itself, and how NumPy improves on this. "
   ]
  },
  {
   "cell_type": "markdown",
   "id": "0b55e6ca-c6dd-4d11-b51b-2dbdc6e51266",
   "metadata": {},
   "source": [
    "The difference between `Python` and `C`:"
   ]
  },
  {
   "cell_type": "markdown",
   "id": "e9f63bd5-6be2-41d9-b90f-118d56e4ea92",
   "metadata": {},
   "source": [
    "`Python` is a dynamic-typing language, meaning that variables are assigned a type at runtime and based on the thier values. Compared with static-typing languages, such as `C` and `Java`, which require that all variables have the right specification at compile time."
   ]
  },
  {
   "cell_type": "markdown",
   "id": "0fd3e20b-bb58-4d72-ab4a-ad5a4596cc37",
   "metadata": {},
   "source": [
    "```c\n",
    "/* C code */\n",
    "int result = 0;\n",
    "for (int i=0; i<100; i++){\n",
    "    result += i;\n",
    "}\n",
    "```"
   ]
  },
  {
   "cell_type": "markdown",
   "id": "4dc7e791-0c15-496d-9c70-293ce92297bc",
   "metadata": {},
   "source": [
    "```python\n",
    "# Python code\n",
    "result = 0\n",
    "for i in range(100):\n",
    "    result += i\n",
    "```"
   ]
  },
  {
   "cell_type": "markdown",
   "id": "32e242e4-d7ed-4da4-a2f0-0d4c3a920224",
   "metadata": {},
   "source": [
    "The flexibility of the `Python` language comes at cost."
   ]
  },
  {
   "cell_type": "markdown",
   "id": "d7539e38-9556-496b-a44a-539d383729df",
   "metadata": {
    "tags": []
   },
   "source": [
    "## Understanding datatypes in `Python`:"
   ]
  },
  {
   "cell_type": "markdown",
   "id": "8472cf85-8638-46a5-ad70-bd54d5543afa",
   "metadata": {
    "tags": []
   },
   "source": [
    "### A `Python` integer is more than just an integer:"
   ]
  },
  {
   "cell_type": "markdown",
   "id": "8bb867d6-d61f-4738-be00-80c671533a21",
   "metadata": {},
   "source": [
    "In `Python`, if we define an integer as `x = 100`, it's not just a _raw_ integer, it's a pointer which contains several values, such as the variable type, the variable size, and others.\n",
    "\n",
    "In comparison to `C`, where an integer is simply a label for position in memory."
   ]
  },
  {
   "cell_type": "markdown",
   "id": "ea05150b-b58d-4746-b850-7dd4de58f522",
   "metadata": {},
   "source": [
    "![Alt text](img/cint_vs_pyint.png)"
   ]
  },
  {
   "cell_type": "markdown",
   "id": "7a1c4fa8-5c07-44e2-b93a-bb6d7fa31428",
   "metadata": {
    "tags": []
   },
   "source": [
    "### A `Python` list is more than just a list:"
   ]
  },
  {
   "cell_type": "code",
   "execution_count": null,
   "id": "d330676f-37db-46bd-bd23-64bd0b911b91",
   "metadata": {},
   "outputs": [],
   "source": [
    "list_of_integers = [0, 1, 2, 3, 4, 5, 6]"
   ]
  },
  {
   "cell_type": "code",
   "execution_count": null,
   "id": "00d30973-026e-4101-bf18-e83f6e2bcbfe",
   "metadata": {},
   "outputs": [],
   "source": [
    "print(type(list_of_integers))\n",
    "print([type(elem) for elem in list_of_integers])"
   ]
  },
  {
   "cell_type": "code",
   "execution_count": null,
   "id": "cc6a6aaa-3fd8-470b-b6b4-28e928526c57",
   "metadata": {},
   "outputs": [],
   "source": [
    "list_of_floats = [1.4, 2.5, 6.7, 9.1, 3.14]"
   ]
  },
  {
   "cell_type": "code",
   "execution_count": null,
   "id": "a6a8a664-cd48-44bc-afac-8031a2f9f631",
   "metadata": {
    "tags": []
   },
   "outputs": [],
   "source": [
    "print(type(list_of_floats))\n",
    "print([type(elem) for elem in list_of_floats])"
   ]
  },
  {
   "cell_type": "code",
   "execution_count": null,
   "id": "7c23fea1-e8fd-4ab4-a51c-2e9b6e7e8858",
   "metadata": {},
   "outputs": [],
   "source": [
    "list_of_strings = [\"Hello\", \"World\"]"
   ]
  },
  {
   "cell_type": "code",
   "execution_count": null,
   "id": "76398ef8-26c2-40f0-891e-c4961131632e",
   "metadata": {},
   "outputs": [],
   "source": [
    "print(type(list_of_strings))\n",
    "print([type(elem) for elem in list_of_strings])"
   ]
  },
  {
   "cell_type": "markdown",
   "id": "d634fa4f-415e-457c-80ce-1e85a87ea90f",
   "metadata": {},
   "source": [
    "Now, because of Python's dynamic typing, we can even create **heterogeneous** lists:"
   ]
  },
  {
   "cell_type": "code",
   "execution_count": null,
   "id": "a096a814-6708-4ddd-af44-13de8192f4d1",
   "metadata": {},
   "outputs": [],
   "source": [
    "list_of_mixed_types = [True, \"2\", 3.0, 4]"
   ]
  },
  {
   "cell_type": "code",
   "execution_count": null,
   "id": "fe640375-76fa-4c97-8f6c-31b1a9a75c81",
   "metadata": {},
   "outputs": [],
   "source": [
    "print(type(list_of_mixed_types))\n",
    "print([type(elem) for elem in list_of_mixed_types])"
   ]
  },
  {
   "cell_type": "markdown",
   "id": "a08316cf-fc73-4ad7-83b2-2ff2e42170f8",
   "metadata": {},
   "source": [
    "This figure shows the difference between `NumPy` array and `Python` list:"
   ]
  },
  {
   "cell_type": "markdown",
   "id": "5d473cae-3d43-40c4-b6fc-9543d1c52aed",
   "metadata": {},
   "source": [
    "![Alt text](img/array_vs_list.png)"
   ]
  },
  {
   "cell_type": "markdown",
   "id": "498c28bd-55ac-4da5-8950-3feb71edf075",
   "metadata": {},
   "source": [
    "The `NumPy` array essentially contains a single pointer to one contiguous block of data. The Python list, on the other hand, contains a pointer to a block of pointers, each of which in turn points to a full Python object like the Python integer we saw earlier."
   ]
  },
  {
   "cell_type": "markdown",
   "id": "44a564f2-42c2-4f15-9e9f-0a9d08a96694",
   "metadata": {
    "tags": []
   },
   "source": [
    "# The `NumPy` array data structure (`ndarray`):"
   ]
  },
  {
   "cell_type": "markdown",
   "id": "999fe04b-5b08-4920-82d9-1fa4244d4a61",
   "metadata": {},
   "source": [
    "An array object represents a multidimensional, **homogeneous** array of fixed-size items. An associated data-type object describes the format of each element in the array (its byte-order, how many bytes it occupies in memory, whether it is an integer, a floating point number, or something else, etc.)"
   ]
  },
  {
   "cell_type": "markdown",
   "id": "094a93e5-adfe-4989-9a95-d61faf41eec5",
   "metadata": {},
   "source": [
    "The difference between dynamic-type list and a fixed-type.\n",
    "\n",
    "`NumPy` arrays **must be** of the same data type.\n",
    "\n",
    "`NumPy` arrays are typed arrays of fixed size. Python lists are **heterogeneous** and thus elements of a list may contain any object type, while NumPy arrays are **homogenous** and can contain object of only one type. An ndarray consists of two parts, which are as follows:\n",
    "\n",
    "    1. The actual data that is stored in a contiguous block of memory\n",
    "    2. The metadata describing the actual data\n"
   ]
  },
  {
   "cell_type": "markdown",
   "id": "686e50bb-85fc-42b3-8c42-c7004d35b8b3",
   "metadata": {},
   "source": [
    "## One, Two, Three, and Four dimensional arrays (vector, matrix, and tensor):"
   ]
  },
  {
   "cell_type": "markdown",
   "id": "50290ca9-f0e0-47da-a28f-a4375e6b46e6",
   "metadata": {},
   "source": [
    "![1d-2d-3d-arrays](img/numpy-1d-2d-3d-arrays.png)"
   ]
  },
  {
   "cell_type": "markdown",
   "id": "02c9287e-57db-41f1-9715-719de3d087e5",
   "metadata": {
    "execution": {
     "iopub.execute_input": "2022-09-16T12:59:34.787062Z",
     "iopub.status.busy": "2022-09-16T12:59:34.786081Z",
     "iopub.status.idle": "2022-09-16T12:59:34.844262Z",
     "shell.execute_reply": "2022-09-16T12:59:34.842280Z",
     "shell.execute_reply.started": "2022-09-16T12:59:34.787062Z"
    },
    "tags": []
   },
   "source": [
    "![4d-arrays](img/numpy-4d-array.png)"
   ]
  },
  {
   "cell_type": "markdown",
   "id": "b80fdf8f-5cdd-48d0-bc7f-55e873e2c507",
   "metadata": {},
   "source": [
    "### A word on one dimensional arrays:"
   ]
  },
  {
   "cell_type": "markdown",
   "id": "2675aded-792a-4017-9d53-7d7dd986d82b",
   "metadata": {},
   "source": [
    "A one-dimensional array can be thought of as a column or row vector."
   ]
  },
  {
   "cell_type": "code",
   "execution_count": null,
   "id": "5871cbef-1e01-45c3-ae8b-97ffbbc0ce5e",
   "metadata": {
    "tags": []
   },
   "outputs": [],
   "source": [
    "A = np.arange(1, 6)"
   ]
  },
  {
   "cell_type": "code",
   "execution_count": null,
   "id": "8c6d47c8-9a93-472f-bd24-9e96d7429ba2",
   "metadata": {
    "tags": []
   },
   "outputs": [],
   "source": [
    "A"
   ]
  },
  {
   "cell_type": "code",
   "execution_count": null,
   "id": "8a2c703f-a9d6-40bf-83ff-90622cbdd856",
   "metadata": {
    "tags": []
   },
   "outputs": [],
   "source": [
    "A.shape"
   ]
  },
  {
   "cell_type": "markdown",
   "id": "5ec631c5-00c3-45be-b499-86c15ea589ac",
   "metadata": {},
   "source": [
    "![1d-array-equivalence](img/one-dimensional-array.png)"
   ]
  },
  {
   "cell_type": "markdown",
   "id": "606ff230-a170-498d-8b60-87e8d7cd4663",
   "metadata": {
    "tags": []
   },
   "source": [
    "## Creating arrays:\n",
    "\n",
    "Unlike Python lists, NumPy is constrained to arrays that all contain the same type. If types do not match, NumPy will upcast if possible"
   ]
  },
  {
   "cell_type": "markdown",
   "id": "d6ebc690-188a-4ce8-9d1f-6ebf9c1ce783",
   "metadata": {
    "tags": []
   },
   "source": [
    "### From `Python` lists:"
   ]
  },
  {
   "cell_type": "code",
   "execution_count": null,
   "id": "120b892e-9a47-4d8b-8cb0-2e31911394b2",
   "metadata": {
    "tags": []
   },
   "outputs": [],
   "source": [
    "one_d_arr = np.array([1, 2, 3, 4, 5])\n",
    "two_d_arr = np.array([[10, 20, 30], [40, 50, 60]])\n",
    "three_d_arr = np.array(\n",
    "    [[[12, 14, 16, 18], [22, 24, 26, 28]], [[33, 35, 37, 39], [43, 45, 57, 49]]]\n",
    ")"
   ]
  },
  {
   "cell_type": "code",
   "execution_count": null,
   "id": "a101b07b-c44f-49db-abfd-d01c7e7f7f4b",
   "metadata": {
    "tags": []
   },
   "outputs": [],
   "source": [
    "array_a_3d = np.array([[[1, 2], [5, 7]], [[5, 7], [3, 10]]])\n",
    "\n",
    "array_b_3d = np.array([[[1, 6], [3, 9]], [[8, 3], [9, 1]]])\n",
    "\n",
    "array_c_3d = np.array([[[9, 2], [2, 2]], [[4, 7], [3, 9]]])\n",
    "\n",
    "array_d_3d = np.array([[[8, 1], [5, 7]], [[0, 3], [2, 7]]])\n",
    "\n",
    "array_e_3d = np.array([[[4, 2], [1, 7]], [[2, 8], [9, 6]]])\n",
    "\n",
    "array_f_3d = np.array([[[1, 8], [3, 1]], [[3, 7], [1, 9]]])\n",
    "\n",
    "array_g_3d = np.array([[[4, 3], [4, 7]], [[4, 8], [3, 6]]])\n",
    "\n",
    "array_h_3d = np.array([[[6, 5], [5, 6]], [[9, 3], [9, 4]]])\n",
    "\n",
    "array_i_3d = np.array([[[8, 9], [5, 1]], [[2, 1], [3, 4]]])\n",
    "\n",
    "four_d_arr = np.array(\n",
    "    [\n",
    "        array_a_3d,\n",
    "        array_b_3d,\n",
    "        array_c_3d,\n",
    "        array_d_3d,\n",
    "        array_e_3d,\n",
    "        array_f_3d,\n",
    "        array_g_3d,\n",
    "        array_h_3d,\n",
    "        array_i_3d,\n",
    "    ]\n",
    ")"
   ]
  },
  {
   "cell_type": "markdown",
   "id": "0f7de7e0-79c1-4343-8402-4a662441bf7b",
   "metadata": {
    "tags": []
   },
   "source": [
    "### Using built-in functions:\n",
    "\n",
    "- `np.arange`\n",
    "- `np.zeros`\n",
    "- `np.ones`\n",
    "- `np.full`\n",
    "- `np.eye`"
   ]
  },
  {
   "cell_type": "code",
   "execution_count": null,
   "id": "89c89c42-d4c1-4921-8e83-1a278dd76330",
   "metadata": {},
   "outputs": [],
   "source": [
    "# Create an array filled with a linear sequence\n",
    "# Starting at 0, ending at 20, stepping by 2\n",
    "# (this is similar to the built-in range() function)\n",
    "np.arange(0, 20, 2)"
   ]
  },
  {
   "cell_type": "code",
   "execution_count": null,
   "id": "01934e4e-53ac-45df-a1a3-a582bf69347a",
   "metadata": {
    "tags": []
   },
   "outputs": [],
   "source": [
    "zeros = np.zeros((10, 2))  # ten rows by two columns"
   ]
  },
  {
   "cell_type": "code",
   "execution_count": null,
   "id": "91174e71-9855-45dd-a276-4ecace446f40",
   "metadata": {},
   "outputs": [],
   "source": [
    "zeros"
   ]
  },
  {
   "cell_type": "code",
   "execution_count": null,
   "id": "3958d1bb-7b84-41bf-8bfc-2b47e5d7de69",
   "metadata": {
    "tags": []
   },
   "outputs": [],
   "source": [
    "# create a three by five of floats initialized with ones\n",
    "ones = np.ones((3, 5), dtype=np.float32)"
   ]
  },
  {
   "cell_type": "code",
   "execution_count": null,
   "id": "9c5ca2e7-29a8-4e51-b2a7-a38c12a7c65e",
   "metadata": {
    "tags": []
   },
   "outputs": [],
   "source": [
    "ones"
   ]
  },
  {
   "cell_type": "code",
   "execution_count": null,
   "id": "1f6625dc-6e4e-4367-a4d8-101e8fc6b5ae",
   "metadata": {},
   "outputs": [],
   "source": [
    "pie_array = np.full(shape=(2, 2), fill_value=3.14, dtype=float)"
   ]
  },
  {
   "cell_type": "code",
   "execution_count": null,
   "id": "32f5ef44-d2ca-40f5-a63a-d05fc7714780",
   "metadata": {},
   "outputs": [],
   "source": [
    "pie_array"
   ]
  },
  {
   "cell_type": "markdown",
   "id": "01d4e77a-c05a-40a1-be8f-d9f47a37dc87",
   "metadata": {},
   "source": [
    "### Random arrays:\n",
    "\n",
    "- `np.random.randint`\n",
    "- `np.random.random`\n",
    "- `np.random.randn`\n",
    "- `np.random.normal`\n",
    "- `np.random.uniform`"
   ]
  },
  {
   "cell_type": "code",
   "execution_count": null,
   "id": "0d763b46-2e47-479d-8381-d87ac1162ddc",
   "metadata": {},
   "outputs": [],
   "source": [
    "# Create a 3x3 array of random integers in the interval [0, 10)\n",
    "np.random.randint(0, 10, (3, 3))"
   ]
  },
  {
   "cell_type": "code",
   "execution_count": null,
   "id": "8f18ce05-6d11-4908-90a0-7437bba7f0f3",
   "metadata": {},
   "outputs": [],
   "source": [
    "# Create a 3x3 array of uniformly distributed\n",
    "# random values between 0 and 1\n",
    "np.random.random((3, 3))"
   ]
  },
  {
   "cell_type": "code",
   "execution_count": null,
   "id": "2420c17e-5682-4d8e-ba3b-ae29049df649",
   "metadata": {},
   "outputs": [],
   "source": [
    "# Create a 3x3 array of normally distributed random values\n",
    "# with mean 0 and standard deviation 1\n",
    "np.random.normal(0, 1, (3, 3))"
   ]
  },
  {
   "cell_type": "markdown",
   "id": "ee719c5e-2a14-41c8-863c-2727b4bf09f9",
   "metadata": {},
   "source": [
    "## Array attributes"
   ]
  },
  {
   "cell_type": "markdown",
   "id": "9832d494-82f3-4bf4-a3ab-d589b47ede69",
   "metadata": {},
   "source": [
    "Each array has the following attributes:\n",
    "\n",
    "- `ndim`: the number of dimensions.\n",
    "- `shape`: the size of each dimension.\n",
    "- `size`: the total size of the array.\n",
    "- `dtype`: the data type of the array.\n",
    "- `itemsize`: the size (in bytes) of each array element.\n",
    "- `nbytes`: which lists the total size (in bytes) of the array (`itemsize` * `size`)."
   ]
  },
  {
   "cell_type": "code",
   "execution_count": null,
   "id": "5c353a98-0234-4615-9001-4d0778828539",
   "metadata": {
    "tags": []
   },
   "outputs": [],
   "source": [
    "def print_array_attributes(input_arr: np.ndarray):\n",
    "    print(f\"shape: {input_arr.shape}\")\n",
    "    print(f\"ndim: {input_arr.ndim}\")\n",
    "    print(f\"size: {input_arr.size}\")\n",
    "    print(f\"dtype: {input_arr.dtype}\")\n",
    "    print(f\"nbytes: {input_arr.nbytes}\")\n",
    "    print(f\"itemsize: {input_arr.itemsize}\")"
   ]
  },
  {
   "cell_type": "code",
   "execution_count": null,
   "id": "fcacc07b-c04f-4712-9787-7ba8ce6038e8",
   "metadata": {},
   "outputs": [],
   "source": [
    "print_array_attributes(one_d_arr)"
   ]
  },
  {
   "cell_type": "code",
   "execution_count": null,
   "id": "fc2c4d95-4bb2-4043-b60d-2b65fdab1429",
   "metadata": {},
   "outputs": [],
   "source": [
    "print_array_attributes(two_d_arr)"
   ]
  },
  {
   "cell_type": "code",
   "execution_count": null,
   "id": "3aeb2053-edce-4501-b76d-cf2afff0eb56",
   "metadata": {},
   "outputs": [],
   "source": [
    "print_array_attributes(three_d_arr)"
   ]
  },
  {
   "cell_type": "code",
   "execution_count": null,
   "id": "f9e0b3ab-e7ae-49ca-8477-b23f1c07df7d",
   "metadata": {
    "tags": []
   },
   "outputs": [],
   "source": [
    "print_array_attributes(four_d_arr)"
   ]
  },
  {
   "cell_type": "markdown",
   "id": "6edb19ba-64f9-4488-8bdc-d5a2d7a67795",
   "metadata": {
    "tags": []
   },
   "source": [
    "# `NumPy` data types:"
   ]
  },
  {
   "cell_type": "markdown",
   "id": "6a532aff-a28a-4e52-8139-ed3eac9b812d",
   "metadata": {},
   "source": [
    "As we mentioned earlier, `NumPy` arrays contain values of a single type (**homogeneous** arrays).\n",
    "\n",
    "Common `NumPy` data types (full list can be found [here](https://numpy.org/doc/stable/user/basics.types.html)):\n",
    "\n",
    "- `bool_`: Boolean (True or False) stored as a byte\n",
    "- `int32`: Integer 2<sup>32</sup> (-2147483648 to 2147483647)\n",
    "- `int64`: Integer 2<sup>64</sup> (-9223372036854775808 to 9223372036854775807)\n",
    "- `float16`: Half precision float: sign bit, 5 bits exponent, 10 bits mantissa\n",
    "- `float32`: Single precision float: sign bit, 8 bits exponent, 23 bits mantissa\n",
    "- `float64`: Double precision float: sign bit, 11 bits exponent, 52 bits mantissa"
   ]
  },
  {
   "cell_type": "markdown",
   "id": "364cb1c8-4b1e-4678-a8ee-15a4a619422b",
   "metadata": {},
   "source": [
    "When creating arrays, we can use the `dtype` argument to specify the data type of elements in the array."
   ]
  },
  {
   "cell_type": "markdown",
   "id": "232bf88f-5559-4838-9fc9-112accb14523",
   "metadata": {
    "tags": []
   },
   "source": [
    "## boolean arrays:"
   ]
  },
  {
   "cell_type": "code",
   "execution_count": null,
   "id": "d751a267-73a0-40a6-86d7-09ff2d9ba12b",
   "metadata": {
    "tags": []
   },
   "outputs": [],
   "source": [
    "bool_array = np.array([True, False, False])  # NumPy will infer the appropriate dtype\n",
    "another_bool_array = np.array(\n",
    "    [1, 0, 0], dtype=np.bool_\n",
    ")  # explicityly specify data type using dtype argument"
   ]
  },
  {
   "cell_type": "code",
   "execution_count": null,
   "id": "2b016018-3e2a-40b0-a03d-64177c9f676b",
   "metadata": {
    "tags": []
   },
   "outputs": [],
   "source": [
    "print(bool_array)\n",
    "print(another_bool_array)"
   ]
  },
  {
   "cell_type": "code",
   "execution_count": null,
   "id": "7161795d-3125-4c6b-a434-58692e3fbb2f",
   "metadata": {},
   "outputs": [],
   "source": [
    "print(bool_array.dtype)\n",
    "print(another_bool_array.dtype)"
   ]
  },
  {
   "cell_type": "markdown",
   "id": "17d555a1-ca89-499b-9b81-c41b65945d16",
   "metadata": {
    "tags": []
   },
   "source": [
    "## Numeric arrays:"
   ]
  },
  {
   "cell_type": "code",
   "execution_count": null,
   "id": "65be7695-6eaf-4dc2-8961-3642e2d85671",
   "metadata": {
    "tags": []
   },
   "outputs": [],
   "source": [
    "int_array = np.array([20, 30, 40])\n",
    "float_array = np.array([3.14, 2.5, 0.9])\n",
    "float32_array = np.array([3.14, 2.5, 0.9], dtype=np.float32)"
   ]
  },
  {
   "cell_type": "code",
   "execution_count": null,
   "id": "bb6e6bd3-4e0d-4d98-8e4e-08f292a6ebcd",
   "metadata": {
    "tags": []
   },
   "outputs": [],
   "source": [
    "print(int_array.dtype)\n",
    "print(float_array.dtype)\n",
    "print(float32_array.dtype)"
   ]
  },
  {
   "cell_type": "code",
   "execution_count": null,
   "id": "f998e039-771d-4a56-91fe-36bce74523bb",
   "metadata": {
    "tags": []
   },
   "outputs": [],
   "source": [
    "print(float_array.nbytes)\n",
    "print(float32_array.nbytes)"
   ]
  },
  {
   "cell_type": "markdown",
   "id": "39f46fe1-19db-411f-816f-60a3ae9a3063",
   "metadata": {
    "tags": []
   },
   "source": [
    "It's important to pay attention to the array data type. Using the appropriate data type will improve performance as it requires less memory."
   ]
  },
  {
   "cell_type": "markdown",
   "id": "ac11e45c-6a7c-48fa-b83d-0d8589bf3f61",
   "metadata": {},
   "source": [
    "## Mixed types:"
   ]
  },
  {
   "cell_type": "markdown",
   "id": "e50b01a0-ea84-451e-af07-0d7bc4f13560",
   "metadata": {},
   "source": [
    "What happens when we create an array with mixed types?\n",
    "- integer and float.\n",
    "- float and string.\n",
    "- bool and float.\n",
    "\n",
    "etc ..."
   ]
  },
  {
   "cell_type": "markdown",
   "id": "7a15418b-f22f-409b-aab8-c893ea55df40",
   "metadata": {},
   "source": [
    "As we mentioned before, unlike `Python` lists, `NumPy` is constrained to arrays that all contain the same type. Therefore, if types do not match, `NumPy` will upcast if possible, meaning that all the elements are cast into the largest type (a process known as **upcasting**).\n",
    "\n"
   ]
  },
  {
   "cell_type": "code",
   "execution_count": null,
   "id": "3d88e0da-3d97-41bd-9a20-2ea3e297abb4",
   "metadata": {
    "tags": []
   },
   "outputs": [],
   "source": [
    "mixed_array_1 = np.array([1, 1.5, 2])  # upcast integer to float\n",
    "mixed_array_2 = np.array([3.14, 2.9, \"Hello\", \"world\"])  # upcast float to unicode\n",
    "mixed_array_3 = np.array([True, False, 9.9])  # upcast bool to float"
   ]
  },
  {
   "cell_type": "markdown",
   "id": "53b4e99c-389b-487d-a470-28b1fced51f8",
   "metadata": {
    "tags": []
   },
   "source": [
    "# Array indexing, slicing, and reshaping:"
   ]
  },
  {
   "cell_type": "markdown",
   "id": "e3ef6e4f-89dc-4605-b6e5-b7d91fa511de",
   "metadata": {},
   "source": [
    "- Indexing of arrays: Getting and setting the value of individual array elements.\n",
    "- Slicing of arrays: Getting and setting smaller subarrays within a larger array.\n",
    "- Reshaping of arrays: Changing the shape of a given array."
   ]
  },
  {
   "cell_type": "markdown",
   "id": "257d7bb7-5a60-42e7-9e09-834d4acc4dbc",
   "metadata": {
    "tags": []
   },
   "source": [
    "## Indexing:"
   ]
  },
  {
   "cell_type": "markdown",
   "id": "b8cbafba-15b9-409c-a933-0f21f467bd22",
   "metadata": {},
   "source": [
    "### One dimensional arrays:"
   ]
  },
  {
   "cell_type": "code",
   "execution_count": null,
   "id": "8e6d69da-4808-4aa7-94bd-78d853351f74",
   "metadata": {},
   "outputs": [],
   "source": [
    "one_d_arr"
   ]
  },
  {
   "cell_type": "markdown",
   "id": "50cf50f6-e2fa-4db8-8de4-26e275377df0",
   "metadata": {},
   "source": [
    "Accessing the first element of a one dimensional array:"
   ]
  },
  {
   "cell_type": "code",
   "execution_count": null,
   "id": "e67011bc-1098-4266-add1-a11dd80dc9a6",
   "metadata": {},
   "outputs": [],
   "source": [
    "one_d_arr[0]"
   ]
  },
  {
   "cell_type": "markdown",
   "id": "40246a51-2457-4fa2-8292-bf764bde6167",
   "metadata": {},
   "source": [
    "Accessing the last element of a one dimensional array:"
   ]
  },
  {
   "cell_type": "code",
   "execution_count": null,
   "id": "4e280488-45f3-4e68-a7d7-9fbd490df2c5",
   "metadata": {},
   "outputs": [],
   "source": [
    "one_d_arr[-1]"
   ]
  },
  {
   "cell_type": "markdown",
   "id": "cee4ee29-b184-4722-a794-28d1dd689f2c",
   "metadata": {},
   "source": [
    "Setting a value of a given index:"
   ]
  },
  {
   "cell_type": "code",
   "execution_count": null,
   "id": "b90eae9c-10ba-4152-a660-af0a243f62f8",
   "metadata": {},
   "outputs": [],
   "source": [
    "one_d_arr[0] = 99"
   ]
  },
  {
   "cell_type": "code",
   "execution_count": null,
   "id": "89bfed34-514a-4b9b-86a7-e5599631cd68",
   "metadata": {},
   "outputs": [],
   "source": [
    "one_d_arr"
   ]
  },
  {
   "cell_type": "markdown",
   "id": "8b8769db-22a4-43c4-89e4-d039e85084fb",
   "metadata": {},
   "source": [
    "### Two dimensional arrays:"
   ]
  },
  {
   "cell_type": "code",
   "execution_count": null,
   "id": "31fd219c-9a1b-4513-80c6-b27b7d79e2f9",
   "metadata": {},
   "outputs": [],
   "source": [
    "two_d_arr"
   ]
  },
  {
   "cell_type": "code",
   "execution_count": null,
   "id": "efe6e61a-beef-47ef-8d20-5ae1996e25a2",
   "metadata": {},
   "outputs": [],
   "source": [
    "# accessing first row and first column\n",
    "two_d_arr[0, 0]"
   ]
  },
  {
   "cell_type": "code",
   "execution_count": null,
   "id": "1f73c6a1-26c5-4fd1-9011-f3f08b1efc31",
   "metadata": {},
   "outputs": [],
   "source": [
    "# accessing second row and last column\n",
    "two_d_arr[1, -1]"
   ]
  },
  {
   "cell_type": "markdown",
   "id": "b044c42e-7930-422c-90e5-f891a0b62311",
   "metadata": {},
   "source": [
    "Setting a value of a given index:"
   ]
  },
  {
   "cell_type": "code",
   "execution_count": null,
   "id": "68fefbfe-6de8-49ac-a480-e267aeb24fbd",
   "metadata": {},
   "outputs": [],
   "source": [
    "two_d_arr[0, 2] = 100"
   ]
  },
  {
   "cell_type": "code",
   "execution_count": null,
   "id": "316f6cd4-c03d-4cf7-92aa-df587ebaf55f",
   "metadata": {},
   "outputs": [],
   "source": [
    "two_d_arr"
   ]
  },
  {
   "cell_type": "markdown",
   "id": "e10cdd04-bf54-44b0-bb54-85df063bd6b4",
   "metadata": {
    "tags": []
   },
   "source": [
    "## Slicing:"
   ]
  },
  {
   "cell_type": "markdown",
   "id": "4121809c-c2f8-4cf9-8fe4-ad2427da861c",
   "metadata": {},
   "source": [
    "### One dimensional arrays:"
   ]
  },
  {
   "cell_type": "code",
   "execution_count": null,
   "id": "7d134f3f-308b-4eb2-9965-1b5c89e120a4",
   "metadata": {},
   "outputs": [],
   "source": [
    "print(one_d_arr)"
   ]
  },
  {
   "cell_type": "code",
   "execution_count": null,
   "id": "ee011f0e-9b5e-4242-a26b-f13c3008acd5",
   "metadata": {},
   "outputs": [],
   "source": [
    "# first three elements\n",
    "one_d_arr[:3]"
   ]
  },
  {
   "cell_type": "code",
   "execution_count": null,
   "id": "0824559b-821a-4322-b14d-3d668187635a",
   "metadata": {
    "tags": []
   },
   "outputs": [],
   "source": [
    "# last two elements\n",
    "one_d_arr[-2:]"
   ]
  },
  {
   "cell_type": "code",
   "execution_count": null,
   "id": "a666df56-4869-4d17-a85c-26e90971a601",
   "metadata": {
    "tags": []
   },
   "outputs": [],
   "source": [
    "# 2 as step, starting from zero\n",
    "one_d_arr[::2]"
   ]
  },
  {
   "cell_type": "markdown",
   "id": "1dd1ac6a-debc-4ffd-9ddd-016cbd4d3af8",
   "metadata": {},
   "source": [
    "### Two dimensional arrays:"
   ]
  },
  {
   "cell_type": "code",
   "execution_count": null,
   "id": "cda3a05e-d9ed-43c7-a634-792bbe9c17cb",
   "metadata": {},
   "outputs": [],
   "source": [
    "two_d_arr"
   ]
  },
  {
   "cell_type": "code",
   "execution_count": null,
   "id": "296f8bc2-220c-419e-a645-32b84c93f65c",
   "metadata": {},
   "outputs": [],
   "source": [
    "# all columns of first row, equivalent to: two_d_arr[0]\n",
    "two_d_arr[0, :]"
   ]
  },
  {
   "cell_type": "code",
   "execution_count": null,
   "id": "916b36b7-7163-4046-add8-6ae87bc68355",
   "metadata": {
    "tags": []
   },
   "outputs": [],
   "source": [
    "# all rows and columns, starting from the second column\n",
    "two_d_arr[:, 1:]"
   ]
  },
  {
   "cell_type": "markdown",
   "id": "4cb93a8d-f834-4096-96fb-ca7a94dc76ba",
   "metadata": {
    "tags": []
   },
   "source": [
    "## Reshaping:"
   ]
  },
  {
   "cell_type": "markdown",
   "id": "ab75fec3-5083-4133-b5c2-5d7db2fa2d53",
   "metadata": {},
   "source": [
    "### Example 1:"
   ]
  },
  {
   "cell_type": "markdown",
   "id": "782fc4ed-1614-4cb4-8459-6b8246c62339",
   "metadata": {},
   "source": [
    "In some cases, we might need to convert an array to a different shape. For example:\n",
    "\n",
    "1. One dimensional array (vector) to two dimensions array (matrix)\n",
    "2. Two dimensions array (matrix) to three dimensions array (tensor)\n",
    "\n",
    "This might occur, for example, when preparing our data to be fed to a machine learning model. Most commonly, a data array should be of two dimensions with `n` rows and `m` columns, where `n` is the number of samples and `m` is the number of features.\n",
    "\n",
    "However, we might have this data as a one dimensional array."
   ]
  },
  {
   "cell_type": "markdown",
   "id": "852409d3-0e6b-4e96-9c67-f873c3c6c3e7",
   "metadata": {},
   "source": [
    "The below figure shows a one dimensional dataset, where each sample consists of three features (`Age`, `Height`, and `Weight`), and how it looks like after reshaping."
   ]
  },
  {
   "cell_type": "markdown",
   "id": "dd816866-8e45-4206-af5c-642c906a4c87",
   "metadata": {},
   "source": [
    "![one-d-array-before-reshape](img/one-d-array-before-reshape.png)"
   ]
  },
  {
   "cell_type": "markdown",
   "id": "1374bae5-26c4-4c44-905e-f8454cb9bfd1",
   "metadata": {},
   "source": [
    "![2d-array-reshaped](img/two-d-array-after-reshape.png)"
   ]
  },
  {
   "cell_type": "markdown",
   "id": "0ae285f4-7caf-4818-9153-db9253f2cbf3",
   "metadata": {},
   "source": [
    "It's safe to say that the data after reshapin is more common in most applications, thus, reshaping is very important."
   ]
  },
  {
   "cell_type": "markdown",
   "id": "a677f722-af82-4cd0-9c94-6fba3ff2e15e",
   "metadata": {},
   "source": [
    "A `NumPy` array has a `.reshape` method that accepts the `newshape`, which should be _compatible_ with the old shape."
   ]
  },
  {
   "cell_type": "code",
   "execution_count": null,
   "id": "4c7977d1-a346-4641-a5ee-442fe65d0f5d",
   "metadata": {
    "tags": []
   },
   "outputs": [],
   "source": [
    "sample_data_one_d = np.array(\n",
    "    [30, 180, 60, 26, 167, 70, 36, 159, 66, 27, 168, 80], dtype=np.int16\n",
    ")"
   ]
  },
  {
   "cell_type": "code",
   "execution_count": null,
   "id": "4ac5ba49-f4a3-4ee1-8725-bbae52590050",
   "metadata": {},
   "outputs": [],
   "source": [
    "sample_data_one_d.shape"
   ]
  },
  {
   "cell_type": "code",
   "execution_count": null,
   "id": "2b8a7805-4597-44b3-af6d-65c4036ed8fe",
   "metadata": {},
   "outputs": [],
   "source": [
    "sample_data_two_d = sample_data_one_d.reshape(4, 3)"
   ]
  },
  {
   "cell_type": "code",
   "execution_count": null,
   "id": "7c265fdc-8d94-4931-be84-cb51e3b3a1f2",
   "metadata": {},
   "outputs": [],
   "source": [
    "sample_data_two_d.shape"
   ]
  },
  {
   "cell_type": "code",
   "execution_count": null,
   "id": "5fdfc8c4-fbc7-4207-983c-cd1f45c7574c",
   "metadata": {},
   "outputs": [],
   "source": [
    "print(sample_data_two_d)"
   ]
  },
  {
   "cell_type": "markdown",
   "id": "d657e84f-6543-4db4-8673-693a408e6d86",
   "metadata": {},
   "source": [
    "It's possible to pass `-1` for one of the shapes to let `NumPy` _infer_ it (this is useful in case where we care only about one dimension)."
   ]
  },
  {
   "cell_type": "code",
   "execution_count": null,
   "id": "56406593-faa9-4cdd-a21f-a7d9b05b79cf",
   "metadata": {},
   "outputs": [],
   "source": [
    "# infer the number of row, given that the number of columns should be 3\n",
    "sample_data_one_d.reshape(-1, 3)"
   ]
  },
  {
   "cell_type": "code",
   "execution_count": null,
   "id": "04e90b44-910a-449d-9651-82ae967f8a29",
   "metadata": {},
   "outputs": [],
   "source": [
    "# infer the number of columns, given that the number of rows should be 4\n",
    "sample_data_one_d.reshape(4, -1)"
   ]
  },
  {
   "cell_type": "markdown",
   "id": "0cb0a4ab-552d-40e0-b130-66cc64cd1653",
   "metadata": {},
   "source": [
    "### Example 2:"
   ]
  },
  {
   "cell_type": "markdown",
   "id": "35fa3510-0a9e-4f1c-89e9-5d365929f9a7",
   "metadata": {},
   "source": [
    "Reshaping a one dimensional array to a matrix with one column can be handy in certain situations."
   ]
  },
  {
   "cell_type": "code",
   "execution_count": null,
   "id": "a8b7b41d-6e7f-4b67-bdb8-3f81ddad27dd",
   "metadata": {},
   "outputs": [],
   "source": [
    "y_true = np.array([True, False, True, True, False, True, True])"
   ]
  },
  {
   "cell_type": "code",
   "execution_count": null,
   "id": "022cd2a8-854a-4154-b126-ab6817ec1cd5",
   "metadata": {},
   "outputs": [],
   "source": [
    "y_true.shape"
   ]
  },
  {
   "cell_type": "markdown",
   "id": "a54a4f8c-243c-4a28-9a68-127e66f2089a",
   "metadata": {},
   "source": [
    "`NumPy` has a special constant called `newaxis`, which (as the name implies) is used to add a new diemnsion to an exixsting array.\n",
    "\n",
    "- **1D** array will become **2D** array\n",
    "\n",
    "- **2D** array will become **3D** array\n",
    "\n",
    "- **3D** array will become **4D** array\n",
    "\n",
    "and so on"
   ]
  },
  {
   "cell_type": "code",
   "execution_count": null,
   "id": "884ef199-f4d7-4ed8-81d1-b0c2ffd324d0",
   "metadata": {
    "tags": []
   },
   "outputs": [],
   "source": [
    "column_vector = y_true[:, np.newaxis]\n",
    "row_vector = y_true[np.newaxis, :]"
   ]
  },
  {
   "cell_type": "code",
   "execution_count": null,
   "id": "f51d597f-d95e-44a0-820c-2497d567a594",
   "metadata": {},
   "outputs": [],
   "source": [
    "print(column_vector)"
   ]
  },
  {
   "cell_type": "code",
   "execution_count": null,
   "id": "5ce4827e-6210-45f8-b3dc-5cdb9a97dd52",
   "metadata": {},
   "outputs": [],
   "source": [
    "print(column_vector.shape)"
   ]
  },
  {
   "cell_type": "code",
   "execution_count": null,
   "id": "b8f024d3-b07e-4cf0-9d1f-1bcb9d3b8ee9",
   "metadata": {},
   "outputs": [],
   "source": [
    "print(row_vector)"
   ]
  },
  {
   "cell_type": "code",
   "execution_count": null,
   "id": "ee4eb40e-bcc3-4b19-b8f7-fb7b0c70a17d",
   "metadata": {},
   "outputs": [],
   "source": [
    "print(row_vector.shape)"
   ]
  },
  {
   "cell_type": "markdown",
   "id": "78af0aa3-6bfc-459d-a8ce-e8ae9f36152b",
   "metadata": {
    "tags": []
   },
   "source": [
    "# Explaining array axes:"
   ]
  },
  {
   "cell_type": "markdown",
   "id": "9e2c764f-7cb8-4fb0-b622-a4c37432a3fd",
   "metadata": {},
   "source": [
    "In simple words, `NumPy` axes are the directions along the _rows_ and _columns_ of a two-dimensional array.\n",
    "\n",
    "The below figure illustrate this:"
   ]
  },
  {
   "cell_type": "markdown",
   "id": "79155c66-f147-473a-9655-1d8bec4beca0",
   "metadata": {},
   "source": [
    "![2d-array-axes](img/numpy-2d-array-axes.png)"
   ]
  },
  {
   "cell_type": "markdown",
   "id": "25c02ca1-40d3-4302-b641-20449feacc83",
   "metadata": {},
   "source": [
    "For three dimensional arrays:"
   ]
  },
  {
   "cell_type": "markdown",
   "id": "4059f62b-68b0-47af-a5d2-6410c364030c",
   "metadata": {},
   "source": [
    "![three-d-arrays-axes](img/numpy-3d-array-axes.png)"
   ]
  },
  {
   "cell_type": "markdown",
   "id": "5c5f0fd4-4ad8-438f-8300-45922857f801",
   "metadata": {},
   "source": [
    "`NumPy` array axes are numbered starting from 0."
   ]
  },
  {
   "cell_type": "markdown",
   "id": "8127ae26-e6e4-4132-82cb-92f3ac93e3d0",
   "metadata": {},
   "source": [
    "Many functions in `NumPy` have `axis` argument.\n",
    "\n",
    "Examples include (for **2D** arrays):\n",
    "\n",
    "- `arr.sum(axis)`: along which axis the _sum_ is performed. \n",
    "- `arr.mean(axis)`: along which axis the _mean_ is performed.\n",
    "- `arr.min(axis)`/`arr.max(axis)`: along which axis the _min_/_max_ is performed.\n",
    "- `np.concatenate((arr_1, arr_2), axis)`: along which axis `arr_1` and `arr_2` are concatenated (horizontally or vertically)."
   ]
  },
  {
   "cell_type": "code",
   "execution_count": null,
   "id": "88fd2652-4332-4e12-ad35-64594a90c8cf",
   "metadata": {},
   "outputs": [],
   "source": [
    "website_session_data = np.array(\n",
    "    [\n",
    "        [10, 17, 3, 9],\n",
    "        [0, 0, 1, 2],\n",
    "        [4, 2, 0, 1],\n",
    "        [15, 20, 3, 1],\n",
    "        [0, 0, 7, 2],\n",
    "        [9, 5, 2, 20],\n",
    "    ]\n",
    ")"
   ]
  },
  {
   "cell_type": "code",
   "execution_count": null,
   "id": "cac8ad14-ea64-4200-99b0-50fa78ca30b0",
   "metadata": {},
   "outputs": [],
   "source": [
    "website_session_data.sum(axis=1)"
   ]
  },
  {
   "cell_type": "code",
   "execution_count": null,
   "id": "5eb24755-86c8-4dec-9864-b7301b61f300",
   "metadata": {
    "tags": []
   },
   "outputs": [],
   "source": [
    "website_session_data.sum(axis=0)"
   ]
  },
  {
   "cell_type": "markdown",
   "id": "646abd86-9ee5-48ca-a6b6-1f00fbd9bf12",
   "metadata": {},
   "source": [
    "![2d-array-sum-over-rows-and-columns](img/2d-array-sum-axis-0-and-1.png)"
   ]
  },
  {
   "cell_type": "markdown",
   "id": "06330153-e4e1-43e8-b8a9-e97fba9b30d2",
   "metadata": {
    "tags": []
   },
   "source": [
    "# Combining arrays:"
   ]
  },
  {
   "cell_type": "markdown",
   "id": "2a7aab76-fe23-4ca2-b2a0-59e20e8f9e66",
   "metadata": {},
   "source": [
    "- `np.concatenate`: concatneate a sequence (two or more) arrays along an axis.\n",
    "- `np.hstack`: stack a sequence (two or more) arrays **horizontally** (_column-wise_). Equivalent to `np.concatenate(axis=1)`.\n",
    "- `np.vstack`: stack a sequence (two or more) arrays **vertically** (_row-wise_). Equivalent to `np.concatenate(axis=0)`."
   ]
  },
  {
   "cell_type": "code",
   "execution_count": null,
   "id": "6fc782fc-cc7a-48ff-88a3-366bb2669994",
   "metadata": {
    "tags": []
   },
   "outputs": [],
   "source": [
    "A = np.array(\n",
    "    [[31, 180, 77], [19, 149, 58], [50, 167, 86], [46, 178, 74], [29, 179, 81]]\n",
    ")"
   ]
  },
  {
   "cell_type": "code",
   "execution_count": null,
   "id": "5b08467d-a069-41ca-a9de-cd2e2d925b44",
   "metadata": {
    "tags": []
   },
   "outputs": [],
   "source": [
    "B = np.array([[66], [80], [110], [92], [102]])"
   ]
  },
  {
   "cell_type": "code",
   "execution_count": null,
   "id": "e41454dc-8c1d-420f-9d74-4d8a5a25cc60",
   "metadata": {
    "tags": []
   },
   "outputs": [],
   "source": [
    "C = np.array([[17, 159, 81], [24, 177, 83]])"
   ]
  },
  {
   "cell_type": "code",
   "execution_count": null,
   "id": "decb82e0-a983-4868-bf38-4e87f3a51cab",
   "metadata": {},
   "outputs": [],
   "source": [
    "A.shape"
   ]
  },
  {
   "cell_type": "code",
   "execution_count": null,
   "id": "363fd24e-29d4-41ee-955f-327fd6c4cd20",
   "metadata": {},
   "outputs": [],
   "source": [
    "B.shape"
   ]
  },
  {
   "cell_type": "code",
   "execution_count": null,
   "id": "ba514a52-bde2-45fd-b27a-db50d94b4fca",
   "metadata": {},
   "outputs": [],
   "source": [
    "C.shape"
   ]
  },
  {
   "cell_type": "markdown",
   "id": "efb7329a-842b-40f8-af84-b5068d5e82ea",
   "metadata": {
    "tags": []
   },
   "source": [
    "![2d-arrays-horizontal-concatenation](img/2d-arrays-horizontal-concatenation.png)"
   ]
  },
  {
   "cell_type": "code",
   "execution_count": null,
   "id": "53231b28-2d6f-4937-82a7-06c507f90cb5",
   "metadata": {
    "tags": []
   },
   "outputs": [],
   "source": [
    "merged_along_colum_1 = np.concatenate((A, B), axis=1)"
   ]
  },
  {
   "cell_type": "code",
   "execution_count": null,
   "id": "23fdae32-2413-4b3a-b1fd-bbf9f1a22aad",
   "metadata": {
    "tags": []
   },
   "outputs": [],
   "source": [
    "merged_along_colum_2 = np.hstack((A, B))"
   ]
  },
  {
   "cell_type": "code",
   "execution_count": null,
   "id": "9fb1c01b-3a17-4228-9c81-7b3cee2e441b",
   "metadata": {
    "tags": []
   },
   "outputs": [],
   "source": [
    "print(merged_along_colum_1)\n",
    "print(merged_along_colum_1.shape)"
   ]
  },
  {
   "cell_type": "code",
   "execution_count": null,
   "id": "ee2c184c-0e08-4e01-9aff-5a274d7ff7f0",
   "metadata": {},
   "outputs": [],
   "source": [
    "print(merged_along_colum_2)\n",
    "print(merged_along_colum_2.shape)"
   ]
  },
  {
   "cell_type": "markdown",
   "id": "80045eaf-57aa-4890-a127-7ab81e1e7638",
   "metadata": {},
   "source": [
    "![2d-arrays-vertical-concatenation](img/2d-arrays-vertical-concatenation.png)"
   ]
  },
  {
   "cell_type": "code",
   "execution_count": null,
   "id": "9418ab94-858a-4eba-ac2b-b775a41247f6",
   "metadata": {},
   "outputs": [],
   "source": [
    "merged_along_row_1 = np.concatenate((A, C), axis=0)"
   ]
  },
  {
   "cell_type": "code",
   "execution_count": null,
   "id": "ce470cce-9c2e-4234-9f2a-cb85cc981f13",
   "metadata": {},
   "outputs": [],
   "source": [
    "merged_along_row_1 = np.vstack((A, C))"
   ]
  },
  {
   "cell_type": "code",
   "execution_count": null,
   "id": "e1d6fef5-8fb7-468e-98d5-21959b715791",
   "metadata": {
    "tags": []
   },
   "outputs": [],
   "source": [
    "print(merged_along_row_1)\n",
    "print(merged_along_row_1.shape)"
   ]
  },
  {
   "cell_type": "code",
   "execution_count": null,
   "id": "9881a387-c30b-4b36-af85-024be1100e60",
   "metadata": {},
   "outputs": [],
   "source": [
    "print(merged_along_row_1)\n",
    "print(merged_along_row_1.shape)"
   ]
  },
  {
   "cell_type": "markdown",
   "id": "3607056c-a29b-4335-b753-3cdaf0a92e80",
   "metadata": {
    "tags": []
   },
   "source": [
    "# Computation on arrays"
   ]
  },
  {
   "cell_type": "markdown",
   "id": "5c4178d2-f072-4976-b457-bd5a774e37bb",
   "metadata": {},
   "source": [
    "The main reason that `NumPy` is so important in the Python data science world is because it provides an easy and flexible interface to optimized computation with arrays of data.\n",
    "\n",
    "The key to making it fast is to use _vectorized_ operations, generally implemented through NumPy's _universal functions_ (ufuncs)."
   ]
  },
  {
   "cell_type": "markdown",
   "id": "929f91ea-0d6d-4dac-8f6f-f6e2c9c0a843",
   "metadata": {},
   "source": [
    "## `NumPy` universal functions motivation:"
   ]
  },
  {
   "cell_type": "markdown",
   "id": "f0f497e4-dcc0-4a90-b0f7-e70ed0da9cb5",
   "metadata": {},
   "source": [
    "Let's compare`Python` and `NumPy` running time for calculating mean of a large array:"
   ]
  },
  {
   "cell_type": "code",
   "execution_count": null,
   "id": "d475b1b3-4559-40a4-8bbb-b14537e69f0a",
   "metadata": {
    "tags": []
   },
   "outputs": [],
   "source": [
    "def python_mean(input_array):\n",
    "    n = len(input_array)\n",
    "    total_sum = 0.0\n",
    "    for i in range(n):\n",
    "        total_sum = total_sum + input_array[i]\n",
    "    return total_sum / n"
   ]
  },
  {
   "cell_type": "code",
   "execution_count": null,
   "id": "ca2f5554-881b-4485-8d30-2ae89712843d",
   "metadata": {
    "tags": []
   },
   "outputs": [],
   "source": [
    "def numpy_mean(input_array):\n",
    "    return input_array.mean()"
   ]
  },
  {
   "cell_type": "markdown",
   "id": "9edff781-d804-4fee-83f8-b45fb79035aa",
   "metadata": {},
   "source": [
    "We'll create a one dimensional array with million elements:"
   ]
  },
  {
   "cell_type": "code",
   "execution_count": null,
   "id": "8e483037-7e6b-4761-9e79-291592f4f5fd",
   "metadata": {
    "tags": []
   },
   "outputs": [],
   "source": [
    "big_array = np.random.randint(low=1, high=100, size=1000000)"
   ]
  },
  {
   "cell_type": "code",
   "execution_count": null,
   "id": "88413dfc-2f5c-4423-87a8-b800b2b41f49",
   "metadata": {
    "tags": []
   },
   "outputs": [],
   "source": [
    "%time python_mean(big_array)"
   ]
  },
  {
   "cell_type": "code",
   "execution_count": null,
   "id": "be40f3b0-ba29-4a30-a153-af1e02a46636",
   "metadata": {
    "tags": []
   },
   "outputs": [],
   "source": [
    "%time numpy_mean(big_array)"
   ]
  },
  {
   "cell_type": "markdown",
   "id": "15d4f439-9808-4e90-ad63-d5aaba1edb56",
   "metadata": {},
   "source": [
    "We can clearly see that `NumPy`'s implementation is faster than writing loops in `Python`\n",
    "\n",
    "The main reason `NumPy`'s functions are fast is because they perform calculations and looping in `C` (a compiled language), rather than writing loops in `Python`, which are very slow due to the dynamic and flexible types in it."
   ]
  },
  {
   "cell_type": "markdown",
   "id": "a9104467-cb44-4860-ae56-03c70827dead",
   "metadata": {
    "tags": []
   },
   "source": [
    "## Arithmetic functions"
   ]
  },
  {
   "cell_type": "markdown",
   "id": "171e4388-7816-4c0f-b7af-f3b61818e9fe",
   "metadata": {},
   "source": [
    "### One-dimensional arrays:"
   ]
  },
  {
   "cell_type": "markdown",
   "id": "bf525191-148a-469c-bf89-6d3caac79aeb",
   "metadata": {},
   "source": [
    "This is an example of applying an operation on a `NumPy` array with a scalar."
   ]
  },
  {
   "cell_type": "code",
   "execution_count": null,
   "id": "b6bd76ac-8e47-47d5-b4ff-e69aa64787c8",
   "metadata": {},
   "outputs": [],
   "source": [
    "damascus_sep_22_temperature_celsius = np.array(\n",
    "    [\n",
    "        29.9,\n",
    "        27.9,\n",
    "        26.5,\n",
    "        26.3,\n",
    "        24.8,\n",
    "        25.2,\n",
    "        25.2,\n",
    "        25.8,\n",
    "        25.9,\n",
    "        25.3,\n",
    "        24.4,\n",
    "        23.9,\n",
    "        24.1,\n",
    "        24.8,\n",
    "        23.3,\n",
    "        23.3,\n",
    "        21.7,\n",
    "        23.2,\n",
    "        24.8,\n",
    "        25.3,\n",
    "        26.4,\n",
    "        24.9,\n",
    "        23.5,\n",
    "    ]\n",
    ")"
   ]
  },
  {
   "cell_type": "code",
   "execution_count": null,
   "id": "3b29b7f2-12da-42e5-856c-01a4d7309980",
   "metadata": {
    "tags": []
   },
   "outputs": [],
   "source": [
    "damascus_sep_22_temperature_fahrenheit = (\n",
    "    1.8 * damascus_sep_22_temperature_celsius\n",
    ") + 32.0"
   ]
  },
  {
   "cell_type": "code",
   "execution_count": null,
   "id": "0acba6a7-c480-4150-b3c7-8fa23390152d",
   "metadata": {},
   "outputs": [],
   "source": [
    "print(damascus_sep_22_temperature_fahrenheit)"
   ]
  },
  {
   "cell_type": "markdown",
   "id": "748479a3-59e2-4a99-9149-70eff2823074",
   "metadata": {},
   "source": [
    "**TODO**: here add example of summing two one-d arrays."
   ]
  },
  {
   "cell_type": "markdown",
   "id": "d3e9fbd3-02de-4310-b28a-4e4a181b0a89",
   "metadata": {},
   "source": [
    "### Two-dimensional arrays:"
   ]
  },
  {
   "cell_type": "code",
   "execution_count": null,
   "id": "1ee2b66e-a603-438b-833e-16bdba3aaa42",
   "metadata": {
    "tags": []
   },
   "outputs": [],
   "source": [
    "negative_positive_arr = np.arange(-4, 5).reshape((3, 3))"
   ]
  },
  {
   "cell_type": "code",
   "execution_count": null,
   "id": "b4339210-1515-44a9-9ba4-3153304e982a",
   "metadata": {
    "tags": []
   },
   "outputs": [],
   "source": [
    "negative_positive_arr"
   ]
  },
  {
   "cell_type": "code",
   "execution_count": null,
   "id": "368e9958-d8b4-4176-9a81-807471da6af9",
   "metadata": {},
   "outputs": [],
   "source": [
    "absolute_arr = np.abs(negative_positive_arr)"
   ]
  },
  {
   "cell_type": "markdown",
   "id": "3df4a162-8837-4798-ba88-ed531843aff3",
   "metadata": {},
   "source": [
    "**TODO**: add example of operation on a two-d array with a scaler."
   ]
  },
  {
   "cell_type": "markdown",
   "id": "e0a4c669-0e8f-4f11-b0e1-bd573bb4c3a8",
   "metadata": {},
   "source": [
    "**TODO**: add example of operation on 2 two-d arrays (such as sum, multiply).\n",
    "This to emphasize that operations on pairs of arrays are performed element-wise."
   ]
  },
  {
   "cell_type": "markdown",
   "id": "e2f49dde-f70b-4168-9ded-a9eeefd2bdc0",
   "metadata": {},
   "source": [
    "## Aggregation functions:"
   ]
  },
  {
   "cell_type": "markdown",
   "id": "107bcd5a-87e8-4ba3-830d-c9967dd0105f",
   "metadata": {},
   "source": [
    "Aggregation functions are most useful when working with large amounts of data. A coomon step is to first calculate summary (or descriptive) statistics on the data, such as **mean**, **standard deviation**, **sum**, **min**, and **max**."
   ]
  },
  {
   "cell_type": "markdown",
   "id": "ddef4cbd-94ed-4ab0-9733-5e55879be724",
   "metadata": {},
   "source": [
    "### One-dimensional arrays:"
   ]
  },
  {
   "cell_type": "code",
   "execution_count": null,
   "id": "7d4a76d9-dbd8-4169-adda-cbf58a944ef7",
   "metadata": {},
   "outputs": [],
   "source": [
    "damascus_sep_22_temperature_celsius.mean()"
   ]
  },
  {
   "cell_type": "code",
   "execution_count": null,
   "id": "bf6bb19b-a991-41d0-9ebf-94f3618d7ceb",
   "metadata": {},
   "outputs": [],
   "source": [
    "damascus_sep_22_temperature_celsius.min()"
   ]
  },
  {
   "cell_type": "code",
   "execution_count": null,
   "id": "e10f0f8b-29a2-451c-97e0-e7692b6a0fc6",
   "metadata": {},
   "outputs": [],
   "source": [
    "damascus_sep_22_temperature_celsius.max()"
   ]
  },
  {
   "cell_type": "markdown",
   "id": "e34d309a-c95a-4b2c-a8cf-28b0d2a7e6e6",
   "metadata": {},
   "source": [
    "### Two-dimensional arrays:"
   ]
  },
  {
   "cell_type": "markdown",
   "id": "884f77e3-8812-4678-8da8-410cb66a8140",
   "metadata": {},
   "source": [
    "For multi-dimensional arrays, aggregation functions take an additional argument specifying the _axis_ along which the aggregate function is computed."
   ]
  },
  {
   "cell_type": "code",
   "execution_count": null,
   "id": "8b9a2b28-7c5c-45c5-8724-f9849136c493",
   "metadata": {},
   "outputs": [],
   "source": [
    "two_d_data = np.array([[1, 2], [5, 3], [4, 6]])"
   ]
  },
  {
   "cell_type": "code",
   "execution_count": null,
   "id": "582bd117-0b35-47ca-9c16-c5f45d88484b",
   "metadata": {},
   "outputs": [],
   "source": [
    "two_d_data"
   ]
  },
  {
   "cell_type": "code",
   "execution_count": null,
   "id": "bc3f49d6-bf5a-4551-9cc6-d794062d7ffa",
   "metadata": {},
   "outputs": [],
   "source": [
    "two_d_data.max(axis=0)"
   ]
  },
  {
   "cell_type": "code",
   "execution_count": null,
   "id": "c04dc3dc-7a10-4c70-acc3-c2e7c3f373f5",
   "metadata": {},
   "outputs": [],
   "source": [
    "two_d_data.max(axis=1)"
   ]
  },
  {
   "cell_type": "markdown",
   "id": "8560ea15-fd0b-4958-80cc-3cfa4f5bc8c6",
   "metadata": {},
   "source": [
    "![2d-array-aggregation](img/numpy-matrix-aggregation.png)"
   ]
  },
  {
   "cell_type": "markdown",
   "id": "fca5e9a5-b345-4372-bae3-cc016d47ef29",
   "metadata": {
    "tags": []
   },
   "source": [
    "# Array broadcasting:"
   ]
  },
  {
   "cell_type": "markdown",
   "id": "166ae391-6660-41a6-b8a5-c1cfd7ae364a",
   "metadata": {},
   "source": [
    "## Same size arrays:"
   ]
  },
  {
   "cell_type": "markdown",
   "id": "45f8f50a-d33b-4949-945f-a8bc99070b04",
   "metadata": {},
   "source": [
    "Recall that for arrays of the **same size**, binary operations are performed on an **element-by-element** basis."
   ]
  },
  {
   "cell_type": "markdown",
   "id": "f1a34c97-de5a-41cc-840d-d2002d88c039",
   "metadata": {},
   "source": [
    "### One dimensional arrays"
   ]
  },
  {
   "cell_type": "code",
   "execution_count": null,
   "id": "82a7670f-3bea-4d9c-b11b-b1f1ca61752a",
   "metadata": {
    "tags": []
   },
   "outputs": [],
   "source": [
    "math_grades = np.array([80, 91, 56, 73, 59, 61, 48, 77])\n",
    "science_grades = np.array([31, 66, 67, 54, 68, 77, 55, 81])"
   ]
  },
  {
   "cell_type": "code",
   "execution_count": null,
   "id": "22458df6-fddf-49ee-ac6d-18f51af59114",
   "metadata": {
    "tags": []
   },
   "outputs": [],
   "source": [
    "all_grades = math_grades + science_grades"
   ]
  },
  {
   "cell_type": "code",
   "execution_count": null,
   "id": "663c3bd9-1ad9-4d28-8695-4ba7c24b4d61",
   "metadata": {},
   "outputs": [],
   "source": [
    "print(f\"math_grades shape: {math_grades.shape}\")\n",
    "print(f\"science_grades shape: {science_grades.shape}\")\n",
    "print(f\"all_grades shape: {all_grades.shape}\")"
   ]
  },
  {
   "cell_type": "code",
   "execution_count": null,
   "id": "000c3ff7-c9b5-47ab-a33c-e3c5c3ea622c",
   "metadata": {},
   "outputs": [],
   "source": [
    "print(all_grades)"
   ]
  },
  {
   "cell_type": "markdown",
   "id": "d6754e8d-350f-450c-bfe5-347c26779895",
   "metadata": {},
   "source": [
    "![one-d-same-size-arrays-computation](img/one-d-same-size-arrays-computation.png)"
   ]
  },
  {
   "cell_type": "markdown",
   "id": "8cdad25a-6e12-4c34-a645-d62949d337e0",
   "metadata": {},
   "source": [
    "### Two dimensional arrays:"
   ]
  },
  {
   "cell_type": "code",
   "execution_count": null,
   "id": "053b67b4-90a6-40cf-8e67-325ba1db4749",
   "metadata": {},
   "outputs": [],
   "source": [
    "data = np.array([[1, 2], [3, 4]])"
   ]
  },
  {
   "cell_type": "code",
   "execution_count": null,
   "id": "12199be8-23bb-4ed1-ad3b-8189ef334bff",
   "metadata": {
    "tags": []
   },
   "outputs": [],
   "source": [
    "ones = np.ones((2, 2), dtype=np.int32)"
   ]
  },
  {
   "cell_type": "code",
   "execution_count": null,
   "id": "5cd95811-0a94-40fa-9dc2-f816a5bae4fa",
   "metadata": {
    "tags": []
   },
   "outputs": [],
   "source": [
    "data.shape"
   ]
  },
  {
   "cell_type": "code",
   "execution_count": null,
   "id": "9d1abb9c-1582-4d3c-9c63-cd4162403f66",
   "metadata": {
    "tags": []
   },
   "outputs": [],
   "source": [
    "ones.shape"
   ]
  },
  {
   "cell_type": "code",
   "execution_count": null,
   "id": "38aea304-32f5-4d8c-ad97-873d7765de8a",
   "metadata": {},
   "outputs": [],
   "source": [
    "data + ones"
   ]
  },
  {
   "cell_type": "markdown",
   "id": "7689ccf5-3feb-4810-b992-3d68ed996cea",
   "metadata": {},
   "source": [
    "![2d-element-wise-arithmetic](img/numpy-matrix-arithmetic.png)"
   ]
  },
  {
   "cell_type": "markdown",
   "id": "e1d4f66b-e328-4363-9a1d-e27e0a26be71",
   "metadata": {},
   "source": [
    "## Different size arrays:"
   ]
  },
  {
   "cell_type": "markdown",
   "id": "2246b9f2-f942-44e9-9154-a86c77ea4727",
   "metadata": {},
   "source": [
    "What if the two arrays we are working with have different shapes?\n",
    "\n",
    "Broadcasting allows these types of binary operations to be performed on arrays of **different-sizes**. For example, we can just as easily add a scalar (think of it as a zero-dimensional array) to an array:\n",
    "\n",
    "If the shapes of the two arrays are different, and certain rules are met, the smaller array is \"broadcast\" across the larger array."
   ]
  },
  {
   "cell_type": "markdown",
   "id": "539dad57-0233-43c9-9665-189a24dd13d1",
   "metadata": {},
   "source": [
    "### Example 1:"
   ]
  },
  {
   "cell_type": "markdown",
   "id": "1597dde2-b127-4cf4-8e00-08bce8fe8cb7",
   "metadata": {},
   "source": [
    "The simplest broadcasting example occurs when an array and a scalar value are combined in an operation:"
   ]
  },
  {
   "cell_type": "code",
   "execution_count": null,
   "id": "b27a9513",
   "metadata": {},
   "outputs": [],
   "source": [
    "a = np.array([1, 2, 3])\n",
    "b = 2"
   ]
  },
  {
   "cell_type": "code",
   "execution_count": null,
   "id": "1381397d",
   "metadata": {},
   "outputs": [],
   "source": [
    "a.shape"
   ]
  },
  {
   "cell_type": "code",
   "execution_count": null,
   "id": "e094e452",
   "metadata": {},
   "outputs": [],
   "source": [
    "b.shape  # not an array!"
   ]
  },
  {
   "cell_type": "code",
   "execution_count": null,
   "id": "504e4c33",
   "metadata": {},
   "outputs": [],
   "source": [
    "result = a * b"
   ]
  },
  {
   "cell_type": "code",
   "execution_count": null,
   "id": "384d77b3",
   "metadata": {},
   "outputs": [],
   "source": [
    "print(result)\n",
    "print(result.shape)"
   ]
  },
  {
   "cell_type": "markdown",
   "id": "f3ed084e-7866-4efd-b62c-d975d43c301d",
   "metadata": {},
   "source": [
    "We can think of the scalar `b` being stretched during the arithmetic operation into an array with the same shape as `a`. The new elements in` `b, as shown in the figure below, are simply copies of the original scalar. The stretching analogy is only _conceptual_. `NumPy` is smart enough to use the original scalar value without actually making copies so that broadcasting operations are as memory and computationally efficient as possible."
   ]
  },
  {
   "cell_type": "markdown",
   "id": "13819491-fdb9-4339-a9fc-4fe6f59e5f84",
   "metadata": {},
   "source": [
    "![scalar-stretching-to-array](img/scalar-stretching-to-array.png)"
   ]
  },
  {
   "cell_type": "markdown",
   "id": "1172777e-eba4-4db2-bab6-ddb08009237a",
   "metadata": {},
   "source": [
    "### Example 2:"
   ]
  },
  {
   "cell_type": "code",
   "execution_count": null,
   "id": "6dcaacc3-873f-4cfe-a290-98c111c9858e",
   "metadata": {
    "tags": []
   },
   "outputs": [],
   "source": [
    "# let's create a 2D array of 4 rows and 3 columns\n",
    "data = np.array([[10, 50, 30], [20, 60, 60], [30, 70, 90], [40, 80, 120]])"
   ]
  },
  {
   "cell_type": "code",
   "execution_count": null,
   "id": "4fb38c75-049d-4d9d-9627-ad9d68eaf848",
   "metadata": {},
   "outputs": [],
   "source": [
    "# and create a one-dimensional array of 3 elements\n",
    "scaling_factors = np.array([0.1, 0.2, 0.3])"
   ]
  },
  {
   "cell_type": "code",
   "execution_count": null,
   "id": "ad3c223c-b0b6-474c-84f0-860c7dff59c0",
   "metadata": {},
   "outputs": [],
   "source": [
    "print(data.shape)"
   ]
  },
  {
   "cell_type": "code",
   "execution_count": null,
   "id": "d6529795-6c14-4684-b4dc-5ee82cc5e671",
   "metadata": {
    "tags": []
   },
   "outputs": [],
   "source": [
    "print(scaling_factors.shape)"
   ]
  },
  {
   "cell_type": "code",
   "execution_count": null,
   "id": "a585fed8-f3e9-47fd-879e-dcfa5c47f90f",
   "metadata": {
    "tags": []
   },
   "outputs": [],
   "source": [
    "scaled_data = data * scaling_factors"
   ]
  },
  {
   "cell_type": "code",
   "execution_count": null,
   "id": "6c44de66-88da-47ce-8d52-78023c327018",
   "metadata": {},
   "outputs": [],
   "source": [
    "scaled_data.shape"
   ]
  },
  {
   "cell_type": "code",
   "execution_count": null,
   "id": "8d37aa9a-9796-4be6-a159-c6fbe7aa90c8",
   "metadata": {},
   "outputs": [],
   "source": [
    "scaled_data"
   ]
  },
  {
   "cell_type": "markdown",
   "id": "7417f556-b4b2-419a-961b-a80f7af748a3",
   "metadata": {},
   "source": [
    "![2d-matrix-and-vector-arithmetic](img/broadcasting/1-broadcasting-data-and-scaling-factors.png)"
   ]
  },
  {
   "cell_type": "markdown",
   "id": "477c1aab-cd42-4523-a47f-08aca87775a7",
   "metadata": {},
   "source": [
    "![padding-vector-with-ones](img/broadcasting/2-broadcasting-padding-scaling-factors.png)"
   ]
  },
  {
   "cell_type": "markdown",
   "id": "b0063e2e-d112-4872-874b-a03d6bd979a0",
   "metadata": {},
   "source": [
    "![stretching-vector-to-match-matrix-in-shape](img/broadcasting/3-broadcasting-stretching-scaling-factors.png)"
   ]
  },
  {
   "cell_type": "markdown",
   "id": "cbf4095d-7520-4cda-9f9f-3d62eb0dff03",
   "metadata": {},
   "source": [
    "![performing-arithmetic-operation](img/broadcasting/4-broadcasting-calculating-result.png)"
   ]
  },
  {
   "cell_type": "markdown",
   "id": "273194a5-723d-48f5-8559-007c046a4197",
   "metadata": {
    "tags": []
   },
   "source": [
    "## Broadcasting rules:"
   ]
  },
  {
   "cell_type": "markdown",
   "id": "7a9fc23d-4c82-4388-81ee-56cc7869b8f7",
   "metadata": {},
   "source": [
    "Broadcasting in NumPy follows a strict set of rules to determine the interaction between the two arrays:\n",
    "\n",
    "1. Rule 1: If the two arrays differ in their number of dimensions, the shape of the one with fewer dimensions is padded with ones on its leading (left) side.\n",
    "2. Rule 2: If the shape of the two arrays does not match in any dimension, the array with shape equal to 1 in that dimension is stretched to match the other shape.\n",
    "3. Rule 3: If in any dimension the sizes disagree and neither is equal to 1, an error is raised.\n"
   ]
  },
  {
   "cell_type": "markdown",
   "id": "b98aa2f9-acd8-41fe-82d2-59d305e2a35a",
   "metadata": {
    "tags": []
   },
   "source": [
    "# Advanced indexing:"
   ]
  },
  {
   "cell_type": "markdown",
   "id": "a044e257-3799-4c7c-a06a-a4a4778547cb",
   "metadata": {
    "tags": []
   },
   "source": [
    "## Boolean masks:"
   ]
  },
  {
   "cell_type": "markdown",
   "id": "8d8a2538-3448-4594-aadb-b877e280e6fb",
   "metadata": {
    "tags": []
   },
   "source": [
    "### Example 1:"
   ]
  },
  {
   "cell_type": "markdown",
   "id": "a3c398db-3d09-4d87-8317-0132a92abe98",
   "metadata": {},
   "source": [
    "Boolean masks help us extract (or locate) elements in an array based on some criterion.\n",
    "\n",
    "For example, we can imagine we have a one-dimensional `NumPy` array of student grades and we want to *select* (or count) the grades above a specified threshold.\n",
    "\n",
    "We first construct a boolean array (*mask*) of the same shape of the original array. The boolean array at index *i* is set to `True` if the criterion holds for the corresponding element in the original array, and `False` otherwise.\n",
    "\n",
    "Then, the *mask* can be used to get the elements that meet the condition. This is know as *masking operation*.\n",
    "\n",
    "Notice that the comparison operator `>` is a universal function and is performed element-wise with no need to use for-loops. Other comparison operators like `==`, `!=`, `<` work the same."
   ]
  },
  {
   "cell_type": "code",
   "execution_count": null,
   "id": "612f5c11-606c-4216-9ae3-567fad772d6d",
   "metadata": {},
   "outputs": [],
   "source": [
    "grades = np.array([80, 91, 56, 73, 59, 61, 48, 77])"
   ]
  },
  {
   "cell_type": "code",
   "execution_count": null,
   "id": "c27c4f96-5bcf-4d15-929e-384031e0966b",
   "metadata": {
    "tags": []
   },
   "outputs": [],
   "source": [
    "above_60_mask = grades > 60"
   ]
  },
  {
   "cell_type": "code",
   "execution_count": null,
   "id": "7d983ad3-20d5-432d-89b5-133a246e039d",
   "metadata": {},
   "outputs": [],
   "source": [
    "grades[above_60_mask]"
   ]
  },
  {
   "cell_type": "markdown",
   "id": "6800b41b-3d4b-45c6-a5c7-67113612e4cb",
   "metadata": {},
   "source": [
    "![one-d-boolean-mask-example](img/one-d-boolean-mask.png)"
   ]
  },
  {
   "cell_type": "code",
   "execution_count": null,
   "id": "5ea6d3fa-a99d-44ad-b6a8-b8b4f59e102f",
   "metadata": {
    "tags": []
   },
   "outputs": [],
   "source": [
    "above_60_mask.dtype"
   ]
  },
  {
   "cell_type": "markdown",
   "id": "51044632-f9a6-45da-9c39-b51c55f8fec4",
   "metadata": {},
   "source": [
    "Since `above_60_mask` is a `NumPy` array of type boolean, we can get the sum of its elements, where `False` is interpreted as `0` and `True` is interpreted as `1`."
   ]
  },
  {
   "cell_type": "code",
   "execution_count": null,
   "id": "ce4e2d8f-cf83-401d-9dbc-c6162a61c306",
   "metadata": {},
   "outputs": [],
   "source": [
    "above_60_mask.sum()"
   ]
  },
  {
   "cell_type": "markdown",
   "id": "04460338-d7cc-4a10-8e91-48c212cb615f",
   "metadata": {},
   "source": [
    "This way we can answer questions like: **What is the number of students who scored above 60?**"
   ]
  },
  {
   "cell_type": "markdown",
   "id": "2fcf028b-fa36-48d9-9f02-e400f254f93c",
   "metadata": {},
   "source": [
    "### Example 2:"
   ]
  },
  {
   "cell_type": "markdown",
   "id": "975a74ee-68d6-4e88-917d-ecc1bd989cc6",
   "metadata": {},
   "source": [
    "Like the previous example, but here, we show how we can use information from two mask using *bitwise* logic.\n",
    "\n",
    "If we have two (or more) boolean masks, and we want, for example, to take only the elements that satisfy both masks, we can use the `&` (logical and) operator.\n",
    "\n",
    "In this example we show that given students' grades in two subjects, can we retrieve the ones who succeeded (scored above 60) in both subjects."
   ]
  },
  {
   "cell_type": "markdown",
   "id": "38be8264-7ea6-46b5-9554-c0efb4e144b8",
   "metadata": {},
   "source": [
    "![boolean-mask-bitwise-logic](img/boolean-mask-with-and.png)"
   ]
  },
  {
   "cell_type": "code",
   "execution_count": null,
   "id": "9cfca721-92d4-4f66-a1ca-56ac3c448ae4",
   "metadata": {},
   "outputs": [],
   "source": [
    "students = np.array(\n",
    "    [\"Ahmed\", \"Sami\", \"Rami\", \"Mouna\", \"Qusai\", \"Yamen\", \"Huda\", \"Ramez\"]\n",
    ")\n",
    "math_grades = np.array([80, 91, 56, 73, 59, 61, 48, 77])\n",
    "science_grades = np.array([31, 66, 67, 54, 68, 77, 55, 81])"
   ]
  },
  {
   "cell_type": "code",
   "execution_count": null,
   "id": "74bcfa2b-9a41-4dd4-b6e8-6709d5e21338",
   "metadata": {},
   "outputs": [],
   "source": [
    "math_mask = math_grades > 60\n",
    "science_mask = science_grades > 60"
   ]
  },
  {
   "cell_type": "code",
   "execution_count": null,
   "id": "8c6cf6a6-d635-4f4b-867f-75f23686b2f0",
   "metadata": {
    "tags": []
   },
   "outputs": [],
   "source": [
    "print(f\"science_mask: {science_mask}\")\n",
    "print(f\"math_mask: {math_mask}\")"
   ]
  },
  {
   "cell_type": "code",
   "execution_count": null,
   "id": "f267df73-fc3e-4b6c-8624-f200d4255c7f",
   "metadata": {},
   "outputs": [],
   "source": [
    "succeed_mask = math_mask & science_mask"
   ]
  },
  {
   "cell_type": "code",
   "execution_count": null,
   "id": "6f45b1aa-b0d3-469b-8039-d39457c74da4",
   "metadata": {},
   "outputs": [],
   "source": [
    "students[succeed_mask]"
   ]
  },
  {
   "cell_type": "markdown",
   "id": "d91db367-6ed7-4a9d-a2ee-666bc997e3a6",
   "metadata": {
    "tags": []
   },
   "source": [
    "## Fancy indexing:"
   ]
  },
  {
   "cell_type": "markdown",
   "id": "2b38bf66-3911-4be0-985e-f099cf80207e",
   "metadata": {},
   "source": [
    "We have shown how we can index `NumPy` arrays using the following methods:\n",
    "- Scalar indexing: `x[0]`. Select first element in array `x`.\n",
    "- Slicing: `x[:5]`. Select first `5` elements in array `x`.\n",
    "- Boolean indexing: `x[mask]`. Select values from array `x` at positions where `mask` is `True`. Both `x` and `mask` should be of the same shape."
   ]
  },
  {
   "cell_type": "markdown",
   "id": "42527cf4-5328-4eb7-8149-90fb66a13bcf",
   "metadata": {},
   "source": [
    "However, sometimes we might need to access several elements using their indices. For example, if we the following two arrays for students and their grades, and we want to get the grades for only students `Ahmed`, `Qusai`, and `Ramez`:"
   ]
  },
  {
   "cell_type": "code",
   "execution_count": null,
   "id": "61a0e663-2aee-4073-973b-8788eb17e4b4",
   "metadata": {},
   "outputs": [],
   "source": [
    "students = np.array(\n",
    "    [\"Ahmed\", \"Sami\", \"Rami\", \"Mouna\", \"Qusai\", \"Yamen\", \"Huda\", \"Ramez\"]\n",
    ")\n",
    "math_grades = np.array([80, 91, 56, 73, 59, 61, 48, 77])"
   ]
  },
  {
   "cell_type": "code",
   "execution_count": null,
   "id": "896d334e-c13b-4619-a34a-fa156ed2342b",
   "metadata": {},
   "outputs": [],
   "source": [
    "students_indices = [0, 4, 6]"
   ]
  },
  {
   "cell_type": "code",
   "execution_count": null,
   "id": "b540000e-aa53-40f9-900e-581c7f9dd7d3",
   "metadata": {
    "tags": []
   },
   "outputs": [],
   "source": [
    "print(math_grades[students_indices])"
   ]
  },
  {
   "cell_type": "markdown",
   "id": "573f3f21-df24-42aa-be74-96d2d774f071",
   "metadata": {},
   "source": [
    "![fancy-indexing-example](img/fancy-indexing.png)"
   ]
  },
  {
   "cell_type": "markdown",
   "id": "b97ce2a7-05c3-4b25-b7a7-cf8f62158f1c",
   "metadata": {
    "jp-MarkdownHeadingCollapsed": true,
    "tags": []
   },
   "source": [
    "# NumPy's Structured Arrays"
   ]
  },
  {
   "cell_type": "markdown",
   "id": "eff215b0-f48b-4095-9a32-797b29c8cbe5",
   "metadata": {},
   "source": [
    "## Motivation:"
   ]
  },
  {
   "cell_type": "markdown",
   "id": "d608c570-4978-4bbc-8fbe-780ab4ef0f3a",
   "metadata": {},
   "source": [
    "| Name   |   Age |   Weight |   Height |\n",
    "|:-------|------:|---------:|---------:|\n",
    "| Alice  |    25 |     55   |      160 |\n",
    "| Bob    |    45 |     85.5 |      175 |\n",
    "| Cathy  |    37 |     68   |      159 |\n",
    "| Doug   |    19 |     61.5 |      168 |\n"
   ]
  },
  {
   "cell_type": "markdown",
   "id": "f4a75773-15f1-43a0-b908-107ad73da4bd",
   "metadata": {},
   "source": [
    "In current approach, we need to use four separate arrays. One for each variable."
   ]
  },
  {
   "cell_type": "code",
   "execution_count": null,
   "id": "c2a1987c-3754-4dd9-8d52-5bc97b335ca1",
   "metadata": {
    "tags": []
   },
   "outputs": [],
   "source": [
    "name = [\"Alice\", \"Bob\", \"Cathy\", \"Doug\", \"Jack\"]\n",
    "age = [25, 45, 37, 19, 33]\n",
    "weight = [55.0, 85.5, 68.0, 61.5, 77.0]\n",
    "height = [160, 175.5, 159.9, 168, 182.0]"
   ]
  },
  {
   "cell_type": "markdown",
   "id": "f3f258f9-b238-4b0b-9fd8-080581c7f28b",
   "metadata": {},
   "source": [
    "Harder to maintain than having a songle array."
   ]
  },
  {
   "cell_type": "markdown",
   "id": "51c1a81b-1274-4f55-9158-47fc4bdb0fc6",
   "metadata": {},
   "source": [
    "## Structured arrays:"
   ]
  },
  {
   "cell_type": "markdown",
   "id": "a573c3f6-30bf-4caf-87b5-9ab0a50c571c",
   "metadata": {},
   "source": [
    "arrays with compound data types"
   ]
  },
  {
   "cell_type": "code",
   "execution_count": null,
   "id": "1c886029-fabc-4524-bcf7-546d3401e2b9",
   "metadata": {
    "tags": []
   },
   "outputs": [],
   "source": [
    "data = list(zip(name, age, weight, height))"
   ]
  },
  {
   "cell_type": "code",
   "execution_count": null,
   "id": "51953cf9-5a08-4312-bc3f-e326ea6074f4",
   "metadata": {
    "tags": []
   },
   "outputs": [],
   "source": [
    "print(data)"
   ]
  },
  {
   "cell_type": "code",
   "execution_count": null,
   "id": "f6ca0e48-e46f-48c5-94d0-303fbf45848b",
   "metadata": {
    "tags": []
   },
   "outputs": [],
   "source": [
    "numpy_data = np.array(\n",
    "    data,\n",
    "    dtype=np.dtype(\n",
    "        [(\"name\", \"U10\"), (\"age\", \"i4\"), (\"weight\", \"f4\"), (\"height\", \"f4\")]\n",
    "    ),\n",
    ")"
   ]
  },
  {
   "cell_type": "code",
   "execution_count": null,
   "id": "5291fae5-faf8-45dd-a99f-6ca44dab4df6",
   "metadata": {
    "tags": []
   },
   "outputs": [],
   "source": [
    "numpy_data.shape"
   ]
  },
  {
   "cell_type": "markdown",
   "id": "bcece776-ab32-438e-8344-39b4ec807e7e",
   "metadata": {
    "execution": {
     "iopub.execute_input": "2022-09-18T22:12:48.668230Z",
     "iopub.status.busy": "2022-09-18T22:12:48.667164Z",
     "iopub.status.idle": "2022-09-18T22:12:48.684808Z",
     "shell.execute_reply": "2022-09-18T22:12:48.682921Z",
     "shell.execute_reply.started": "2022-09-18T22:12:48.668230Z"
    }
   },
   "source": [
    "The handy thing with structured arrays is that you can now refer to values either by index or by name:"
   ]
  },
  {
   "cell_type": "code",
   "execution_count": null,
   "id": "8c5e216b-963a-4bff-b83b-545b3065871a",
   "metadata": {},
   "outputs": [],
   "source": [
    "# Get all names\n",
    "numpy_data[\"name\"]"
   ]
  },
  {
   "cell_type": "code",
   "execution_count": null,
   "id": "314a44b6-65bc-4e0b-94d6-af0df5bf143d",
   "metadata": {
    "tags": []
   },
   "outputs": [],
   "source": [
    "# Get first row of data\n",
    "numpy_data[0]"
   ]
  },
  {
   "cell_type": "code",
   "execution_count": null,
   "id": "a4216716-3e44-494a-bda3-b07678301b6b",
   "metadata": {},
   "outputs": [],
   "source": [
    "# Get the name from the last row\n",
    "numpy_data[-1][\"name\"]"
   ]
  },
  {
   "cell_type": "markdown",
   "id": "cf674d46-eb47-4a27-a74a-eb33473fbc9e",
   "metadata": {},
   "source": [
    "Using boolean masking for advanced filtering:"
   ]
  },
  {
   "cell_type": "code",
   "execution_count": null,
   "id": "11a56b2c-1ed5-4bc0-963f-bc89ebac21d9",
   "metadata": {
    "tags": []
   },
   "outputs": [],
   "source": [
    "# Get names where age is under 30\n",
    "numpy_data[numpy_data[\"age\"] < 30][\"name\"]"
   ]
  },
  {
   "cell_type": "markdown",
   "id": "1f8e6579-a8ef-4598-b850-a5fe426a396f",
   "metadata": {
    "tags": []
   },
   "source": [
    "# Use case 1: dot product:"
   ]
  },
  {
   "cell_type": "markdown",
   "id": "ffc6a793-909b-4613-b838-ac68bc9c8a6b",
   "metadata": {},
   "source": [
    "![dot-product](img/numpy-matrix-dot-product-1.png)"
   ]
  },
  {
   "cell_type": "markdown",
   "id": "79c45562-d0b7-4e00-826a-25c4ae993b58",
   "metadata": {
    "tags": []
   },
   "source": [
    "# Use case 2: mean squred error"
   ]
  },
  {
   "cell_type": "markdown",
   "id": "38c28f46-8aee-4909-ab24-9b91331fca49",
   "metadata": {
    "execution": {
     "iopub.execute_input": "2022-09-26T16:43:52.995708Z",
     "iopub.status.busy": "2022-09-26T16:43:52.994720Z",
     "iopub.status.idle": "2022-09-26T16:43:53.008271Z",
     "shell.execute_reply": "2022-09-26T16:43:53.005706Z",
     "shell.execute_reply.started": "2022-09-26T16:43:52.995708Z"
    },
    "tags": []
   },
   "source": [
    "$$\\Large MSE=\\frac{1}{n} \\sum_{i=1}^{n} (y_{i}-\\hat{y_{i}})^2$$\n",
    "\n",
    "$$\\Large n: \\text{number  of samples}$$\n",
    "\n",
    "$$\\Large y_{i}: \\text{real value}$$\n",
    "\n",
    "$$\\Large \\hat{y_{i}}: \\text{predicted value}$$"
   ]
  },
  {
   "cell_type": "markdown",
   "id": "4e54807e-d7b2-49bd-8d17-3498a1ab2845",
   "metadata": {},
   "source": [
    "![mse-plot](img/mse-plot.png)"
   ]
  },
  {
   "cell_type": "code",
   "execution_count": null,
   "id": "73e9fc65-4452-41c6-9f63-3260ac0bdd0c",
   "metadata": {},
   "outputs": [],
   "source": [
    "y_true = np.array([0.9, 0.5, 0.3, 0.2, 0.8])\n",
    "y_pred = np.array([0.3, 0.6, 0.7, 0.5, 0.6])"
   ]
  },
  {
   "cell_type": "code",
   "execution_count": null,
   "id": "57b422a0",
   "metadata": {},
   "outputs": [],
   "source": [
    "n = len(y_true)"
   ]
  },
  {
   "cell_type": "code",
   "execution_count": null,
   "id": "57b1dcf7-567f-4087-af72-1287db3106ad",
   "metadata": {
    "tags": []
   },
   "outputs": [],
   "source": [
    "mse = np.square(y_true - y_pred).sum() * 1.0 / n"
   ]
  },
  {
   "cell_type": "code",
   "execution_count": null,
   "id": "e88a3183",
   "metadata": {},
   "outputs": [],
   "source": [
    "print(mse)"
   ]
  },
  {
   "cell_type": "markdown",
   "id": "ddb27d54-eba8-434f-8a67-fec9a0d3043b",
   "metadata": {
    "tags": []
   },
   "source": [
    "# Use case 3"
   ]
  },
  {
   "cell_type": "markdown",
   "id": "56b6cce8-b557-40da-b6fc-8408c30f0f85",
   "metadata": {},
   "source": [
    "Churn prediction example"
   ]
  },
  {
   "cell_type": "markdown",
   "id": "5175bfc0-e2a7-4825-b899-f58b7b636df6",
   "metadata": {
    "tags": []
   },
   "source": [
    "# Use case 4:"
   ]
  },
  {
   "cell_type": "markdown",
   "id": "2ad01967-a5a0-4fcc-b33c-80e1f9a021af",
   "metadata": {
    "execution": {
     "iopub.execute_input": "2022-09-24T15:12:49.588301Z",
     "iopub.status.busy": "2022-09-24T15:12:49.587287Z",
     "iopub.status.idle": "2022-09-24T15:12:49.610679Z",
     "shell.execute_reply": "2022-09-24T15:12:49.608093Z",
     "shell.execute_reply.started": "2022-09-24T15:12:49.587287Z"
    }
   },
   "source": [
    "Centering an array example"
   ]
  },
  {
   "cell_type": "markdown",
   "id": "6bec32e5-0bfd-4707-8280-b2b1ebe09532",
   "metadata": {},
   "source": [
    "# Topics we didn't cover"
   ]
  },
  {
   "cell_type": "markdown",
   "id": "3d9a4d4c-9be9-4219-848c-79b3c2a5f09f",
   "metadata": {},
   "source": [
    "- `np.where` and `np.select`\n",
    "- Set functions: `np.intersect1d`, `np.isin`, `np.setdiff1d`\n",
    "- Linear algebra moduble.\n",
    "- Saving and loading data: `np.save` and `np.load`"
   ]
  },
  {
   "cell_type": "markdown",
   "id": "278652c3-dd42-4f58-a3bc-b78565125458",
   "metadata": {
    "tags": []
   },
   "source": [
    "# Resources:"
   ]
  },
  {
   "cell_type": "markdown",
   "id": "029fb977-c3a3-410c-bb6a-a21d12bd2f7c",
   "metadata": {},
   "source": [
    "1. [100 numpy exercises (with solutions)](https://github.com/rougier/numpy-100)\n",
    "2. [Stanford CS231n Convolutional Neural Networks for Visual Recognition - Python Numpy Tutorial](https://cs231n.github.io/python-numpy-tutorial/)\n",
    "3. [A Visual Intro to NumPy and Data Representation](https://jalammar.github.io/visual-numpy/)\n",
    "4. [DataCamp - Python Numpy Array Tutorial](https://www.datacamp.com/tutorial/python-numpy-tutorial)\n",
    "5. [Scientific Computing in Python: Introduction to NumPy and Matplotlib](https://sebastianraschka.com/blog/2020/numpy-intro.html)\n",
    "6. [Random Number Generator Using Numpy Tutorial - DataCamp](https://www.datacamp.com/tutorial/numpy-random)\n",
    "7. [Look Ma, No For-Loops: Array Programming With NumPy](https://realpython.com/numpy-array-programming/)\n",
    "8. [Numpy Vectorization](https://medium.com/@mikeliao/numpy-vectorization-d4adea4fc2a)\n",
    "9. [1000x faster data manipulation: vectorizing with Pandas and Numpy](https://www.youtube.com/watch?v=nxWginnBklU&ab_channel=PyGotham2019)\n",
    "10. [NumPy tutorials](https://numpy.org/numpy-tutorials/index.html)\n",
    "11. [Reshape numpy arrays in Python — a step-by-step pictorial tutorial](https://towardsdatascience.com/reshaping-numpy-arrays-in-python-a-step-by-step-pictorial-tutorial-aed5f471cf0b)\n",
    "12. [Numpy Axes, Explained](https://www.sharpsightlabs.com/blog/numpy-axes-explained/)"
   ]
  },
  {
   "cell_type": "code",
   "execution_count": null,
   "id": "f6482a76-aaa2-41a1-84a4-1e02526f657f",
   "metadata": {},
   "outputs": [],
   "source": []
  }
 ],
 "metadata": {
  "kernelspec": {
   "display_name": "Python 3 (ipykernel)",
   "language": "python",
   "name": "python3"
  },
  "language_info": {
   "codemirror_mode": {
    "name": "ipython",
    "version": 3
   },
   "file_extension": ".py",
   "mimetype": "text/x-python",
   "name": "python",
   "nbconvert_exporter": "python",
   "pygments_lexer": "ipython3",
   "version": "3.9.7"
  },
  "toc-autonumbering": true,
  "toc-showcode": false,
  "toc-showmarkdowntxt": false,
  "toc-showtags": false,
  "vscode": {
   "interpreter": {
    "hash": "6b06815203ddd92f5faa4842166b29684388ac14e401fa79d1b33b92504025b6"
   }
  }
 },
 "nbformat": 4,
 "nbformat_minor": 5
}
