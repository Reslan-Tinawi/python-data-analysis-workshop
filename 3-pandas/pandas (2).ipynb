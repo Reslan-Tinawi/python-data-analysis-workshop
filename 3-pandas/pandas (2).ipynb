{
 "cells": [
  {
   "cell_type": "markdown",
   "metadata": {
    "id": "wsezP8-NZZlo"
   },
   "source": [
    "# What is `pandas` and do I need to learn yet another package?\n",
    "\n",
    "- Data Wrangling.\n",
    "\n",
    "![Alt text](data-wrangling-example.png)\n",
    "- Data Manipulation.\n",
    "- Data Cleaning.\n",
    "- Data munging."
   ]
  },
  {
   "cell_type": "markdown",
   "metadata": {
    "id": "GBVeqyZfaOzN"
   },
   "source": [
    "# What is tabular data and how does it differ from n-dimensional arrays?\n",
    "\n",
    "- The pandas library is built upon another library `NumPy`, which is oriented to efficiently working with arrays instead of the features of working on `DataFrame`s.\n",
    "\n",
    "- At the very basic level, Pandas objects can be thought of as enhanced versions of NumPy structured arrays in which the rows and columns are identified with labels rather than simple integer indices.\n",
    "\n",
    "- The three fundamental Pandas data structures: the `Series`, `DataFrame`, and `Index`."
   ]
  },
  {
   "cell_type": "markdown",
   "metadata": {
    "id": "gQZGAG8wenes"
   },
   "source": [
    "# Import libraries"
   ]
  },
  {
   "cell_type": "code",
   "execution_count": 1,
   "metadata": {
    "id": "xI7H2PfAelwE"
   },
   "outputs": [],
   "source": [
    "import numpy as np\n",
    "import pandas as pd"
   ]
  },
  {
   "cell_type": "markdown",
   "metadata": {
    "id": "Eh52UC5-gNBQ"
   },
   "source": [
    "# Pandas objects"
   ]
  },
  {
   "cell_type": "markdown",
   "metadata": {
    "id": "k3K92OflgM9f"
   },
   "source": []
  },
  {
   "cell_type": "markdown",
   "metadata": {
    "id": "uymCq1LPgM5o"
   },
   "source": []
  },
  {
   "cell_type": "markdown",
   "metadata": {
    "id": "4Ew8oZnWgM1s"
   },
   "source": []
  },
  {
   "cell_type": "markdown",
   "metadata": {
    "id": "e4g5EorQgMxy"
   },
   "source": []
  },
  {
   "cell_type": "markdown",
   "metadata": {
    "id": "3PRU7jvDgMt4"
   },
   "source": []
  },
  {
   "cell_type": "markdown",
   "metadata": {
    "id": "SDteqvvNgMp2"
   },
   "source": []
  },
  {
   "cell_type": "markdown",
   "metadata": {
    "id": "zVWQkApOgMmT"
   },
   "source": []
  },
  {
   "cell_type": "markdown",
   "metadata": {
    "id": "mW7IbKqBgMiB"
   },
   "source": []
  },
  {
   "cell_type": "markdown",
   "metadata": {
    "id": "2bNmZpNvamEY"
   },
   "source": [
    "# How does `pandas` handle tabular data?\n",
    "\n",
    "- `Series`\n",
    "- `DataFrame`"
   ]
  },
  {
   "cell_type": "markdown",
   "metadata": {
    "id": "O-LgHGWTavoc"
   },
   "source": [
    "# Transition from working with arrays to working with DataFrames"
   ]
  },
  {
   "cell_type": "markdown",
   "metadata": {
    "id": "iKeE2QNca2bw"
   },
   "source": [
    "# Accessing data in `DataFrame`"
   ]
  },
  {
   "cell_type": "markdown",
   "metadata": {
    "id": "b5YttzMCa2Xl"
   },
   "source": [
    "# `DataFrame` operations"
   ]
  },
  {
   "cell_type": "markdown",
   "metadata": {
    "id": "17rr7fvVa2T2"
   },
   "source": [
    "# Handling missing values"
   ]
  },
  {
   "cell_type": "markdown",
   "metadata": {
    "id": "IxfuvBA0a2P5"
   },
   "source": [
    "# Rading and saving data"
   ]
  },
  {
   "cell_type": "code",
   "execution_count": null,
   "metadata": {
    "id": "0HV5MQ3FaM8g"
   },
   "outputs": [],
   "source": []
  },
  {
   "cell_type": "markdown",
   "metadata": {
    "id": "UpvMr2YEYcLv"
   },
   "source": [
    "# Sources"
   ]
  },
  {
   "cell_type": "markdown",
   "metadata": {
    "id": "0I67i6QEYfsd"
   },
   "source": [
    "- https://stackoverflow.com/questions/16729574/how-can-i-get-a-value-from-a-cell-of-a-dataframe\n",
    "- https://pandas.pydata.org/docs/reference/api/pandas.DataFrame.reset_index.html\n",
    "- https://stackoverflow.com/questions/35084071/concat-dataframe-reindexing-only-valid-with-uniquely-valued-index-objects\n",
    "- https://pandas.pydata.org/docs/reference/api/pandas.DataFrame.nlargest.html"
   ]
  },
  {
   "cell_type": "code",
   "execution_count": null,
   "metadata": {
    "id": "cEZH-j5gYddB"
   },
   "outputs": [],
   "source": []
  }
 ],
 "metadata": {
  "colab": {
   "collapsed_sections": [],
   "provenance": []
  },
  "kernelspec": {
   "display_name": "Python 3 (ipykernel)",
   "language": "python",
   "name": "python3"
  },
  "language_info": {
   "codemirror_mode": {
    "name": "ipython",
    "version": 3
   },
   "file_extension": ".py",
   "mimetype": "text/x-python",
   "name": "python",
   "nbconvert_exporter": "python",
   "pygments_lexer": "ipython3",
   "version": "3.9.7"
  }
 },
 "nbformat": 4,
 "nbformat_minor": 4
}
