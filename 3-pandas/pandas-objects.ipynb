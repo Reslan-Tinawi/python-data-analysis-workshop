{
 "cells": [
  {
   "cell_type": "markdown",
   "id": "6034b273-5ce0-4d95-a23c-0b404bd496a1",
   "metadata": {
    "jp-MarkdownHeadingCollapsed": true,
    "tags": []
   },
   "source": [
    "# Import libraries"
   ]
  },
  {
   "cell_type": "markdown",
   "id": "85d3aa57-e873-44c3-9bcb-6c8ece32ac14",
   "metadata": {},
   "source": [
    "Install libraries if not already installed by running:\n",
    "\n",
    "```\n",
    "pip install pandas\n",
    "pip install numpy\n",
    "```"
   ]
  },
  {
   "cell_type": "code",
   "execution_count": null,
   "id": "edae9edf-7814-47bf-a106-3602aef77696",
   "metadata": {
    "tags": []
   },
   "outputs": [],
   "source": [
    "from datetime import datetime\n",
    "\n",
    "import numpy as np\n",
    "import pandas as pd"
   ]
  },
  {
   "cell_type": "markdown",
   "id": "0d578ca3-58f5-4848-a2d8-797e84d4b55f",
   "metadata": {
    "jp-MarkdownHeadingCollapsed": true,
    "tags": []
   },
   "source": [
    "# Pandas objects"
   ]
  },
  {
   "cell_type": "markdown",
   "id": "c443ff57-1350-40e5-afe2-331f080ff0bb",
   "metadata": {},
   "source": [
    "At the very basic level, Pandas objects can be thought of as an enhanced versions of `NumPy` structured arrays in which the rows and columns are identified with _labels_ rather than simple integer indices\n",
    "\n",
    "The two fundamental data structures in `pandas` are: `Series`, `DataFrame`, We'll dive into each one in more details in the subsequent sections."
   ]
  },
  {
   "cell_type": "markdown",
   "id": "a890a74c-1b11-4edc-aaaa-2efe95b4fa5c",
   "metadata": {
    "jp-MarkdownHeadingCollapsed": true,
    "tags": []
   },
   "source": [
    "# `Series`:"
   ]
  },
  {
   "cell_type": "markdown",
   "id": "a338118a-d8a1-4ec1-862d-d590e896cd35",
   "metadata": {},
   "source": [
    "A Pandas `Series` is a one-dimensional array of **indexed** data. It can be created from a `list`, a `dictionary`, or a `NumPy` array.\n",
    "\n",
    "It can be thought of as a **one-dimensional** `NumPy` array of **homogeneous** values, accompanied by _labelded_ axis and a _name_.\n",
    "\n",
    "The following figure illustrates the difference between a `NumPy` array and a `pd.Series`:\n",
    "\n",
    "<div>\n",
    "    <img src=\"img/series-vs-np-array.png\" alt='numpy-array-vs-pandas-series' width=\"800\"/>\n",
    "</div>\n",
    "\n",
    "The essential difference is the presence of the **index**. While the `NumPy` array has an _implicitly_ defined integer index used to access the values, the Pandas `Series` has an _explicitly_ defined index associated with the values.\n",
    "\n",
    "We'll talk about the advateges of the `Index` in a minute."
   ]
  },
  {
   "cell_type": "markdown",
   "id": "798dba95-179d-47c1-9c18-4ea076673532",
   "metadata": {
    "tags": []
   },
   "source": [
    "## Creating `Series` object"
   ]
  },
  {
   "cell_type": "code",
   "execution_count": null,
   "id": "aa26220c-19aa-4b35-abcd-286c1de2811b",
   "metadata": {
    "tags": []
   },
   "outputs": [],
   "source": [
    "example_series = pd.Series(data=[10, 20, 30])"
   ]
  },
  {
   "cell_type": "code",
   "execution_count": null,
   "id": "970a9603-2afe-43a8-8044-45740dfe2367",
   "metadata": {
    "tags": []
   },
   "outputs": [],
   "source": [
    "example_series"
   ]
  },
  {
   "cell_type": "code",
   "execution_count": null,
   "id": "f0530bb3-74ac-45ee-8838-523343b0d8c7",
   "metadata": {
    "tags": []
   },
   "outputs": [],
   "source": [
    "print(f\"example_series.values: {example_series.values}\")\n",
    "print(f\"example_series.index: {example_series.index}\")\n",
    "print(f\"example_series.shape: {example_series.shape}\")\n",
    "print(f\"example_series.dtype: {example_series.dtype}\")"
   ]
  },
  {
   "cell_type": "code",
   "execution_count": null,
   "id": "29a2c013-fc45-4f8c-9ec3-d4865a4c2ace",
   "metadata": {
    "tags": []
   },
   "outputs": [],
   "source": [
    "example_np_array = np.array([10, 20, 30])"
   ]
  },
  {
   "cell_type": "code",
   "execution_count": null,
   "id": "12af09f0-14d2-4a65-8db7-7ba6b9c1a89e",
   "metadata": {
    "tags": []
   },
   "outputs": [],
   "source": [
    "print(f\"example_np_array: {example_np_array}\")\n",
    "print(f\"example_np_array.shape: {example_np_array.shape}\")\n",
    "print(f\"example_np_array.dtype: {example_np_array.dtype}\")"
   ]
  },
  {
   "cell_type": "markdown",
   "id": "ed34e929-9413-472f-8193-c5d49a02adda",
   "metadata": {},
   "source": [
    "As we can see, the `Series` wraps both a sequence of `values` and a sequence of `indices`. In this example, the default index was used as it wasn't provided for the `Series` constructor.\n",
    "\n",
    "Similar to `NumPy` arrays, we can access `Series` data:"
   ]
  },
  {
   "cell_type": "code",
   "execution_count": null,
   "id": "fd214caa-53aa-4944-99d8-aa8d996237ca",
   "metadata": {
    "tags": []
   },
   "outputs": [],
   "source": [
    "print(f\"first element in example_series: {example_series[0]}\")"
   ]
  },
  {
   "cell_type": "code",
   "execution_count": null,
   "id": "5dc1700b-f651-4f10-baef-9eebb8ede031",
   "metadata": {
    "tags": []
   },
   "outputs": [],
   "source": [
    "print(f\"first two elements in example_series: \\n{example_series[:2]}\")"
   ]
  },
  {
   "cell_type": "markdown",
   "id": "0841f326-fcb7-40be-b23c-682b75dcd7b3",
   "metadata": {
    "jp-MarkdownHeadingCollapsed": true,
    "tags": []
   },
   "source": [
    "### `Series` with string index"
   ]
  },
  {
   "cell_type": "markdown",
   "id": "68c8df70-ffcb-4f20-8014-d75770072bff",
   "metadata": {},
   "source": [
    "We'll create a `pd.Series` with a string `index` to understand how it works:\n",
    "\n",
    "<div>\n",
    "    <img src=\"img/series-string-index.png\" alt='series-string-index' width=\"850\"/>\n",
    "</div>"
   ]
  },
  {
   "cell_type": "code",
   "execution_count": null,
   "id": "da7a42e9-d69c-4258-a327-5b54130c7f50",
   "metadata": {
    "tags": []
   },
   "outputs": [],
   "source": [
    "student_grades_series = pd.Series(\n",
    "    data=[90, 83, 73, 57, 91], index=[\"Sami\", \"Ahmed\", \"Qusai\", \"Saeed\", \"Yamen\"]\n",
    ")"
   ]
  },
  {
   "cell_type": "code",
   "execution_count": null,
   "id": "68587ffe-f8ae-4103-9f48-46f80881c46b",
   "metadata": {
    "tags": []
   },
   "outputs": [],
   "source": [
    "student_grades_series"
   ]
  },
  {
   "cell_type": "code",
   "execution_count": null,
   "id": "cc970527-46d8-4030-9095-ff84dbe5bda8",
   "metadata": {
    "tags": []
   },
   "outputs": [],
   "source": [
    "student_grades_series.index"
   ]
  },
  {
   "cell_type": "markdown",
   "id": "c98f21c6-160d-4ee7-9d93-590a1ffee089",
   "metadata": {},
   "source": [
    "We can use the index to access elements in the series:"
   ]
  },
  {
   "cell_type": "code",
   "execution_count": null,
   "id": "58af2468-7621-495b-8a0a-9666cbf5aa2e",
   "metadata": {},
   "outputs": [],
   "source": [
    "# get the corresponding grade for Sami\n",
    "student_grades_series[\"Sami\"]"
   ]
  },
  {
   "cell_type": "code",
   "execution_count": null,
   "id": "699198cb-b32b-4121-8546-43e816756cdd",
   "metadata": {
    "tags": []
   },
   "outputs": [],
   "source": [
    "# using slicing, get all grades starting from Qusai\n",
    "student_grades_series[\"Qusai\":]"
   ]
  },
  {
   "cell_type": "markdown",
   "id": "d3461cf9-0ee8-4285-a306-7b524822b415",
   "metadata": {
    "jp-MarkdownHeadingCollapsed": true,
    "tags": []
   },
   "source": [
    "### `Series` with datetime index"
   ]
  },
  {
   "cell_type": "markdown",
   "id": "42d458b2-afcd-48c5-b87a-6c094cbc49e3",
   "metadata": {},
   "source": [
    "Similar to the previous example, here we'll create a `Series` with a datetime index.\n",
    "\n",
    "Suppose we have the daily temperature for Damascus city for the first week of September 2022:\n",
    "\n",
    "<div>\n",
    "    <img src='img/series-datetime-index.png' alt='series-datetime-index'>\n",
    "</div>"
   ]
  },
  {
   "cell_type": "code",
   "execution_count": null,
   "id": "952ecabb-6051-4209-b4b9-18d67e003daf",
   "metadata": {
    "tags": []
   },
   "outputs": [],
   "source": [
    "date_format = \"%Y-%m-%d\""
   ]
  },
  {
   "cell_type": "code",
   "execution_count": null,
   "id": "45342b89-9faf-4a08-ade9-ba91b42f8603",
   "metadata": {
    "tags": []
   },
   "outputs": [],
   "source": [
    "temperatures_list = [33, 36, 39, 41, 42, 40, 38]"
   ]
  },
  {
   "cell_type": "code",
   "execution_count": null,
   "id": "939fb2db-93c1-47b0-b46a-835fd8637e2f",
   "metadata": {
    "tags": []
   },
   "outputs": [],
   "source": [
    "dates_list = [\n",
    "    datetime.strptime(\"2020-09-01\", date_format),\n",
    "    datetime.strptime(\"2020-09-02\", date_format),\n",
    "    datetime.strptime(\"2020-09-03\", date_format),\n",
    "    datetime.strptime(\"2020-09-04\", date_format),\n",
    "    datetime.strptime(\"2020-09-05\", date_format),\n",
    "    datetime.strptime(\"2020-09-06\", date_format),\n",
    "    datetime.strptime(\"2020-09-07\", date_format),\n",
    "]"
   ]
  },
  {
   "cell_type": "code",
   "execution_count": null,
   "id": "c177d157-cb11-4079-8b06-e58ebad6cb90",
   "metadata": {
    "tags": []
   },
   "outputs": [],
   "source": [
    "daily_temperature_series = pd.Series(data=temperatures_list, index=dates_list)"
   ]
  },
  {
   "cell_type": "code",
   "execution_count": null,
   "id": "63071db9-34ef-4324-942f-a3ede2ec7075",
   "metadata": {
    "tags": []
   },
   "outputs": [],
   "source": [
    "daily_temperature_series"
   ]
  },
  {
   "cell_type": "code",
   "execution_count": null,
   "id": "09680342-46e7-4542-b507-5d47ceabb6a4",
   "metadata": {
    "tags": []
   },
   "outputs": [],
   "source": [
    "daily_temperature_series.index"
   ]
  },
  {
   "cell_type": "markdown",
   "id": "3f4f52f5-3392-4c45-a30d-3da9205173a5",
   "metadata": {},
   "source": [
    "Now, we can access individual elements in the `Series` using the index:"
   ]
  },
  {
   "cell_type": "markdown",
   "id": "045f3beb-c77f-4006-9a19-b8976dfda8e2",
   "metadata": {},
   "source": [
    "What was the temperature on `2020-09-02`?"
   ]
  },
  {
   "cell_type": "code",
   "execution_count": null,
   "id": "adbaa9b4-4b44-4c6a-a15f-b3bd651b1709",
   "metadata": {
    "tags": []
   },
   "outputs": [],
   "source": [
    "daily_temperature_series[\"2020-09-02\"]"
   ]
  },
  {
   "cell_type": "markdown",
   "id": "02788945-087e-407b-8c2f-29512c5dd9e4",
   "metadata": {},
   "source": [
    "What was the temperature between `2020-09-04` and `2020-09-06`:"
   ]
  },
  {
   "cell_type": "code",
   "execution_count": null,
   "id": "0db904c7-dd32-42b0-b329-5409b646e999",
   "metadata": {
    "tags": []
   },
   "outputs": [],
   "source": [
    "daily_temperature_series[\"2020-09-04\":\"2020-09-06\"]"
   ]
  },
  {
   "cell_type": "markdown",
   "id": "d5fcaf28-0608-4ba3-916e-4c337a727ee7",
   "metadata": {},
   "source": [
    "If we pass a non-existent index value we get a `KeyError` exception"
   ]
  },
  {
   "cell_type": "code",
   "execution_count": null,
   "id": "67bc5e3e-84ac-4481-93b0-145814efac99",
   "metadata": {
    "tags": []
   },
   "outputs": [],
   "source": [
    "daily_temperature_series[\"2020-09-09\"]"
   ]
  },
  {
   "cell_type": "markdown",
   "id": "f3b6039e-8a4b-4bc3-b3b2-a85ab58f54a5",
   "metadata": {},
   "source": [
    "We can use boolean indexing similar to `NumPy`"
   ]
  },
  {
   "cell_type": "code",
   "execution_count": null,
   "id": "1f0cfb5c-2ad4-4717-8650-7f372f005f1a",
   "metadata": {
    "tags": []
   },
   "outputs": [],
   "source": [
    "daily_temperature_series[daily_temperature_series > 40]"
   ]
  },
  {
   "cell_type": "markdown",
   "id": "6217cbac-76da-4a88-8013-4c28ecd752ea",
   "metadata": {
    "tags": []
   },
   "source": [
    "## `Series` most common methods:"
   ]
  },
  {
   "cell_type": "markdown",
   "id": "59bcd4e5-5cb9-4180-9fef-7724e5717933",
   "metadata": {
    "jp-MarkdownHeadingCollapsed": true,
    "tags": []
   },
   "source": [
    "### `value_counts`"
   ]
  },
  {
   "cell_type": "markdown",
   "id": "433d0dde-dd82-4113-9db1-49deef1cfadf",
   "metadata": {},
   "source": [
    "The `value_counts` method is one of the most common methods when working with `pd.Series`. For a `Sereis` of _categorical_ data, it returns a new `Series` with its **index** holding the unique values and its **values** holds the counts of the corresponding elements.\n",
    "\n",
    "The below figure illustrates how `value_counts` work for a series containing fruits data:\n",
    "\n",
    "<div>\n",
    "    <img src='img/series-value-counts.png'>\n",
    "</div>\n",
    "\n",
    "We can see that the values in the new `Series` are sorted in descending order according to their frequency.\n",
    "\n",
    "Passing `notmalize=True` can be useful to get percentage frequency rather than raw frequency."
   ]
  },
  {
   "cell_type": "code",
   "execution_count": null,
   "id": "aa119ad9-2be3-4418-ae8f-313f7b081e04",
   "metadata": {
    "tags": []
   },
   "outputs": [],
   "source": [
    "fruits_series = pd.Series(\n",
    "    data=[\n",
    "        \"Apple\",\n",
    "        \"Orange\",\n",
    "        \"Banana\",\n",
    "        \"Apple\",\n",
    "        \"Apple\",\n",
    "        \"Strawberry\",\n",
    "        \"Banana\",\n",
    "        \"Orange\",\n",
    "    ]\n",
    ")"
   ]
  },
  {
   "cell_type": "code",
   "execution_count": null,
   "id": "c7617933-e743-4a07-8394-c206a027ee2c",
   "metadata": {
    "tags": []
   },
   "outputs": [],
   "source": [
    "fruits_series"
   ]
  },
  {
   "cell_type": "code",
   "execution_count": null,
   "id": "988553cb-5848-4bd5-9f51-fd7f0fb9f9e4",
   "metadata": {
    "tags": []
   },
   "outputs": [],
   "source": [
    "fruits_series.value_counts()"
   ]
  },
  {
   "cell_type": "code",
   "execution_count": null,
   "id": "2f56e8d4-a1db-4257-a189-e4d0921a75bd",
   "metadata": {
    "tags": []
   },
   "outputs": [],
   "source": [
    "fruits_series.value_counts(normalize=True)"
   ]
  },
  {
   "cell_type": "markdown",
   "id": "2042b80b-aff7-4965-836b-32c9f973e393",
   "metadata": {
    "jp-MarkdownHeadingCollapsed": true,
    "tags": []
   },
   "source": [
    "### `describe`"
   ]
  },
  {
   "cell_type": "markdown",
   "id": "aa0fd27e-a872-4d9a-871b-0a3caeea0647",
   "metadata": {},
   "source": [
    "The `.describe` method calculates summary statistics for the series.\n",
    "\n",
    "For _numeric_ series:\n",
    "- `count`: number of elements.\n",
    "- `mean`: mean value.\n",
    "- `std`: standard deviation.\n",
    "- `min`: minimum value.\n",
    "- `25%`: first [quartile](https://en.wikipedia.org/wiki/Quartile).\n",
    "- `50%`: second [quartile](https://en.wikipedia.org/wiki/Quartile) (same as `mean`).\n",
    "- `75%`: third [quartile](https://en.wikipedia.org/wiki/Quartile).\n",
    "- `max`: maximum value.\n",
    "\n",
    "For _categorical_ series:\n",
    "- `count`: number of elements.\n",
    "- `unique`: number unique of elements.\n",
    "- `top`: most common element.\n",
    "- `freq`: frequency of most common element."
   ]
  },
  {
   "cell_type": "code",
   "execution_count": null,
   "id": "2c5f91a5-04b1-4a24-9e18-97d1aefc7ee7",
   "metadata": {
    "tags": []
   },
   "outputs": [],
   "source": [
    "numeric_series = pd.Series(data=[1.2, 2.9, 3.05, 4, 5.6, 6.2])"
   ]
  },
  {
   "cell_type": "code",
   "execution_count": null,
   "id": "6ac41de0-be1e-4c53-9fe1-552d55e14468",
   "metadata": {
    "tags": []
   },
   "outputs": [],
   "source": [
    "categorical_series = pd.Series(data=[\"cat\", \"dog\", \"cat\", \"mouse\", \"lion\"])"
   ]
  },
  {
   "cell_type": "code",
   "execution_count": null,
   "id": "583b25fe-e665-4e06-a43c-480b4fe3d5cd",
   "metadata": {
    "tags": []
   },
   "outputs": [],
   "source": [
    "numeric_series.describe()"
   ]
  },
  {
   "cell_type": "code",
   "execution_count": null,
   "id": "36d1bfc8-593b-48dd-8fd1-51765ea5b7bb",
   "metadata": {
    "tags": []
   },
   "outputs": [],
   "source": [
    "categorical_series.describe()"
   ]
  },
  {
   "cell_type": "markdown",
   "id": "452503c4-3a2a-4d3e-b146-9e6da2583218",
   "metadata": {
    "jp-MarkdownHeadingCollapsed": true,
    "tags": []
   },
   "source": [
    "## Aggregation functions:"
   ]
  },
  {
   "cell_type": "markdown",
   "id": "a7a9e60e-5350-4601-bf8b-d9ce9eb26210",
   "metadata": {},
   "source": [
    "Similar to `NumPy` arrays, pandas `Series` has the same aggrgation functions:"
   ]
  },
  {
   "cell_type": "code",
   "execution_count": null,
   "id": "8ec6f30f-366b-45d9-9f04-00cae59504ed",
   "metadata": {},
   "outputs": [],
   "source": [
    "series_of_integers = pd.Series(data=[1, 2, 3, 4, 5, 6])"
   ]
  },
  {
   "cell_type": "code",
   "execution_count": null,
   "id": "da45f789-9f39-457a-912c-dbec8a685a1b",
   "metadata": {
    "tags": []
   },
   "outputs": [],
   "source": [
    "print(f\"Min: {series_of_integers.min()}\")\n",
    "print(f\"Max: {series_of_integers.max()}\")\n",
    "print(f\"Sum: {series_of_integers.sum()}\")\n",
    "print(f\"Mean: {series_of_integers.mean()}\")"
   ]
  },
  {
   "cell_type": "markdown",
   "id": "8561982a-e60b-49c5-87c3-d3189ee76618",
   "metadata": {
    "jp-MarkdownHeadingCollapsed": true,
    "tags": []
   },
   "source": [
    "## String-related functions:"
   ]
  },
  {
   "cell_type": "markdown",
   "id": "1c2257c2-6963-45f3-9243-e182ff675ad8",
   "metadata": {},
   "source": [
    "Oftentimes, we have _textual_ data (words, sentences, paragraphs, etc) that we want to manipulate.\n",
    "\n",
    "In this section, we'll give examples of how we can use regular string functions (`tolower`, `toupper`, `contains`, `match`, etc) on a series of data."
   ]
  },
  {
   "cell_type": "markdown",
   "id": "2b57b203-2d28-4d71-954d-7a98e8495b81",
   "metadata": {
    "jp-MarkdownHeadingCollapsed": true,
    "tags": []
   },
   "source": [
    "### Series of words:"
   ]
  },
  {
   "cell_type": "code",
   "execution_count": null,
   "id": "4586f907-13fe-48cf-a996-20f39662ee55",
   "metadata": {
    "tags": []
   },
   "outputs": [],
   "source": [
    "words_series = pd.Series(data=[\"HEllo\", \"hi  \", \"HEY\",])"
   ]
  },
  {
   "cell_type": "code",
   "execution_count": null,
   "id": "be9100ab-6632-4e27-bc69-02edac79bdce",
   "metadata": {
    "tags": []
   },
   "outputs": [],
   "source": [
    "lowercase_words = words_series.str.lower()"
   ]
  },
  {
   "cell_type": "code",
   "execution_count": null,
   "id": "9dafa5e0-b80c-42ba-b190-6e6344571443",
   "metadata": {
    "tags": []
   },
   "outputs": [],
   "source": [
    "stripped_words = words_series.str.strip()"
   ]
  },
  {
   "cell_type": "code",
   "execution_count": null,
   "id": "6bb6be29-946b-4e1b-a162-daa7e3abe8b6",
   "metadata": {},
   "outputs": [],
   "source": [
    "print(lowercase_words)"
   ]
  },
  {
   "cell_type": "code",
   "execution_count": null,
   "id": "d967c211-9770-4425-a3d6-b1ce3ae7b268",
   "metadata": {},
   "outputs": [],
   "source": [
    "print(stripped_words)"
   ]
  },
  {
   "cell_type": "code",
   "execution_count": null,
   "id": "ab01d10c-2bed-41bc-b337-b6369d0c48ac",
   "metadata": {},
   "outputs": [],
   "source": [
    "normalized_words_series = words_series.str.lower().str.strip()"
   ]
  },
  {
   "cell_type": "code",
   "execution_count": null,
   "id": "d511ff10-53ea-4c11-bef4-d4a4d85f1156",
   "metadata": {},
   "outputs": [],
   "source": [
    "print(normalized_words_series)"
   ]
  },
  {
   "cell_type": "markdown",
   "id": "0461fc35-4c7a-4bd8-869f-d58205505f46",
   "metadata": {
    "jp-MarkdownHeadingCollapsed": true,
    "tags": []
   },
   "source": [
    "### Series of sentences:"
   ]
  },
  {
   "cell_type": "code",
   "execution_count": null,
   "id": "67b1c255-d7e3-4e28-83c2-2681923f6681",
   "metadata": {},
   "outputs": [],
   "source": []
  },
  {
   "cell_type": "code",
   "execution_count": null,
   "id": "1e00b942-c6c2-4ac9-8a7b-33e3217388c7",
   "metadata": {},
   "outputs": [],
   "source": []
  },
  {
   "cell_type": "code",
   "execution_count": null,
   "id": "eed994a8-d94e-40f3-a038-fcfeee5e4da0",
   "metadata": {},
   "outputs": [],
   "source": []
  },
  {
   "cell_type": "code",
   "execution_count": null,
   "id": "4c9e252e-60fd-4039-a50f-77cfca17ffab",
   "metadata": {},
   "outputs": [],
   "source": []
  },
  {
   "cell_type": "markdown",
   "id": "96da2eff-50ba-42ea-8eea-ba028a624bf6",
   "metadata": {
    "jp-MarkdownHeadingCollapsed": true,
    "tags": []
   },
   "source": [
    "# Series indexing"
   ]
  },
  {
   "cell_type": "code",
   "execution_count": null,
   "id": "e897b4d7-87b2-4106-9bdb-08a21a5d0957",
   "metadata": {},
   "outputs": [],
   "source": [
    "student_ids = [93, 11, 22, 51, 63]"
   ]
  },
  {
   "cell_type": "code",
   "execution_count": null,
   "id": "97b7acc4-1c38-417d-8871-0a23d3ad029d",
   "metadata": {
    "tags": []
   },
   "outputs": [],
   "source": [
    "student_grades_np_array = np.array([90, 83, 73, 57, 91])"
   ]
  },
  {
   "cell_type": "code",
   "execution_count": null,
   "id": "fe3b2f86-53e2-4552-a666-2b775ebc6f02",
   "metadata": {
    "tags": []
   },
   "outputs": [],
   "source": [
    "student_grades_series = pd.Series(data=student_grades_np_array, index=student_ids)"
   ]
  },
  {
   "cell_type": "code",
   "execution_count": null,
   "id": "681ca4ab-7965-4605-9ee2-a476f4ec364f",
   "metadata": {
    "tags": []
   },
   "outputs": [],
   "source": [
    "student_grades_series"
   ]
  },
  {
   "cell_type": "markdown",
   "id": "8394de2b-2e8f-4a2a-8708-92183c0888aa",
   "metadata": {},
   "source": [
    "<div>\n",
    "    <img src='img/series-indexing/1-student-grades-numpy-array-vs-pandas-series.png' width='700'>\n",
    "</div>"
   ]
  },
  {
   "cell_type": "markdown",
   "id": "369dab2a-c4ac-439b-8acd-fd587f05d932",
   "metadata": {},
   "source": [
    "## Single value"
   ]
  },
  {
   "cell_type": "markdown",
   "id": "f2f1d21a-16d0-4f25-aa45-159eb46aa90e",
   "metadata": {},
   "source": [
    "### Access value by its position (implicit index)"
   ]
  },
  {
   "cell_type": "markdown",
   "id": "045a234b-c6d4-4ae4-9aa2-1d524cde35b0",
   "metadata": {},
   "source": [
    "<div>\n",
    "    <img src=\"img/series-indexing/2-student-grades-single-value-access.png\" width='800'>\n",
    "</div>"
   ]
  },
  {
   "cell_type": "code",
   "execution_count": null,
   "id": "2c677ea6-6d83-438e-9089-08b01c3bc179",
   "metadata": {},
   "outputs": [],
   "source": [
    "student_grades_np_array[1]"
   ]
  },
  {
   "cell_type": "code",
   "execution_count": null,
   "id": "cad6126f-8ac5-4605-87cf-fe17673d0fc8",
   "metadata": {},
   "outputs": [],
   "source": [
    "student_grades_series.iloc[1]"
   ]
  },
  {
   "cell_type": "markdown",
   "id": "a0cd4b85-f2e6-47dd-969f-fed103ed19da",
   "metadata": {},
   "source": [
    "### Access value by its _label_ (explicit index)"
   ]
  },
  {
   "cell_type": "markdown",
   "id": "9e8ca8e9-a3ed-476b-a957-036ad5112937",
   "metadata": {},
   "source": [
    "<div>\n",
    "    <img src='img/series-indexing/3-student-grades-single-value-access-by-label.png' width='700'>\n",
    "</div>"
   ]
  },
  {
   "cell_type": "code",
   "execution_count": null,
   "id": "342c1e23-80ac-413e-86a5-7b6bb26db6e3",
   "metadata": {
    "tags": []
   },
   "outputs": [],
   "source": [
    "student_grades_series.loc[51]"
   ]
  },
  {
   "cell_type": "markdown",
   "id": "a6054ddc-60bc-4240-8a17-a93eb2ac98e9",
   "metadata": {},
   "source": [
    "## Slicing"
   ]
  },
  {
   "cell_type": "markdown",
   "id": "970db487-0946-4d7e-8fd6-542f2fb5c582",
   "metadata": {},
   "source": [
    "### Position-based"
   ]
  },
  {
   "cell_type": "markdown",
   "id": "f51bf7fa-6c1b-43d5-b219-3ddaa54dfc08",
   "metadata": {},
   "source": [
    "<div>\n",
    "    <img src='img/series-indexing/4-student-grades-position-based-slicing.png' width='800'>\n",
    "</div>"
   ]
  },
  {
   "cell_type": "code",
   "execution_count": null,
   "id": "78308bd0-2e7c-4bf4-beba-52477b71e235",
   "metadata": {},
   "outputs": [],
   "source": [
    "student_grades_np_array"
   ]
  },
  {
   "cell_type": "code",
   "execution_count": null,
   "id": "26cd9dbf-830a-40cb-852b-23cfd7f14e45",
   "metadata": {
    "tags": []
   },
   "outputs": [],
   "source": [
    "student_grades_np_array[1:4]"
   ]
  },
  {
   "cell_type": "code",
   "execution_count": null,
   "id": "f71a67da-2e71-4ae7-aeaa-9bd3f4819d66",
   "metadata": {},
   "outputs": [],
   "source": [
    "student_grades_series.iloc[1:4]"
   ]
  },
  {
   "cell_type": "markdown",
   "id": "be458c3c-f42c-467e-b63d-cf9bc22a5d1d",
   "metadata": {},
   "source": [
    "### Label-based"
   ]
  },
  {
   "cell_type": "markdown",
   "id": "83f584c5-a180-4b83-96e3-46bfb880a7fb",
   "metadata": {},
   "source": [
    "<div>\n",
    "    <img src='img/series-indexing/5-student-grades-label-based-slicing.png' width='700'>\n",
    "</div>"
   ]
  },
  {
   "cell_type": "code",
   "execution_count": null,
   "id": "c8096950-9436-4119-bee8-1e6a5ad65ba5",
   "metadata": {},
   "outputs": [],
   "source": [
    "student_grades_series.loc[11:51]"
   ]
  },
  {
   "cell_type": "markdown",
   "id": "6a88c8a9-6065-4bbe-a2c0-cc2b5ba4d7ba",
   "metadata": {},
   "source": [
    "## Masking"
   ]
  },
  {
   "cell_type": "markdown",
   "id": "895521f5-5e28-46e5-8480-10b68aed73cd",
   "metadata": {},
   "source": [
    "<div>\n",
    "    <img src='img/series-indexing/6-student-grades-boolean-masking.png' width='800'>\n",
    "</div>"
   ]
  },
  {
   "cell_type": "markdown",
   "id": "99456651-c059-47ab-99be-435a63b13118",
   "metadata": {},
   "source": [
    "Here, we can't use the `.iloc` method."
   ]
  },
  {
   "cell_type": "code",
   "execution_count": null,
   "id": "4ca32fcd-e265-445c-899a-8e11e81e7250",
   "metadata": {
    "tags": []
   },
   "outputs": [],
   "source": [
    "student_grades_np_array[student_grades_np_array > 75]"
   ]
  },
  {
   "cell_type": "code",
   "execution_count": null,
   "id": "68b70e74-fa04-4706-81b6-83c36d0a374c",
   "metadata": {
    "tags": []
   },
   "outputs": [],
   "source": [
    "student_grades_series[student_grades_series > 75]"
   ]
  },
  {
   "cell_type": "code",
   "execution_count": null,
   "id": "4797f98e-ea91-4c74-bfd9-a8e5e4fe6b46",
   "metadata": {
    "tags": []
   },
   "outputs": [],
   "source": [
    "student_grades_series.loc[student_grades_series > 75]"
   ]
  },
  {
   "cell_type": "markdown",
   "id": "9aa7aa60-e32b-4987-8108-d857d19455a5",
   "metadata": {},
   "source": [
    "## Fancy indexing:"
   ]
  },
  {
   "cell_type": "markdown",
   "id": "d0aab02a-426f-42be-be31-464dd0bd6794",
   "metadata": {},
   "source": [
    "### Position-based"
   ]
  },
  {
   "cell_type": "markdown",
   "id": "2589c8a7-2502-4a19-8bbd-967e7c711a2f",
   "metadata": {},
   "source": [
    "<div>\n",
    "    <img src='img/series-indexing/7-student-grades-position-based-fancy-indexing.png' width='800'>\n",
    "</div>"
   ]
  },
  {
   "cell_type": "code",
   "execution_count": null,
   "id": "7a618ec6-b72f-4014-bf65-577f548cab10",
   "metadata": {},
   "outputs": [],
   "source": [
    "student_grades_np_array[[0, 2, 4]]"
   ]
  },
  {
   "cell_type": "code",
   "execution_count": null,
   "id": "10dea354-ffae-4bae-9418-ec9049d7b027",
   "metadata": {},
   "outputs": [],
   "source": [
    "student_grades_series.iloc[[0, 2, 4]]"
   ]
  },
  {
   "cell_type": "markdown",
   "id": "39f0af70-d957-4f04-9335-0292b3024082",
   "metadata": {},
   "source": [
    "### Label-based"
   ]
  },
  {
   "cell_type": "markdown",
   "id": "f75ef1b5-de38-4df5-9f8d-975db6cea42e",
   "metadata": {},
   "source": [
    "<div>\n",
    "    <img src='img/series-indexing/8-student-grades-label-based-fancy-indexing.png' width='800'>\n",
    "</div>"
   ]
  },
  {
   "cell_type": "code",
   "execution_count": null,
   "id": "f8cbf8c9-378d-47d0-a1b3-c09444aa5b08",
   "metadata": {
    "tags": []
   },
   "outputs": [],
   "source": [
    "student_grades_series.loc[[93, 11, 63]]"
   ]
  },
  {
   "cell_type": "markdown",
   "id": "ac6b995b-44f1-48a3-b8ad-fef3079b326f",
   "metadata": {
    "jp-MarkdownHeadingCollapsed": true,
    "tags": []
   },
   "source": [
    "# Operations on multiple `Series`"
   ]
  },
  {
   "cell_type": "markdown",
   "id": "3ef58b72-9348-42f9-ac8b-5f74dd15f681",
   "metadata": {
    "jp-MarkdownHeadingCollapsed": true,
    "tags": []
   },
   "source": [
    "## `Series` and a scaler"
   ]
  },
  {
   "cell_type": "markdown",
   "id": "788ba756-7568-440f-8297-902a262808a1",
   "metadata": {},
   "source": [
    "Similar to a `NumPy` array, we can:\n",
    "- add a scaler to `Series`\n",
    "- subtract scaler from `Series`\n",
    "- multiply `Series` by a scaler\n",
    "- divide `Series` by a scaler"
   ]
  },
  {
   "cell_type": "code",
   "execution_count": null,
   "id": "45c44787-7167-4f4b-8ba9-2afb0ea086ad",
   "metadata": {},
   "outputs": [],
   "source": [
    "student_grades_series"
   ]
  },
  {
   "cell_type": "markdown",
   "id": "c6caa0f0-108e-4e18-895a-8a987d780d7b",
   "metadata": {},
   "source": [
    "Divide grades by `10`:"
   ]
  },
  {
   "cell_type": "code",
   "execution_count": null,
   "id": "25f1e622-92ee-4789-bb49-5119d5ccff2a",
   "metadata": {
    "tags": []
   },
   "outputs": [],
   "source": [
    "student_grades_series / 10"
   ]
  },
  {
   "cell_type": "markdown",
   "id": "2e6cdfa4-2337-4ed5-a73c-28eb6f742545",
   "metadata": {},
   "source": [
    "## Two `Series` numeric operations"
   ]
  },
  {
   "cell_type": "code",
   "execution_count": null,
   "id": "50a0b35e-982c-4905-9974-75ffda29eb92",
   "metadata": {
    "tags": []
   },
   "outputs": [],
   "source": [
    "dates_list = [\n",
    "    datetime.strptime(\"2020-09-01\", date_format),\n",
    "    datetime.strptime(\"2020-09-02\", date_format),\n",
    "    datetime.strptime(\"2020-09-03\", date_format),\n",
    "    datetime.strptime(\"2020-09-04\", date_format),\n",
    "    datetime.strptime(\"2020-09-05\", date_format),\n",
    "    datetime.strptime(\"2020-09-06\", date_format),\n",
    "    datetime.strptime(\"2020-09-07\", date_format),\n",
    "    datetime.strptime(\"2020-09-08\", date_format),\n",
    "]"
   ]
  },
  {
   "cell_type": "code",
   "execution_count": null,
   "id": "4b028992-aca4-48ae-9e5e-8f5f600a96cd",
   "metadata": {},
   "outputs": [],
   "source": [
    "website_daily_visitors_series = pd.Series(\n",
    "    data=[9, 3, 10, 2, 4, 0, 5, 12], index=dates_list\n",
    ")"
   ]
  },
  {
   "cell_type": "code",
   "execution_count": null,
   "id": "8780c996-d178-46da-9e9e-d3dfe22f3a81",
   "metadata": {},
   "outputs": [],
   "source": [
    "# session duration in minutes\n",
    "website_daily_session_duration_series = pd.Series(\n",
    "    data=[7, 20, 35, 7, 3, 0, 22, 40], index=dates_list\n",
    ")"
   ]
  },
  {
   "cell_type": "markdown",
   "id": "651a912a-0de0-42f1-a0e6-af6f4dded459",
   "metadata": {},
   "source": [
    "What is the (average) number of minutes a visitor spends every day?"
   ]
  },
  {
   "cell_type": "code",
   "execution_count": null,
   "id": "a597c449-269b-420a-8e1d-bd90b4a310c6",
   "metadata": {
    "tags": []
   },
   "outputs": [],
   "source": [
    "website_session_duration_per_visitor_series = (\n",
    "    website_daily_session_duration_series / website_daily_visitors_series\n",
    ")"
   ]
  },
  {
   "cell_type": "code",
   "execution_count": null,
   "id": "b9bff027-6876-4d7f-b254-01ef24b28383",
   "metadata": {},
   "outputs": [],
   "source": [
    "website_session_duration_per_visitor_series"
   ]
  },
  {
   "cell_type": "markdown",
   "id": "56462ac6-b211-4dd9-bf12-d416c7ed4638",
   "metadata": {},
   "source": [
    "The power of pandas `Series` is shown in the previous example. Having _label_ information for each value can be helpful for performing meaningful operations."
   ]
  },
  {
   "cell_type": "markdown",
   "id": "6ac9cf7e-54a3-4da0-bca7-b7443d8a2662",
   "metadata": {
    "execution": {
     "iopub.execute_input": "2022-10-09T12:36:03.343741Z",
     "iopub.status.busy": "2022-10-09T12:36:03.343741Z",
     "iopub.status.idle": "2022-10-09T12:36:03.384732Z",
     "shell.execute_reply": "2022-10-09T12:36:03.384732Z",
     "shell.execute_reply.started": "2022-10-09T12:36:03.343741Z"
    }
   },
   "source": [
    "## `Series` concatenation"
   ]
  },
  {
   "cell_type": "markdown",
   "id": "5428120f-98c7-4e92-af27-b4f09d68e6c0",
   "metadata": {},
   "source": [
    "In certain situations, we might have two `Series` objects and we want to convert them to one.\n",
    "\n",
    "We can concat two (or more) series into one."
   ]
  },
  {
   "cell_type": "code",
   "execution_count": null,
   "id": "74985f64-6079-44ad-b466-4fdc692aa1c8",
   "metadata": {
    "tags": []
   },
   "outputs": [],
   "source": [
    "september_dates_list = [\n",
    "    datetime.strptime(\"2020-09-01\", date_format),\n",
    "    datetime.strptime(\"2020-09-02\", date_format),\n",
    "    datetime.strptime(\"2020-09-03\", date_format),\n",
    "    datetime.strptime(\"2020-09-04\", date_format),\n",
    "]"
   ]
  },
  {
   "cell_type": "code",
   "execution_count": null,
   "id": "cb470a53-05e2-4451-bb25-df2f10ee951d",
   "metadata": {
    "tags": []
   },
   "outputs": [],
   "source": [
    "october_dates_list = [\n",
    "    datetime.strptime(\"2020-10-05\", date_format),\n",
    "    datetime.strptime(\"2020-10-06\", date_format),\n",
    "    datetime.strptime(\"2020-10-07\", date_format),\n",
    "    datetime.strptime(\"2020-10-08\", date_format),\n",
    "]"
   ]
  },
  {
   "cell_type": "code",
   "execution_count": null,
   "id": "e27c350e-3c7b-440c-9a88-2bf801982c2a",
   "metadata": {},
   "outputs": [],
   "source": [
    "september_data = pd.Series(data=[31, 29, 27, 35], index=september_dates_list)"
   ]
  },
  {
   "cell_type": "code",
   "execution_count": null,
   "id": "ffe80040-87a6-42cc-a59b-935ca1ba382c",
   "metadata": {},
   "outputs": [],
   "source": [
    "october_data = pd.Series(data=[24, 26, 21, 27], index=october_dates_list)"
   ]
  },
  {
   "cell_type": "code",
   "execution_count": null,
   "id": "206c2a91-15c9-4a02-8a63-ddc0e28ea566",
   "metadata": {},
   "outputs": [],
   "source": [
    "september_data"
   ]
  },
  {
   "cell_type": "code",
   "execution_count": null,
   "id": "aa79ba12-d8a4-44fe-bf5e-4fde8e7e92ea",
   "metadata": {},
   "outputs": [],
   "source": [
    "october_data"
   ]
  },
  {
   "cell_type": "code",
   "execution_count": null,
   "id": "0208064b-0800-4abe-a8cc-c112ea52f33d",
   "metadata": {},
   "outputs": [],
   "source": [
    "concatenated_data = pd.concat([september_data, october_data])"
   ]
  },
  {
   "cell_type": "code",
   "execution_count": null,
   "id": "0c2377c6-2379-46ba-be44-8fb8689391a4",
   "metadata": {},
   "outputs": [],
   "source": [
    "concatenated_data"
   ]
  },
  {
   "cell_type": "markdown",
   "id": "3822a1e0-fbdb-427a-bf23-5f530884cf0a",
   "metadata": {
    "jp-MarkdownHeadingCollapsed": true,
    "tags": []
   },
   "source": [
    "# Series common errors:"
   ]
  },
  {
   "cell_type": "markdown",
   "id": "5662a456-c7d7-46bd-b3ea-fd6da44c98b1",
   "metadata": {},
   "source": [
    "The `data` argument passed to the `pd.Series` must be **one-dimensional** array. Otherwise, exception is raised:"
   ]
  },
  {
   "cell_type": "code",
   "execution_count": null,
   "id": "07ed145a-c915-429c-b0e3-fcb09ae85fa0",
   "metadata": {
    "tags": []
   },
   "outputs": [],
   "source": [
    "arr = np.arange(4).reshape((2, 2))"
   ]
  },
  {
   "cell_type": "code",
   "execution_count": null,
   "id": "47cb5455-7c6f-47e0-ac99-4e9fdb3250b8",
   "metadata": {
    "tags": []
   },
   "outputs": [],
   "source": [
    "pd.Series(arr)"
   ]
  },
  {
   "cell_type": "markdown",
   "id": "f774ef21-4f0d-4a98-a067-5f9342b179fa",
   "metadata": {
    "jp-MarkdownHeadingCollapsed": true,
    "tags": []
   },
   "source": [
    "# `DataFrame`:"
   ]
  },
  {
   "cell_type": "markdown",
   "id": "b61556f3-eff2-4abc-b9ab-24df9fab6155",
   "metadata": {},
   "source": [
    "A `DataFrame` can be considered as a two-dimensional `np.array`, with _labeled_ axes (rows and columns).\n",
    "\n",
    "Additionally, a `DataFrame` contains **heterogeneous** data types; the data are of the same type within each column (`Series`) but it could be a different data type for each column.\n",
    "\n",
    "<div>\n",
    "    <img src='img/weather-multiple-series.png' width='800'>\n",
    "</div>\n",
    "\n",
    "<div>\n",
    "    <img src='img/weather-single-dataframe.png' width='800'>\n",
    "</div>"
   ]
  },
  {
   "cell_type": "code",
   "execution_count": null,
   "id": "c287e0c5-c5bb-4d83-8d16-d4222be7e6b0",
   "metadata": {},
   "outputs": [],
   "source": [
    "week_days = [\n",
    "    \"Saturday\",\n",
    "    \"Sunday\",\n",
    "    \"Monday\",\n",
    "    \"Tuesday\",\n",
    "    \"Wedensday\",\n",
    "    \"Thursday\",\n",
    "    \"Friday\",\n",
    "]"
   ]
  },
  {
   "cell_type": "code",
   "execution_count": null,
   "id": "05e1d909-ccbe-4cc5-9822-3138aa340787",
   "metadata": {
    "tags": []
   },
   "outputs": [],
   "source": [
    "weather_series = pd.Series(\n",
    "    data=[\"Rainy\", \"Sunny\", \"Sunny\", \"Sunny\", \"Sunny\", \"Cloudy\", \"Rainy\"],\n",
    "    index=week_days,\n",
    "    name=\"weather\",\n",
    ")"
   ]
  },
  {
   "cell_type": "code",
   "execution_count": null,
   "id": "df27c1a5-1a9f-4d50-9711-a1bc9cb912f4",
   "metadata": {
    "tags": []
   },
   "outputs": [],
   "source": [
    "temperature_series = pd.Series(\n",
    "    data=[11.07, 17.50, 12.79, 19.67, 17.51, 14.44, 10.51],\n",
    "    index=week_days,\n",
    "    name=\"temperature\",\n",
    ")"
   ]
  },
  {
   "cell_type": "code",
   "execution_count": null,
   "id": "669a0372-a959-4259-ac5b-51791cb6c39b",
   "metadata": {
    "tags": []
   },
   "outputs": [],
   "source": [
    "wind_speed_series = pd.Series(\n",
    "    data=[27, 20, 13, 28, 16, 11, 26], index=week_days, name=\"wind_speed\"\n",
    ")"
   ]
  },
  {
   "cell_type": "code",
   "execution_count": null,
   "id": "519c9e7a-2be1-40dc-8004-b7203256fa4f",
   "metadata": {
    "tags": []
   },
   "outputs": [],
   "source": [
    "humidity_series = pd.Series(\n",
    "    data=[62, 10, 30, 96, 20, 22, 79], index=week_days, name=\"humidity\"\n",
    ")"
   ]
  },
  {
   "cell_type": "code",
   "execution_count": null,
   "id": "44101902-ee86-4a65-b313-08681ea3505d",
   "metadata": {
    "tags": []
   },
   "outputs": [],
   "source": [
    "weather_data = pd.DataFrame(\n",
    "    data={\n",
    "        \"weather\": weather_series,\n",
    "        \"temperature\": temperature_series,\n",
    "        \"wind_speed\": wind_speed_series,\n",
    "        \"humidity\": humidity_series,\n",
    "    }\n",
    ")"
   ]
  },
  {
   "cell_type": "code",
   "execution_count": null,
   "id": "343aca86-5ca9-4000-914f-7fe26f9e6631",
   "metadata": {},
   "outputs": [],
   "source": [
    "weather_data.columns"
   ]
  },
  {
   "cell_type": "code",
   "execution_count": null,
   "id": "bc4d9a81-0a68-4d51-8801-105da40b7cdb",
   "metadata": {},
   "outputs": [],
   "source": [
    "weather_data.index"
   ]
  },
  {
   "cell_type": "code",
   "execution_count": null,
   "id": "71e172d4-95de-4112-8a33-67eb802e0891",
   "metadata": {},
   "outputs": [],
   "source": [
    "weather_data.head()"
   ]
  },
  {
   "cell_type": "markdown",
   "id": "a5e3b14a-7cbe-4d8c-be74-1afbfa40d502",
   "metadata": {
    "jp-MarkdownHeadingCollapsed": true,
    "tags": []
   },
   "source": [
    "# Creating `DataFrame`"
   ]
  },
  {
   "cell_type": "markdown",
   "id": "5719e215-abea-47f0-810d-6fca91f1123c",
   "metadata": {
    "tags": []
   },
   "source": [
    "## Dictionary of Series\n",
    "\n",
    "Here, add example of calculating population density."
   ]
  },
  {
   "cell_type": "code",
   "execution_count": null,
   "id": "9634493f-b47e-47a9-aec7-5f6df5feb88f",
   "metadata": {
    "tags": []
   },
   "outputs": [],
   "source": [
    "syria_governorate_list = [\n",
    "    \"Aleppo\",\n",
    "    \"Raqqa\",\n",
    "    \"As-Suwayda\",\n",
    "    \"Damascus\",\n",
    "    \"Daraa\",\n",
    "    \"Deir ez-Zor\",\n",
    "    \"Hama\",\n",
    "    \"Hasaka\",\n",
    "    \"Homs\",\n",
    "    \"Idlib\",\n",
    "    \"Latakia\",\n",
    "    \"Quneitra\",\n",
    "    \"Rif Dimashq\",\n",
    "    \"Tartus\",\n",
    "]"
   ]
  },
  {
   "cell_type": "code",
   "execution_count": null,
   "id": "ab3d8bca-9db3-425d-95f1-562efd652b14",
   "metadata": {
    "tags": []
   },
   "outputs": [],
   "source": [
    "syria_governorate_population_series = pd.Series(\n",
    "    data=[\n",
    "        4600166,\n",
    "        919000,\n",
    "        364000,\n",
    "        2211042,\n",
    "        998000,\n",
    "        1200500,\n",
    "        1593000,\n",
    "        1272702,\n",
    "        1762500,\n",
    "        1464000,\n",
    "        1278486,\n",
    "        87000,\n",
    "        2831738,\n",
    "        785000,\n",
    "    ],\n",
    "    index=syria_governorate_list,\n",
    ")"
   ]
  },
  {
   "cell_type": "code",
   "execution_count": null,
   "id": "d8d0560f-5cfa-4ee5-8f23-1c8c6db7f2f5",
   "metadata": {
    "tags": []
   },
   "outputs": [],
   "source": [
    "syria_governorate_area_series = pd.Series(\n",
    "    data=[\n",
    "        18482,\n",
    "        19616,\n",
    "        5550,\n",
    "        1599,\n",
    "        3730,\n",
    "        33060,\n",
    "        8883,\n",
    "        23334,\n",
    "        42223,\n",
    "        6097,\n",
    "        2297,\n",
    "        1861,\n",
    "        18032,\n",
    "        1892,\n",
    "    ],\n",
    "    index=syria_governorate_list,\n",
    ")"
   ]
  },
  {
   "cell_type": "code",
   "execution_count": null,
   "id": "261270be-60b3-4660-aafa-fffb4c040a24",
   "metadata": {
    "tags": []
   },
   "outputs": [],
   "source": [
    "syria_data = pd.DataFrame(\n",
    "    data={\n",
    "        \"population\": syria_governorate_population_series,\n",
    "        \"area\": syria_governorate_area_series,\n",
    "    }\n",
    ")"
   ]
  },
  {
   "cell_type": "code",
   "execution_count": null,
   "id": "4cab6103-0248-4d7f-bcac-34d56ae04cdb",
   "metadata": {},
   "outputs": [],
   "source": [
    "syria_data.head()"
   ]
  },
  {
   "cell_type": "code",
   "execution_count": null,
   "id": "c6dfc98c-9613-4697-8d4e-faf3b4708178",
   "metadata": {},
   "outputs": [],
   "source": [
    "pd.read_csv()"
   ]
  },
  {
   "cell_type": "markdown",
   "id": "1fa4cbda-b55e-413b-a3dc-3ef2e96657a7",
   "metadata": {
    "jp-MarkdownHeadingCollapsed": true,
    "tags": []
   },
   "source": [
    "## From two-dimensional `NumPy` array:"
   ]
  },
  {
   "cell_type": "code",
   "execution_count": null,
   "id": "352ef932-4e3f-46ef-bdac-a25eea4006f3",
   "metadata": {},
   "outputs": [],
   "source": []
  },
  {
   "cell_type": "code",
   "execution_count": null,
   "id": "ed75c1a4-257b-4f42-8edb-03c3b9dfb268",
   "metadata": {},
   "outputs": [],
   "source": []
  },
  {
   "cell_type": "code",
   "execution_count": null,
   "id": "1d080422-6e17-4efc-93e8-e0109ec40177",
   "metadata": {},
   "outputs": [],
   "source": []
  },
  {
   "cell_type": "code",
   "execution_count": null,
   "id": "928d94b5-2198-421f-9088-60ad9b82bed7",
   "metadata": {},
   "outputs": [],
   "source": [
    "pd.DataFrame([syria_governorate_population_dict, syria_governorate_area_dict])"
   ]
  },
  {
   "cell_type": "code",
   "execution_count": null,
   "id": "da46f475-8669-47bc-bed4-55ce8cdc7643",
   "metadata": {
    "tags": []
   },
   "outputs": [],
   "source": [
    "syria_governorate_area_series = pd.Series(syria_governorate_area_dict, name=\"area\")"
   ]
  },
  {
   "cell_type": "code",
   "execution_count": null,
   "id": "549b2504-b663-45f3-b851-0e9838876b1c",
   "metadata": {
    "tags": []
   },
   "outputs": [],
   "source": [
    "syria_governorate_population_series = pd.Series(\n",
    "    syria_governorate_population_dict, name=\"population\"\n",
    ")"
   ]
  },
  {
   "cell_type": "code",
   "execution_count": null,
   "id": "8d70005f-d740-4c2a-b779-78ef8d410b4b",
   "metadata": {
    "tags": []
   },
   "outputs": [],
   "source": [
    "pd.concat([syria_governorate_area_series, syria_governorate_population_series], axis=1)"
   ]
  },
  {
   "cell_type": "markdown",
   "id": "faced079-6504-4ff8-8247-bc7b6b00612e",
   "metadata": {
    "jp-MarkdownHeadingCollapsed": true,
    "tags": []
   },
   "source": [
    "# Reading `DataFrame` from a file:"
   ]
  },
  {
   "cell_type": "markdown",
   "id": "7c533ebe-3653-4199-a7fd-aeb49e7e36ab",
   "metadata": {},
   "source": [
    "## `pd.read_csv`:"
   ]
  },
  {
   "cell_type": "markdown",
   "id": "ab8e5f9c-23b8-4219-a9b1-347aa2f58f40",
   "metadata": {
    "tags": []
   },
   "source": [
    "## `pd.read_html`:"
   ]
  },
  {
   "cell_type": "code",
   "execution_count": null,
   "id": "baf54d30-ea06-4162-bb67-e56565ca87dc",
   "metadata": {},
   "outputs": [],
   "source": [
    "syria_governorates_df = pd.read_html(\n",
    "    \"https://en.wikipedia.org/wiki/Governorates_of_Syria\", match=\"Governorate name\"\n",
    ")[0]"
   ]
  },
  {
   "cell_type": "markdown",
   "id": "85b15952-1cf0-411c-b754-e51a472117d1",
   "metadata": {
    "jp-MarkdownHeadingCollapsed": true,
    "tags": []
   },
   "source": [
    "# Working with missing values:"
   ]
  },
  {
   "cell_type": "markdown",
   "id": "aca24985-1b33-4a6d-80b4-1179c8aede9d",
   "metadata": {},
   "source": [
    "- `pd.Series.isnull`\n",
    "- `pd.Series.notnull`\n",
    "- `pd.DataFrame.isnull`\n",
    "- `pd.DataFrame.notnull`"
   ]
  },
  {
   "cell_type": "markdown",
   "id": "85a6ed45-e8cc-46c3-8a3d-6fe7be29b812",
   "metadata": {
    "jp-MarkdownHeadingCollapsed": true,
    "tags": []
   },
   "source": [
    "# Resources:"
   ]
  },
  {
   "cell_type": "markdown",
   "id": "552ec5ba-c7a6-4ad7-a277-29990fdd248c",
   "metadata": {},
   "source": [
    "- [10 minutes to pandas](https://pandas.pydata.org/pandas-docs/stable/user_guide/10min.html)\n",
    "- [Comparison with SQL](https://pandas.pydata.org/docs/getting_started/comparison/comparison_with_sql.html)\n",
    "- [Working with text data](https://pandas.pydata.org/pandas-docs/stable/user_guide/text.html)"
   ]
  },
  {
   "cell_type": "code",
   "execution_count": null,
   "id": "4489349c-8d62-4224-a27c-aca5bfd570b9",
   "metadata": {},
   "outputs": [],
   "source": []
  }
 ],
 "metadata": {
  "kernelspec": {
   "display_name": "Python 3 (ipykernel)",
   "language": "python",
   "name": "python3"
  },
  "language_info": {
   "codemirror_mode": {
    "name": "ipython",
    "version": 3
   },
   "file_extension": ".py",
   "mimetype": "text/x-python",
   "name": "python",
   "nbconvert_exporter": "python",
   "pygments_lexer": "ipython3",
   "version": "3.9.7"
  },
  "toc-autonumbering": true,
  "toc-showcode": false,
  "toc-showmarkdowntxt": false
 },
 "nbformat": 4,
 "nbformat_minor": 5
}
