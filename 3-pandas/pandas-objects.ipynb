{
 "cells": [
  {
   "cell_type": "markdown",
   "id": "6034b273-5ce0-4d95-a23c-0b404bd496a1",
   "metadata": {},
   "source": [
    "# Import libraries"
   ]
  },
  {
   "cell_type": "code",
   "execution_count": null,
   "id": "edae9edf-7814-47bf-a106-3602aef77696",
   "metadata": {
    "tags": []
   },
   "outputs": [],
   "source": [
    "from datetime import datetime\n",
    "\n",
    "import numpy as np\n",
    "import pandas as pd"
   ]
  },
  {
   "cell_type": "markdown",
   "id": "0d578ca3-58f5-4848-a2d8-797e84d4b55f",
   "metadata": {},
   "source": [
    "# Pandas objects"
   ]
  },
  {
   "cell_type": "markdown",
   "id": "c443ff57-1350-40e5-afe2-331f080ff0bb",
   "metadata": {},
   "source": [
    "At the very basic level, Pandas objects can be thought of as an enhanced versions of `NumPy` structured arrays in which the rows and columns are identified with _labels_ rather than simple integer indices\n",
    "\n",
    "The three fundamental data structures in `pandas` are: `Series`, `DataFrame`, and `Index`. We'll dive into each one in more details in the subsequent sections."
   ]
  },
  {
   "cell_type": "markdown",
   "id": "a890a74c-1b11-4edc-aaaa-2efe95b4fa5c",
   "metadata": {},
   "source": [
    "# `Series`:"
   ]
  },
  {
   "cell_type": "markdown",
   "id": "a338118a-d8a1-4ec1-862d-d590e896cd35",
   "metadata": {},
   "source": [
    "A Pandas `Series` is a one-dimensional array of **indexed** data. It can be created from a `list`, a `dictionary`, or a `NumPy` array.\n",
    "\n",
    "It can be thought of as a **one-dimensional** `NumPy` array of **homogeneous** values, accompanied by _labelded_ axis and a _name_.\n",
    "\n",
    "The following figure illustrates the difference between a `NumPy` array and a `pd.Series`:\n",
    "\n",
    "<div>\n",
    "    <img src=\"img/series-vs-np-array.png\" alt='numpy-array-vs-pandas-series' width=\"800\"/>\n",
    "</div>\n",
    "\n",
    "The essential difference is the presence of the **index**. While the `NumPy` array has an _implicitly_ defined integer index used to access the values, the Pandas `Series` has an _explicitly_ defined index associated with the values.\n",
    "\n",
    "We'll talk about the advateges of the `Index` in a minute."
   ]
  },
  {
   "cell_type": "code",
   "execution_count": null,
   "id": "aa26220c-19aa-4b35-abcd-286c1de2811b",
   "metadata": {
    "tags": []
   },
   "outputs": [],
   "source": [
    "example_series = pd.Series(data=[10, 20, 30])"
   ]
  },
  {
   "cell_type": "code",
   "execution_count": null,
   "id": "970a9603-2afe-43a8-8044-45740dfe2367",
   "metadata": {
    "tags": []
   },
   "outputs": [],
   "source": [
    "example_series"
   ]
  },
  {
   "cell_type": "code",
   "execution_count": null,
   "id": "f0530bb3-74ac-45ee-8838-523343b0d8c7",
   "metadata": {
    "tags": []
   },
   "outputs": [],
   "source": [
    "print(f\"example_series.values: {example_series.values}\")\n",
    "print(f\"example_series.index: {example_series.index}\")\n",
    "print(f\"example_series.shape: {example_series.shape}\")\n",
    "print(f\"example_series.dtype: {example_series.dtype}\")"
   ]
  },
  {
   "cell_type": "code",
   "execution_count": null,
   "id": "29a2c013-fc45-4f8c-9ec3-d4865a4c2ace",
   "metadata": {
    "tags": []
   },
   "outputs": [],
   "source": [
    "example_np_array = np.array([10, 20, 30])"
   ]
  },
  {
   "cell_type": "code",
   "execution_count": null,
   "id": "12af09f0-14d2-4a65-8db7-7ba6b9c1a89e",
   "metadata": {
    "tags": []
   },
   "outputs": [],
   "source": [
    "print(f\"example_np_array: {example_np_array}\")\n",
    "print(f\"example_np_array.shape: {example_np_array.shape}\")\n",
    "print(f\"example_np_array.dtype: {example_np_array.dtype}\")"
   ]
  },
  {
   "cell_type": "markdown",
   "id": "ed34e929-9413-472f-8193-c5d49a02adda",
   "metadata": {},
   "source": [
    "As we can see, the `Series` wraps both a sequence of `values` and a sequence of `indices`. In this example, the default index was used as it wasn't provided for the `Series` constructor.\n",
    "\n",
    "Similar to `NumPy` arrays, we can access `Series` data:"
   ]
  },
  {
   "cell_type": "code",
   "execution_count": null,
   "id": "fd214caa-53aa-4944-99d8-aa8d996237ca",
   "metadata": {
    "tags": []
   },
   "outputs": [],
   "source": [
    "print(f\"first element in example_series: {example_series[0]}\")"
   ]
  },
  {
   "cell_type": "code",
   "execution_count": null,
   "id": "5dc1700b-f651-4f10-baef-9eebb8ede031",
   "metadata": {
    "tags": []
   },
   "outputs": [],
   "source": [
    "print(f\"first two elements in example_series: \\n{example_series[:2]}\")"
   ]
  },
  {
   "cell_type": "markdown",
   "id": "0841f326-fcb7-40be-b23c-682b75dcd7b3",
   "metadata": {},
   "source": [
    "### `Series` with string index"
   ]
  },
  {
   "cell_type": "markdown",
   "id": "68c8df70-ffcb-4f20-8014-d75770072bff",
   "metadata": {},
   "source": [
    "We'll create a `pd.Series` with a string `index` to understand how it works:\n",
    "\n",
    "<div>\n",
    "    <img src=\"img/series-string-index.png\" alt='series-string-index' width=\"800\"/>\n",
    "</div>"
   ]
  },
  {
   "cell_type": "code",
   "execution_count": null,
   "id": "da7a42e9-d69c-4258-a327-5b54130c7f50",
   "metadata": {
    "tags": []
   },
   "outputs": [],
   "source": [
    "student_grades_series = pd.Series(\n",
    "    data=[90, 83, 73, 57, 91], index=[\"Sami\", \"Ahmed\", \"Qusai\", \"Saeed\", \"Yamen\"]\n",
    ")"
   ]
  },
  {
   "cell_type": "code",
   "execution_count": null,
   "id": "68587ffe-f8ae-4103-9f48-46f80881c46b",
   "metadata": {
    "tags": []
   },
   "outputs": [],
   "source": [
    "student_grades_series"
   ]
  },
  {
   "cell_type": "code",
   "execution_count": null,
   "id": "cc970527-46d8-4030-9095-ff84dbe5bda8",
   "metadata": {
    "tags": []
   },
   "outputs": [],
   "source": [
    "student_grades_series.index"
   ]
  },
  {
   "cell_type": "markdown",
   "id": "c98f21c6-160d-4ee7-9d93-590a1ffee089",
   "metadata": {},
   "source": [
    "We can use the index to access elements in the series:"
   ]
  },
  {
   "cell_type": "code",
   "execution_count": null,
   "id": "58af2468-7621-495b-8a0a-9666cbf5aa2e",
   "metadata": {},
   "outputs": [],
   "source": [
    "# get the corresponding grade for Sami\n",
    "student_grades_series[\"Sami\"]"
   ]
  },
  {
   "cell_type": "code",
   "execution_count": null,
   "id": "699198cb-b32b-4121-8546-43e816756cdd",
   "metadata": {
    "tags": []
   },
   "outputs": [],
   "source": [
    "# using slicing, get all grades starting from Qusai\n",
    "student_grades_series[\"Qusai\":]"
   ]
  },
  {
   "cell_type": "markdown",
   "id": "d3461cf9-0ee8-4285-a306-7b524822b415",
   "metadata": {},
   "source": [
    "### `Series` with datetime index"
   ]
  },
  {
   "cell_type": "markdown",
   "id": "42d458b2-afcd-48c5-b87a-6c094cbc49e3",
   "metadata": {},
   "source": [
    "Similar to the previous example, here we'll create a `Series` with a datetime index.\n",
    "\n",
    "Suppose we have the daily temperature for Damascus city for the first week of September 2022:\n",
    "\n",
    "<div>\n",
    "    <img src='img/series-datetime-index.png' alt='series-datetime-index'>\n",
    "</div>"
   ]
  },
  {
   "cell_type": "code",
   "execution_count": null,
   "id": "952ecabb-6051-4209-b4b9-18d67e003daf",
   "metadata": {
    "tags": []
   },
   "outputs": [],
   "source": [
    "date_format = \"%Y-%m-%d\""
   ]
  },
  {
   "cell_type": "code",
   "execution_count": null,
   "id": "45342b89-9faf-4a08-ade9-ba91b42f8603",
   "metadata": {
    "tags": []
   },
   "outputs": [],
   "source": [
    "temperatures_list = [33, 36, 39, 41, 42, 40, 38]"
   ]
  },
  {
   "cell_type": "code",
   "execution_count": null,
   "id": "939fb2db-93c1-47b0-b46a-835fd8637e2f",
   "metadata": {
    "tags": []
   },
   "outputs": [],
   "source": [
    "dates_list = [\n",
    "    datetime.strptime(\"2020-09-01\", date_format),\n",
    "    datetime.strptime(\"2020-09-02\", date_format),\n",
    "    datetime.strptime(\"2020-09-03\", date_format),\n",
    "    datetime.strptime(\"2020-09-04\", date_format),\n",
    "    datetime.strptime(\"2020-09-05\", date_format),\n",
    "    datetime.strptime(\"2020-09-06\", date_format),\n",
    "    datetime.strptime(\"2020-09-07\", date_format),\n",
    "]"
   ]
  },
  {
   "cell_type": "code",
   "execution_count": null,
   "id": "c177d157-cb11-4079-8b06-e58ebad6cb90",
   "metadata": {
    "tags": []
   },
   "outputs": [],
   "source": [
    "daily_temperature_series = pd.Series(data=temperatures_list, index=dates_list)"
   ]
  },
  {
   "cell_type": "code",
   "execution_count": null,
   "id": "63071db9-34ef-4324-942f-a3ede2ec7075",
   "metadata": {
    "tags": []
   },
   "outputs": [],
   "source": [
    "daily_temperature_series"
   ]
  },
  {
   "cell_type": "code",
   "execution_count": null,
   "id": "09680342-46e7-4542-b507-5d47ceabb6a4",
   "metadata": {
    "tags": []
   },
   "outputs": [],
   "source": [
    "daily_temperature_series.index"
   ]
  },
  {
   "cell_type": "markdown",
   "id": "3f4f52f5-3392-4c45-a30d-3da9205173a5",
   "metadata": {},
   "source": [
    "Now, we can access individual elements in the `Series` using the index:"
   ]
  },
  {
   "cell_type": "markdown",
   "id": "045f3beb-c77f-4006-9a19-b8976dfda8e2",
   "metadata": {},
   "source": [
    "What was the temperature on `2020-09-02`?"
   ]
  },
  {
   "cell_type": "code",
   "execution_count": null,
   "id": "adbaa9b4-4b44-4c6a-a15f-b3bd651b1709",
   "metadata": {
    "tags": []
   },
   "outputs": [],
   "source": [
    "daily_temperature_series[\"2020-09-02\"]"
   ]
  },
  {
   "cell_type": "code",
   "execution_count": null,
   "id": "0db904c7-dd32-42b0-b329-5409b646e999",
   "metadata": {
    "tags": []
   },
   "outputs": [],
   "source": [
    "daily_temperature_series[\"2020-09-04\":\"2020-09-06\"]"
   ]
  },
  {
   "cell_type": "markdown",
   "id": "d5fcaf28-0608-4ba3-916e-4c337a727ee7",
   "metadata": {},
   "source": [
    "If we pass a non-existent index value we get a `KeyError` exception"
   ]
  },
  {
   "cell_type": "code",
   "execution_count": null,
   "id": "67bc5e3e-84ac-4481-93b0-145814efac99",
   "metadata": {
    "tags": []
   },
   "outputs": [],
   "source": [
    "daily_temperature_series[\"2020-09-09\"]"
   ]
  },
  {
   "cell_type": "markdown",
   "id": "f3b6039e-8a4b-4bc3-b3b2-a85ab58f54a5",
   "metadata": {},
   "source": [
    "We can use boolean indexing similar to `NumPy`"
   ]
  },
  {
   "cell_type": "code",
   "execution_count": null,
   "id": "1f0cfb5c-2ad4-4717-8650-7f372f005f1a",
   "metadata": {
    "tags": []
   },
   "outputs": [],
   "source": [
    "daily_temperature_series[daily_temperature_series > 40]"
   ]
  },
  {
   "cell_type": "markdown",
   "id": "6217cbac-76da-4a88-8013-4c28ecd752ea",
   "metadata": {},
   "source": [
    "## `Series` methods:"
   ]
  },
  {
   "cell_type": "markdown",
   "id": "59bcd4e5-5cb9-4180-9fef-7724e5717933",
   "metadata": {},
   "source": [
    "### `value_counts`"
   ]
  },
  {
   "cell_type": "markdown",
   "id": "433d0dde-dd82-4113-9db1-49deef1cfadf",
   "metadata": {},
   "source": [
    "The `value_counts` method is one of the most common methods when working with `pd.Series`. For a `Sereis` of _categorical_ data, it returns a new `Series` with its **index** holding the unique values and its **values** holds the counts of the corresponding elements.\n",
    "\n",
    "The below figure illustrates how `value_counts` work for a series containing fruits data:\n",
    "\n",
    "<div>\n",
    "    <img src='img/series-value-counts.png'>\n",
    "</div>\n",
    "\n",
    "We can see that the values in the new `Series` are sorted in descending order according to their frequency.\n",
    "\n",
    "Passing `notmalize=True` can be useful to get percentage frequency rather than raw frequency."
   ]
  },
  {
   "cell_type": "code",
   "execution_count": null,
   "id": "aa119ad9-2be3-4418-ae8f-313f7b081e04",
   "metadata": {
    "tags": []
   },
   "outputs": [],
   "source": [
    "fruits_series = pd.Series(\n",
    "    data=[\n",
    "        \"Apple\",\n",
    "        \"Orange\",\n",
    "        \"Banana\",\n",
    "        \"Apple\",\n",
    "        \"Apple\",\n",
    "        \"Strawberry\",\n",
    "        \"Banana\",\n",
    "        \"Orange\",\n",
    "    ]\n",
    ")"
   ]
  },
  {
   "cell_type": "code",
   "execution_count": null,
   "id": "c7617933-e743-4a07-8394-c206a027ee2c",
   "metadata": {
    "tags": []
   },
   "outputs": [],
   "source": [
    "fruits_series"
   ]
  },
  {
   "cell_type": "code",
   "execution_count": null,
   "id": "988553cb-5848-4bd5-9f51-fd7f0fb9f9e4",
   "metadata": {},
   "outputs": [],
   "source": [
    "fruits_series.value_counts()"
   ]
  },
  {
   "cell_type": "code",
   "execution_count": null,
   "id": "2f56e8d4-a1db-4257-a189-e4d0921a75bd",
   "metadata": {},
   "outputs": [],
   "source": [
    "fruits_series.value_counts(normalize=True)"
   ]
  },
  {
   "cell_type": "markdown",
   "id": "452503c4-3a2a-4d3e-b146-9e6da2583218",
   "metadata": {},
   "source": [
    "### Aggregation functions:"
   ]
  },
  {
   "cell_type": "markdown",
   "id": "a7a9e60e-5350-4601-bf8b-d9ce9eb26210",
   "metadata": {},
   "source": [
    "Similar to `NumPy` arrays, pandas `Series` has the same aggrgation functions:"
   ]
  },
  {
   "cell_type": "code",
   "execution_count": null,
   "id": "8ec6f30f-366b-45d9-9f04-00cae59504ed",
   "metadata": {},
   "outputs": [],
   "source": [
    "series_of_integers = pd.Series(data=[1, 2, 3, 4, 5, 6])"
   ]
  },
  {
   "cell_type": "code",
   "execution_count": null,
   "id": "da45f789-9f39-457a-912c-dbec8a685a1b",
   "metadata": {
    "tags": []
   },
   "outputs": [],
   "source": [
    "print(f\"Min: {series_of_integers.min()}\")\n",
    "print(f\"Max: {series_of_integers.max()}\")\n",
    "print(f\"Sum: {series_of_integers.sum()}\")\n",
    "print(f\"Mean: {series_of_integers.mean()}\")"
   ]
  },
  {
   "cell_type": "markdown",
   "id": "96da2eff-50ba-42ea-8eea-ba028a624bf6",
   "metadata": {},
   "source": [
    "# Series indexing"
   ]
  },
  {
   "cell_type": "code",
   "execution_count": null,
   "id": "2d196b28-d326-4e85-90b8-def9e7fde73b",
   "metadata": {},
   "outputs": [],
   "source": []
  },
  {
   "cell_type": "code",
   "execution_count": null,
   "id": "3d49ec52-489a-49c3-9b94-91b1fb5617f9",
   "metadata": {},
   "outputs": [],
   "source": []
  },
  {
   "cell_type": "markdown",
   "id": "5662a456-c7d7-46bd-b3ea-fd6da44c98b1",
   "metadata": {},
   "source": [
    "The `data` argument passed to the `pd.Series` must be **one-dimensional** array. Otherwise, exception is raised:"
   ]
  },
  {
   "cell_type": "code",
   "execution_count": null,
   "id": "07ed145a-c915-429c-b0e3-fcb09ae85fa0",
   "metadata": {
    "tags": []
   },
   "outputs": [],
   "source": [
    "arr = np.arange(4).reshape((2, 2))"
   ]
  },
  {
   "cell_type": "code",
   "execution_count": null,
   "id": "47cb5455-7c6f-47e0-ac99-4e9fdb3250b8",
   "metadata": {
    "tags": []
   },
   "outputs": [],
   "source": [
    "pd.Series(arr)"
   ]
  },
  {
   "cell_type": "markdown",
   "id": "f774ef21-4f0d-4a98-a067-5f9342b179fa",
   "metadata": {},
   "source": [
    "# `DataFrame`:"
   ]
  },
  {
   "cell_type": "code",
   "execution_count": null,
   "id": "e104965a-7b85-4090-96d2-7b4474400845",
   "metadata": {},
   "outputs": [],
   "source": [
    "syria_governorate_population_dict = {\n",
    "    \"Aleppo Governorate\": 4600166,\n",
    "    \"Raqqa Governorate\": 919000,\n",
    "    \"As-Suwayda Governorate\": 364000,\n",
    "    \"Damascus Governorate\": 2211042,\n",
    "    \"Daraa Governorate\": 998000,\n",
    "    \"Deir ez-Zor Governorate\": 1200500,\n",
    "    \"Hama Governorate\": 1593000,\n",
    "    \"Hasaka Governorate\": 1272702,\n",
    "    \"Homs Governorate\": 1762500,\n",
    "    \"Idlib Governorate\": 1464000,\n",
    "    \"Latakia Governorate\": 1278486,\n",
    "    \"Quneitra Governorate\": 87000,\n",
    "    \"Rif Dimashq Governorate\": 2831738,\n",
    "    \"Tartus Governorate\": 785000,\n",
    "}\n",
    "\n",
    "syria_governorate_area_dict = {\n",
    "    \"Aleppo Governorate\": 18482,\n",
    "    \"Raqqa Governorate\": 19616,\n",
    "    \"As-Suwayda Governorate\": 5550,\n",
    "    \"Damascus Governorate\": 1599,\n",
    "    \"Daraa Governorate\": 3730,\n",
    "    \"Deir ez-Zor Governorate\": 33060,\n",
    "    \"Hama Governorate\": 8883,\n",
    "    \"Hasaka Governorate\": 23334,\n",
    "    \"Homs Governorate\": 42223,\n",
    "    \"Idlib Governorate\": 6097,\n",
    "    \"Latakia Governorate\": 2297,\n",
    "    \"Quneitra Governorate\": 1861,\n",
    "    \"Rif Dimashq Governorate\": 18032,\n",
    "    \"Tartus Governorate\": 1892,\n",
    "}"
   ]
  },
  {
   "cell_type": "code",
   "execution_count": null,
   "id": "928d94b5-2198-421f-9088-60ad9b82bed7",
   "metadata": {},
   "outputs": [],
   "source": [
    "pd.DataFrame([syria_governorate_population_dict, syria_governorate_area_dict])"
   ]
  },
  {
   "cell_type": "code",
   "execution_count": null,
   "id": "da46f475-8669-47bc-bed4-55ce8cdc7643",
   "metadata": {
    "tags": []
   },
   "outputs": [],
   "source": [
    "syria_governorate_area_series = pd.Series(syria_governorate_area_dict, name=\"area\")"
   ]
  },
  {
   "cell_type": "code",
   "execution_count": null,
   "id": "549b2504-b663-45f3-b851-0e9838876b1c",
   "metadata": {
    "tags": []
   },
   "outputs": [],
   "source": [
    "syria_governorate_population_series = pd.Series(\n",
    "    syria_governorate_population_dict, name=\"population\"\n",
    ")"
   ]
  },
  {
   "cell_type": "code",
   "execution_count": null,
   "id": "8d70005f-d740-4c2a-b779-78ef8d410b4b",
   "metadata": {
    "tags": []
   },
   "outputs": [],
   "source": [
    "pd.concat([syria_governorate_area_series, syria_governorate_population_series], axis=1)"
   ]
  },
  {
   "cell_type": "markdown",
   "id": "ab8e5f9c-23b8-4219-a9b1-347aa2f58f40",
   "metadata": {},
   "source": [
    "# `pd.read_html` example:"
   ]
  },
  {
   "cell_type": "code",
   "execution_count": null,
   "id": "baf54d30-ea06-4162-bb67-e56565ca87dc",
   "metadata": {},
   "outputs": [],
   "source": [
    "syria_governorates_df = pd.read_html(\n",
    "    \"https://en.wikipedia.org/wiki/Governorates_of_Syria\", match=\"Governorate name\"\n",
    ")[0]"
   ]
  },
  {
   "cell_type": "markdown",
   "id": "85b15952-1cf0-411c-b754-e51a472117d1",
   "metadata": {},
   "source": [
    "# Working with missing values:"
   ]
  },
  {
   "cell_type": "markdown",
   "id": "aca24985-1b33-4a6d-80b4-1179c8aede9d",
   "metadata": {},
   "source": [
    "- `pd.Series.isnull`\n",
    "- `pd.Series.notnull`\n",
    "- `pd.DataFrame.isnull`\n",
    "- `pd.DataFrame.notnull`"
   ]
  },
  {
   "cell_type": "code",
   "execution_count": null,
   "id": "f66445d8-f13b-439e-a873-c4f46f6d029c",
   "metadata": {},
   "outputs": [],
   "source": []
  }
 ],
 "metadata": {
  "kernelspec": {
   "display_name": "Python 3 (ipykernel)",
   "language": "python",
   "name": "python3"
  },
  "language_info": {
   "codemirror_mode": {
    "name": "ipython",
    "version": 3
   },
   "file_extension": ".py",
   "mimetype": "text/x-python",
   "name": "python",
   "nbconvert_exporter": "python",
   "pygments_lexer": "ipython3",
   "version": "3.9.7"
  },
  "toc-autonumbering": true
 },
 "nbformat": 4,
 "nbformat_minor": 5
}
