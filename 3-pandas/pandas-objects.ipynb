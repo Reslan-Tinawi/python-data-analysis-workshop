{
 "cells": [
  {
   "cell_type": "markdown",
   "id": "6034b273-5ce0-4d95-a23c-0b404bd496a1",
   "metadata": {},
   "source": [
    "# Import libraries"
   ]
  },
  {
   "cell_type": "code",
   "execution_count": 1,
   "id": "edae9edf-7814-47bf-a106-3602aef77696",
   "metadata": {
    "execution": {
     "iopub.execute_input": "2022-10-01T22:36:19.498011Z",
     "iopub.status.busy": "2022-10-01T22:36:19.498011Z",
     "iopub.status.idle": "2022-10-01T22:36:21.231127Z",
     "shell.execute_reply": "2022-10-01T22:36:21.228175Z",
     "shell.execute_reply.started": "2022-10-01T22:36:19.498011Z"
    },
    "tags": []
   },
   "outputs": [],
   "source": [
    "from datetime import datetime\n",
    "\n",
    "import numpy as np\n",
    "import pandas as pd"
   ]
  },
  {
   "cell_type": "markdown",
   "id": "0d578ca3-58f5-4848-a2d8-797e84d4b55f",
   "metadata": {},
   "source": [
    "# Pandas objects"
   ]
  },
  {
   "cell_type": "markdown",
   "id": "c443ff57-1350-40e5-afe2-331f080ff0bb",
   "metadata": {},
   "source": [
    "At the very basic level, Pandas objects can be thought of as an enhanced versions of `NumPy` structured arrays in which the rows and columns are identified with _labels_ rather than simple integer indices\n",
    "\n",
    "The three fundamental data structures in `pandas` are: `Series`, `DataFrame`, and `Index`. We'll dive into each one in more details in the subsequent sections."
   ]
  },
  {
   "cell_type": "markdown",
   "id": "a890a74c-1b11-4edc-aaaa-2efe95b4fa5c",
   "metadata": {},
   "source": [
    "## `Series`:"
   ]
  },
  {
   "cell_type": "markdown",
   "id": "a338118a-d8a1-4ec1-862d-d590e896cd35",
   "metadata": {},
   "source": [
    "A Pandas `Series` is a one-dimensional array of **indexed** data. It can be created from a `list`, a `dictionary`, or a `NumPy` array.\n",
    "\n",
    "It can be thought of as a **one-dimensional** `NumPy` array of **homogeneous** values, accompanied by _labelded_ axis and a _name_.\n",
    "\n",
    "The following figure illustrates the difference between a `NumPy` array and a `pd.Series`:\n",
    "\n",
    "<div>\n",
    "    <img src=\"img/series-vs-np-array.png\" alt='numpy-array-vs-pandas-series' width=\"800\"/>\n",
    "</div>\n",
    "\n",
    "The essential difference is the presence of the index. While the `NumPy` array has an _implicitly_ defined integer index used to access the values, the Pandas `Series` has an _explicitly_ defined index associated with the values.\n",
    "\n",
    "We'll talk about the advateges of the `Index` in a minute."
   ]
  },
  {
   "cell_type": "code",
   "execution_count": 2,
   "id": "aa26220c-19aa-4b35-abcd-286c1de2811b",
   "metadata": {
    "execution": {
     "iopub.execute_input": "2022-10-01T22:36:25.131104Z",
     "iopub.status.busy": "2022-10-01T22:36:25.130104Z",
     "iopub.status.idle": "2022-10-01T22:36:25.151054Z",
     "shell.execute_reply": "2022-10-01T22:36:25.149063Z",
     "shell.execute_reply.started": "2022-10-01T22:36:25.131104Z"
    },
    "tags": []
   },
   "outputs": [],
   "source": [
    "example_series = pd.Series(data=[10, 20, 30])"
   ]
  },
  {
   "cell_type": "code",
   "execution_count": 3,
   "id": "970a9603-2afe-43a8-8044-45740dfe2367",
   "metadata": {
    "execution": {
     "iopub.execute_input": "2022-10-01T22:36:25.618828Z",
     "iopub.status.busy": "2022-10-01T22:36:25.618828Z",
     "iopub.status.idle": "2022-10-01T22:36:25.646031Z",
     "shell.execute_reply": "2022-10-01T22:36:25.643430Z",
     "shell.execute_reply.started": "2022-10-01T22:36:25.618828Z"
    }
   },
   "outputs": [
    {
     "data": {
      "text/plain": [
       "0    10\n",
       "1    20\n",
       "2    30\n",
       "dtype: int64"
      ]
     },
     "execution_count": 3,
     "metadata": {},
     "output_type": "execute_result"
    }
   ],
   "source": [
    "example_series"
   ]
  },
  {
   "cell_type": "code",
   "execution_count": 4,
   "id": "f0530bb3-74ac-45ee-8838-523343b0d8c7",
   "metadata": {
    "execution": {
     "iopub.execute_input": "2022-10-01T22:36:26.627945Z",
     "iopub.status.busy": "2022-10-01T22:36:26.626987Z",
     "iopub.status.idle": "2022-10-01T22:36:26.654967Z",
     "shell.execute_reply": "2022-10-01T22:36:26.652998Z",
     "shell.execute_reply.started": "2022-10-01T22:36:26.627945Z"
    },
    "tags": []
   },
   "outputs": [
    {
     "name": "stdout",
     "output_type": "stream",
     "text": [
      "example_series.values: [10 20 30]\n",
      "example_series.index: RangeIndex(start=0, stop=3, step=1)\n",
      "example_series.shape: (3,)\n",
      "example_series.dtype: int64\n"
     ]
    }
   ],
   "source": [
    "print(f\"example_series.values: {example_series.values}\")\n",
    "print(f\"example_series.index: {example_series.index}\")\n",
    "print(f\"example_series.shape: {example_series.shape}\")\n",
    "print(f\"example_series.dtype: {example_series.dtype}\")"
   ]
  },
  {
   "cell_type": "code",
   "execution_count": 5,
   "id": "29a2c013-fc45-4f8c-9ec3-d4865a4c2ace",
   "metadata": {
    "execution": {
     "iopub.execute_input": "2022-10-01T22:36:27.105313Z",
     "iopub.status.busy": "2022-10-01T22:36:27.105313Z",
     "iopub.status.idle": "2022-10-01T22:36:27.120315Z",
     "shell.execute_reply": "2022-10-01T22:36:27.118365Z",
     "shell.execute_reply.started": "2022-10-01T22:36:27.105313Z"
    },
    "tags": []
   },
   "outputs": [],
   "source": [
    "example_np_array = np.array([10, 20, 30])"
   ]
  },
  {
   "cell_type": "code",
   "execution_count": 6,
   "id": "12af09f0-14d2-4a65-8db7-7ba6b9c1a89e",
   "metadata": {
    "execution": {
     "iopub.execute_input": "2022-10-01T22:36:27.449429Z",
     "iopub.status.busy": "2022-10-01T22:36:27.448432Z",
     "iopub.status.idle": "2022-10-01T22:36:27.462682Z",
     "shell.execute_reply": "2022-10-01T22:36:27.460796Z",
     "shell.execute_reply.started": "2022-10-01T22:36:27.448432Z"
    },
    "tags": []
   },
   "outputs": [
    {
     "name": "stdout",
     "output_type": "stream",
     "text": [
      "example_np_array: [10 20 30]\n",
      "example_np_array.shape: (3,)\n",
      "example_np_array.dtype: int32\n"
     ]
    }
   ],
   "source": [
    "# values attribute (the underlying data of series)\n",
    "print(f\"example_np_array: {example_np_array}\")\n",
    "# index attribute\n",
    "print(f\"example_np_array.shape: {example_np_array.shape}\")\n",
    "print(f\"example_np_array.dtype: {example_np_array.dtype}\")"
   ]
  },
  {
   "cell_type": "markdown",
   "id": "ed34e929-9413-472f-8193-c5d49a02adda",
   "metadata": {},
   "source": [
    "As we can see, the `Series` wraps both a sequence of `values` and a sequence of `indices`. In this example, the default index was used as it wasn't provided for the `Series` constructor.\n",
    "\n",
    "Similar to `NumPy` arrays, we can access `Series` data:"
   ]
  },
  {
   "cell_type": "code",
   "execution_count": 7,
   "id": "fd214caa-53aa-4944-99d8-aa8d996237ca",
   "metadata": {
    "execution": {
     "iopub.execute_input": "2022-10-01T22:36:28.415802Z",
     "iopub.status.busy": "2022-10-01T22:36:28.414809Z",
     "iopub.status.idle": "2022-10-01T22:36:28.438622Z",
     "shell.execute_reply": "2022-10-01T22:36:28.436070Z",
     "shell.execute_reply.started": "2022-10-01T22:36:28.415802Z"
    },
    "tags": []
   },
   "outputs": [
    {
     "name": "stdout",
     "output_type": "stream",
     "text": [
      "first element in example_series: 10\n"
     ]
    }
   ],
   "source": [
    "print(f\"first element in example_series: {example_series[0]}\")"
   ]
  },
  {
   "cell_type": "code",
   "execution_count": 8,
   "id": "5dc1700b-f651-4f10-baef-9eebb8ede031",
   "metadata": {
    "execution": {
     "iopub.execute_input": "2022-10-01T22:36:28.751242Z",
     "iopub.status.busy": "2022-10-01T22:36:28.750252Z",
     "iopub.status.idle": "2022-10-01T22:36:28.764801Z",
     "shell.execute_reply": "2022-10-01T22:36:28.762846Z",
     "shell.execute_reply.started": "2022-10-01T22:36:28.751242Z"
    },
    "tags": []
   },
   "outputs": [
    {
     "name": "stdout",
     "output_type": "stream",
     "text": [
      "first two elements in example_series: \n",
      "0    10\n",
      "1    20\n",
      "dtype: int64\n"
     ]
    }
   ],
   "source": [
    "print(f\"first two elements in example_series: \\n{example_series[:2]}\")"
   ]
  },
  {
   "cell_type": "code",
   "execution_count": 9,
   "id": "da7a42e9-d69c-4258-a327-5b54130c7f50",
   "metadata": {
    "execution": {
     "iopub.execute_input": "2022-10-01T22:36:29.088141Z",
     "iopub.status.busy": "2022-10-01T22:36:29.087147Z",
     "iopub.status.idle": "2022-10-01T22:36:29.107201Z",
     "shell.execute_reply": "2022-10-01T22:36:29.105133Z",
     "shell.execute_reply.started": "2022-10-01T22:36:29.088141Z"
    },
    "tags": []
   },
   "outputs": [],
   "source": [
    "student_grades_series = pd.Series(\n",
    "    data=[90, 90, 73, 57, 91], index=[\"Sami\", \"Ahmed\", \"Qusai\", \"Saeed\", \"Yamen\"]\n",
    ")"
   ]
  },
  {
   "cell_type": "code",
   "execution_count": 10,
   "id": "68587ffe-f8ae-4103-9f48-46f80881c46b",
   "metadata": {
    "execution": {
     "iopub.execute_input": "2022-10-01T22:36:29.356516Z",
     "iopub.status.busy": "2022-10-01T22:36:29.355532Z",
     "iopub.status.idle": "2022-10-01T22:36:29.372534Z",
     "shell.execute_reply": "2022-10-01T22:36:29.369576Z",
     "shell.execute_reply.started": "2022-10-01T22:36:29.356516Z"
    }
   },
   "outputs": [
    {
     "data": {
      "text/plain": [
       "Sami     90\n",
       "Ahmed    90\n",
       "Qusai    73\n",
       "Saeed    57\n",
       "Yamen    91\n",
       "dtype: int64"
      ]
     },
     "execution_count": 10,
     "metadata": {},
     "output_type": "execute_result"
    }
   ],
   "source": [
    "student_grades_series"
   ]
  },
  {
   "cell_type": "code",
   "execution_count": 11,
   "id": "58af2468-7621-495b-8a0a-9666cbf5aa2e",
   "metadata": {
    "execution": {
     "iopub.execute_input": "2022-10-01T22:36:29.731615Z",
     "iopub.status.busy": "2022-10-01T22:36:29.730614Z",
     "iopub.status.idle": "2022-10-01T22:36:29.744420Z",
     "shell.execute_reply": "2022-10-01T22:36:29.742421Z",
     "shell.execute_reply.started": "2022-10-01T22:36:29.731615Z"
    }
   },
   "outputs": [
    {
     "data": {
      "text/plain": [
       "90"
      ]
     },
     "execution_count": 11,
     "metadata": {},
     "output_type": "execute_result"
    }
   ],
   "source": [
    "student_grades_series[\"Sami\"]"
   ]
  },
  {
   "cell_type": "code",
   "execution_count": 12,
   "id": "699198cb-b32b-4121-8546-43e816756cdd",
   "metadata": {
    "execution": {
     "iopub.execute_input": "2022-10-01T22:36:30.099518Z",
     "iopub.status.busy": "2022-10-01T22:36:30.099518Z",
     "iopub.status.idle": "2022-10-01T22:36:30.118337Z",
     "shell.execute_reply": "2022-10-01T22:36:30.115650Z",
     "shell.execute_reply.started": "2022-10-01T22:36:30.099518Z"
    },
    "tags": []
   },
   "outputs": [
    {
     "data": {
      "text/plain": [
       "Qusai    73\n",
       "Saeed    57\n",
       "Yamen    91\n",
       "dtype: int64"
      ]
     },
     "execution_count": 12,
     "metadata": {},
     "output_type": "execute_result"
    }
   ],
   "source": [
    "student_grades_series[\"Qusai\":]"
   ]
  },
  {
   "cell_type": "code",
   "execution_count": 13,
   "id": "952ecabb-6051-4209-b4b9-18d67e003daf",
   "metadata": {
    "execution": {
     "iopub.execute_input": "2022-10-01T22:36:30.661358Z",
     "iopub.status.busy": "2022-10-01T22:36:30.661358Z",
     "iopub.status.idle": "2022-10-01T22:36:30.675361Z",
     "shell.execute_reply": "2022-10-01T22:36:30.673362Z",
     "shell.execute_reply.started": "2022-10-01T22:36:30.661358Z"
    }
   },
   "outputs": [],
   "source": [
    "date_format = \"%Y-%m-%d\""
   ]
  },
  {
   "cell_type": "code",
   "execution_count": 14,
   "id": "45342b89-9faf-4a08-ade9-ba91b42f8603",
   "metadata": {
    "execution": {
     "iopub.execute_input": "2022-10-01T22:36:31.112240Z",
     "iopub.status.busy": "2022-10-01T22:36:31.110261Z",
     "iopub.status.idle": "2022-10-01T22:36:31.125467Z",
     "shell.execute_reply": "2022-10-01T22:36:31.123620Z",
     "shell.execute_reply.started": "2022-10-01T22:36:31.112240Z"
    }
   },
   "outputs": [],
   "source": [
    "temperatures_list = [\n",
    "    33,\n",
    "    36,\n",
    "    39,\n",
    "    41,\n",
    "    42,\n",
    "    40,\n",
    "    38\n",
    "]"
   ]
  },
  {
   "cell_type": "code",
   "execution_count": 15,
   "id": "939fb2db-93c1-47b0-b46a-835fd8637e2f",
   "metadata": {
    "execution": {
     "iopub.execute_input": "2022-10-01T22:36:32.836463Z",
     "iopub.status.busy": "2022-10-01T22:36:32.835461Z",
     "iopub.status.idle": "2022-10-01T22:36:32.860590Z",
     "shell.execute_reply": "2022-10-01T22:36:32.858735Z",
     "shell.execute_reply.started": "2022-10-01T22:36:32.836463Z"
    },
    "tags": []
   },
   "outputs": [],
   "source": [
    "dates_list = [\n",
    "    datetime.strptime(\"2020-09-01\", date_format),\n",
    "    datetime.strptime(\"2020-09-02\", date_format),\n",
    "    datetime.strptime(\"2020-09-03\", date_format),\n",
    "    datetime.strptime(\"2020-09-04\", date_format),\n",
    "    datetime.strptime(\"2020-09-05\", date_format),\n",
    "    datetime.strptime(\"2020-09-06\", date_format),\n",
    "    datetime.strptime(\"2020-09-07\", date_format),\n",
    "]"
   ]
  },
  {
   "cell_type": "code",
   "execution_count": 16,
   "id": "c177d157-cb11-4079-8b06-e58ebad6cb90",
   "metadata": {
    "execution": {
     "iopub.execute_input": "2022-10-01T22:36:47.081283Z",
     "iopub.status.busy": "2022-10-01T22:36:47.081283Z",
     "iopub.status.idle": "2022-10-01T22:36:47.093277Z",
     "shell.execute_reply": "2022-10-01T22:36:47.091213Z",
     "shell.execute_reply.started": "2022-10-01T22:36:47.081283Z"
    },
    "tags": []
   },
   "outputs": [],
   "source": [
    "daily_temperature_series = pd.Series(\n",
    "    data=temperatures_list,\n",
    "    index=dates_list\n",
    ")"
   ]
  },
  {
   "cell_type": "code",
   "execution_count": null,
   "id": "63071db9-34ef-4324-942f-a3ede2ec7075",
   "metadata": {
    "tags": []
   },
   "outputs": [],
   "source": [
    "daily_temperature_series.index"
   ]
  },
  {
   "cell_type": "code",
   "execution_count": null,
   "id": "129cec38-9baa-4215-94d1-d482199acc29",
   "metadata": {
    "tags": []
   },
   "outputs": [],
   "source": [
    "type(student_grades.index)"
   ]
  },
  {
   "cell_type": "code",
   "execution_count": null,
   "id": "eb2ef587-19f0-4036-91cc-466405a3c195",
   "metadata": {},
   "outputs": [],
   "source": [
    "type(example_series.index)"
   ]
  },
  {
   "cell_type": "code",
   "execution_count": null,
   "id": "09680342-46e7-4542-b507-5d47ceabb6a4",
   "metadata": {},
   "outputs": [],
   "source": []
  },
  {
   "cell_type": "code",
   "execution_count": null,
   "id": "002b889c-079f-45ec-920a-b24b672e829a",
   "metadata": {},
   "outputs": [],
   "source": []
  },
  {
   "cell_type": "code",
   "execution_count": null,
   "id": "adbaa9b4-4b44-4c6a-a15f-b3bd651b1709",
   "metadata": {},
   "outputs": [],
   "source": []
  },
  {
   "cell_type": "code",
   "execution_count": null,
   "id": "67bc5e3e-84ac-4481-93b0-145814efac99",
   "metadata": {},
   "outputs": [],
   "source": []
  },
  {
   "cell_type": "code",
   "execution_count": null,
   "id": "1f0cfb5c-2ad4-4717-8650-7f372f005f1a",
   "metadata": {},
   "outputs": [],
   "source": []
  },
  {
   "cell_type": "code",
   "execution_count": null,
   "id": "af75e947-779e-4655-881b-ec9a1f755ce0",
   "metadata": {},
   "outputs": [],
   "source": []
  },
  {
   "cell_type": "code",
   "execution_count": null,
   "id": "2d196b28-d326-4e85-90b8-def9e7fde73b",
   "metadata": {},
   "outputs": [],
   "source": []
  },
  {
   "cell_type": "code",
   "execution_count": null,
   "id": "3d49ec52-489a-49c3-9b94-91b1fb5617f9",
   "metadata": {},
   "outputs": [],
   "source": []
  },
  {
   "cell_type": "markdown",
   "id": "5662a456-c7d7-46bd-b3ea-fd6da44c98b1",
   "metadata": {},
   "source": [
    "The `data` argument passed to the `pd.Series` must be **one-dimensional** array. Otherwise, exception is raised:"
   ]
  },
  {
   "cell_type": "code",
   "execution_count": null,
   "id": "07ed145a-c915-429c-b0e3-fcb09ae85fa0",
   "metadata": {
    "tags": []
   },
   "outputs": [],
   "source": [
    "arr = np.arange(4).reshape((2, 2))"
   ]
  },
  {
   "cell_type": "code",
   "execution_count": null,
   "id": "47cb5455-7c6f-47e0-ac99-4e9fdb3250b8",
   "metadata": {
    "tags": []
   },
   "outputs": [],
   "source": [
    "pd.Series(arr)"
   ]
  },
  {
   "cell_type": "markdown",
   "id": "f774ef21-4f0d-4a98-a067-5f9342b179fa",
   "metadata": {},
   "source": [
    "# `DataFrame`:"
   ]
  },
  {
   "cell_type": "code",
   "execution_count": null,
   "id": "e104965a-7b85-4090-96d2-7b4474400845",
   "metadata": {},
   "outputs": [],
   "source": [
    "syria_governorate_population_dict = {\n",
    "    \"Aleppo Governorate\": 4600166,\n",
    "    \"Raqqa Governorate\": 919000,\n",
    "    \"As-Suwayda Governorate\": 364000,\n",
    "    \"Damascus Governorate\": 2211042,\n",
    "    \"Daraa Governorate\": 998000,\n",
    "    \"Deir ez-Zor Governorate\": 1200500,\n",
    "    \"Hama Governorate\": 1593000,\n",
    "    \"Hasaka Governorate\": 1272702,\n",
    "    \"Homs Governorate\": 1762500,\n",
    "    \"Idlib Governorate\": 1464000,\n",
    "    \"Latakia Governorate\": 1278486,\n",
    "    \"Quneitra Governorate\": 87000,\n",
    "    \"Rif Dimashq Governorate\": 2831738,\n",
    "    \"Tartus Governorate\": 785000,\n",
    "}\n",
    "\n",
    "syria_governorate_area_dict = {\n",
    "    \"Aleppo Governorate\": 18482,\n",
    "    \"Raqqa Governorate\": 19616,\n",
    "    \"As-Suwayda Governorate\": 5550,\n",
    "    \"Damascus Governorate\": 1599,\n",
    "    \"Daraa Governorate\": 3730,\n",
    "    \"Deir ez-Zor Governorate\": 33060,\n",
    "    \"Hama Governorate\": 8883,\n",
    "    \"Hasaka Governorate\": 23334,\n",
    "    \"Homs Governorate\": 42223,\n",
    "    \"Idlib Governorate\": 6097,\n",
    "    \"Latakia Governorate\": 2297,\n",
    "    \"Quneitra Governorate\": 1861,\n",
    "    \"Rif Dimashq Governorate\": 18032,\n",
    "    \"Tartus Governorate\": 1892,\n",
    "}"
   ]
  },
  {
   "cell_type": "code",
   "execution_count": null,
   "id": "928d94b5-2198-421f-9088-60ad9b82bed7",
   "metadata": {},
   "outputs": [],
   "source": [
    "pd.DataFrame([syria_governorate_population_dict, syria_governorate_area_dict])"
   ]
  },
  {
   "cell_type": "code",
   "execution_count": null,
   "id": "da46f475-8669-47bc-bed4-55ce8cdc7643",
   "metadata": {},
   "outputs": [],
   "source": []
  },
  {
   "cell_type": "markdown",
   "id": "ab8e5f9c-23b8-4219-a9b1-347aa2f58f40",
   "metadata": {},
   "source": [
    "# `pd.read_html` example:"
   ]
  },
  {
   "cell_type": "code",
   "execution_count": null,
   "id": "baf54d30-ea06-4162-bb67-e56565ca87dc",
   "metadata": {},
   "outputs": [],
   "source": [
    "syria_governorates_df = pd.read_html(\n",
    "    \"https://en.wikipedia.org/wiki/Governorates_of_Syria\", match=\"Governorate name\"\n",
    ")[0]"
   ]
  },
  {
   "cell_type": "code",
   "execution_count": null,
   "id": "ee4face8-1993-4896-90cf-e57d564e87ec",
   "metadata": {},
   "outputs": [],
   "source": []
  }
 ],
 "metadata": {
  "kernelspec": {
   "display_name": "Python 3 (ipykernel)",
   "language": "python",
   "name": "python3"
  },
  "language_info": {
   "codemirror_mode": {
    "name": "ipython",
    "version": 3
   },
   "file_extension": ".py",
   "mimetype": "text/x-python",
   "name": "python",
   "nbconvert_exporter": "python",
   "pygments_lexer": "ipython3",
   "version": "3.9.7"
  },
  "toc-autonumbering": true
 },
 "nbformat": 4,
 "nbformat_minor": 5
}
