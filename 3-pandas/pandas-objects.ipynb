{
 "cells": [
  {
   "cell_type": "markdown",
   "id": "6034b273-5ce0-4d95-a23c-0b404bd496a1",
   "metadata": {},
   "source": [
    "# Import libraries"
   ]
  },
  {
   "cell_type": "code",
   "execution_count": null,
   "id": "edae9edf-7814-47bf-a106-3602aef77696",
   "metadata": {
    "execution": {
     "iopub.execute_input": "2022-10-02T17:11:40.114631Z",
     "iopub.status.busy": "2022-10-02T17:11:40.112643Z",
     "iopub.status.idle": "2022-10-02T17:11:42.320219Z",
     "shell.execute_reply": "2022-10-02T17:11:42.318291Z",
     "shell.execute_reply.started": "2022-10-02T17:11:40.113562Z"
    },
    "tags": []
   },
   "outputs": [],
   "source": [
    "from datetime import datetime\n",
    "\n",
    "import numpy as np\n",
    "import pandas as pd"
   ]
  },
  {
   "cell_type": "markdown",
   "id": "0d578ca3-58f5-4848-a2d8-797e84d4b55f",
   "metadata": {},
   "source": [
    "# Pandas objects"
   ]
  },
  {
   "cell_type": "markdown",
   "id": "c443ff57-1350-40e5-afe2-331f080ff0bb",
   "metadata": {},
   "source": [
    "At the very basic level, Pandas objects can be thought of as an enhanced versions of `NumPy` structured arrays in which the rows and columns are identified with _labels_ rather than simple integer indices\n",
    "\n",
    "The three fundamental data structures in `pandas` are: `Series`, `DataFrame`, and `Index`. We'll dive into each one in more details in the subsequent sections."
   ]
  },
  {
   "cell_type": "markdown",
   "id": "a890a74c-1b11-4edc-aaaa-2efe95b4fa5c",
   "metadata": {},
   "source": [
    "## `Series`:"
   ]
  },
  {
   "cell_type": "markdown",
   "id": "a338118a-d8a1-4ec1-862d-d590e896cd35",
   "metadata": {},
   "source": [
    "A Pandas `Series` is a one-dimensional array of **indexed** data. It can be created from a `list`, a `dictionary`, or a `NumPy` array.\n",
    "\n",
    "It can be thought of as a **one-dimensional** `NumPy` array of **homogeneous** values, accompanied by _labelded_ axis and a _name_.\n",
    "\n",
    "The following figure illustrates the difference between a `NumPy` array and a `pd.Series`:\n",
    "\n",
    "<div>\n",
    "    <img src=\"img/series-vs-np-array.png\" alt='numpy-array-vs-pandas-series' width=\"800\"/>\n",
    "</div>\n",
    "\n",
    "The essential difference is the presence of the **index**. While the `NumPy` array has an _implicitly_ defined integer index used to access the values, the Pandas `Series` has an _explicitly_ defined index associated with the values.\n",
    "\n",
    "We'll talk about the advateges of the `Index` in a minute."
   ]
  },
  {
   "cell_type": "code",
   "execution_count": null,
   "id": "aa26220c-19aa-4b35-abcd-286c1de2811b",
   "metadata": {
    "execution": {
     "iopub.execute_input": "2022-10-02T17:11:43.763226Z",
     "iopub.status.busy": "2022-10-02T17:11:43.763226Z",
     "iopub.status.idle": "2022-10-02T17:11:43.775173Z",
     "shell.execute_reply": "2022-10-02T17:11:43.773187Z",
     "shell.execute_reply.started": "2022-10-02T17:11:43.763226Z"
    },
    "tags": []
   },
   "outputs": [],
   "source": [
    "example_series = pd.Series(data=[10, 20, 30])"
   ]
  },
  {
   "cell_type": "code",
   "execution_count": null,
   "id": "970a9603-2afe-43a8-8044-45740dfe2367",
   "metadata": {
    "execution": {
     "iopub.execute_input": "2022-10-02T17:11:44.251595Z",
     "iopub.status.busy": "2022-10-02T17:11:44.251595Z",
     "iopub.status.idle": "2022-10-02T17:11:44.282547Z",
     "shell.execute_reply": "2022-10-02T17:11:44.280602Z",
     "shell.execute_reply.started": "2022-10-02T17:11:44.251595Z"
    }
   },
   "outputs": [],
   "source": [
    "example_series"
   ]
  },
  {
   "cell_type": "code",
   "execution_count": null,
   "id": "f0530bb3-74ac-45ee-8838-523343b0d8c7",
   "metadata": {
    "execution": {
     "iopub.execute_input": "2022-10-02T17:11:44.630842Z",
     "iopub.status.busy": "2022-10-02T17:11:44.629824Z",
     "iopub.status.idle": "2022-10-02T17:11:44.700412Z",
     "shell.execute_reply": "2022-10-02T17:11:44.698430Z",
     "shell.execute_reply.started": "2022-10-02T17:11:44.630842Z"
    },
    "tags": []
   },
   "outputs": [],
   "source": [
    "print(f\"example_series.values: {example_series.values}\")\n",
    "print(f\"example_series.index: {example_series.index}\")\n",
    "print(f\"example_series.shape: {example_series.shape}\")\n",
    "print(f\"example_series.dtype: {example_series.dtype}\")"
   ]
  },
  {
   "cell_type": "code",
   "execution_count": null,
   "id": "29a2c013-fc45-4f8c-9ec3-d4865a4c2ace",
   "metadata": {
    "execution": {
     "iopub.execute_input": "2022-10-02T17:11:45.002529Z",
     "iopub.status.busy": "2022-10-02T17:11:45.001498Z",
     "iopub.status.idle": "2022-10-02T17:11:45.024268Z",
     "shell.execute_reply": "2022-10-02T17:11:45.022236Z",
     "shell.execute_reply.started": "2022-10-02T17:11:45.002529Z"
    },
    "tags": []
   },
   "outputs": [],
   "source": [
    "example_np_array = np.array([10, 20, 30])"
   ]
  },
  {
   "cell_type": "code",
   "execution_count": null,
   "id": "12af09f0-14d2-4a65-8db7-7ba6b9c1a89e",
   "metadata": {
    "execution": {
     "iopub.execute_input": "2022-10-02T17:11:45.381019Z",
     "iopub.status.busy": "2022-10-02T17:11:45.381019Z",
     "iopub.status.idle": "2022-10-02T17:11:45.396602Z",
     "shell.execute_reply": "2022-10-02T17:11:45.394021Z",
     "shell.execute_reply.started": "2022-10-02T17:11:45.381019Z"
    },
    "tags": []
   },
   "outputs": [],
   "source": [
    "print(f\"example_np_array: {example_np_array}\")\n",
    "print(f\"example_np_array.shape: {example_np_array.shape}\")\n",
    "print(f\"example_np_array.dtype: {example_np_array.dtype}\")"
   ]
  },
  {
   "cell_type": "markdown",
   "id": "ed34e929-9413-472f-8193-c5d49a02adda",
   "metadata": {},
   "source": [
    "As we can see, the `Series` wraps both a sequence of `values` and a sequence of `indices`. In this example, the default index was used as it wasn't provided for the `Series` constructor.\n",
    "\n",
    "Similar to `NumPy` arrays, we can access `Series` data:"
   ]
  },
  {
   "cell_type": "code",
   "execution_count": null,
   "id": "fd214caa-53aa-4944-99d8-aa8d996237ca",
   "metadata": {
    "execution": {
     "iopub.execute_input": "2022-10-02T17:11:46.247491Z",
     "iopub.status.busy": "2022-10-02T17:11:46.247491Z",
     "iopub.status.idle": "2022-10-02T17:11:46.261887Z",
     "shell.execute_reply": "2022-10-02T17:11:46.260857Z",
     "shell.execute_reply.started": "2022-10-02T17:11:46.247491Z"
    },
    "tags": []
   },
   "outputs": [],
   "source": [
    "print(f\"first element in example_series: {example_series[0]}\")"
   ]
  },
  {
   "cell_type": "code",
   "execution_count": null,
   "id": "5dc1700b-f651-4f10-baef-9eebb8ede031",
   "metadata": {
    "execution": {
     "iopub.execute_input": "2022-10-02T17:11:46.589258Z",
     "iopub.status.busy": "2022-10-02T17:11:46.589258Z",
     "iopub.status.idle": "2022-10-02T17:11:46.648622Z",
     "shell.execute_reply": "2022-10-02T17:11:46.646660Z",
     "shell.execute_reply.started": "2022-10-02T17:11:46.589258Z"
    },
    "tags": []
   },
   "outputs": [],
   "source": [
    "print(f\"first two elements in example_series: \\n{example_series[:2]}\")"
   ]
  },
  {
   "cell_type": "markdown",
   "id": "0841f326-fcb7-40be-b23c-682b75dcd7b3",
   "metadata": {},
   "source": [
    "### `Series` with string index"
   ]
  },
  {
   "cell_type": "markdown",
   "id": "68c8df70-ffcb-4f20-8014-d75770072bff",
   "metadata": {},
   "source": [
    "We'll create a `pd.Series` with a string `index` to understand how it works:\n",
    "\n",
    "<div>\n",
    "    <img src=\"img/series-string-index.png\" alt='series-string-index' width=\"800\"/>\n",
    "</div>"
   ]
  },
  {
   "cell_type": "code",
   "execution_count": null,
   "id": "da7a42e9-d69c-4258-a327-5b54130c7f50",
   "metadata": {
    "execution": {
     "iopub.execute_input": "2022-10-02T17:11:48.006688Z",
     "iopub.status.busy": "2022-10-02T17:11:48.005671Z",
     "iopub.status.idle": "2022-10-02T17:11:48.030701Z",
     "shell.execute_reply": "2022-10-02T17:11:48.028668Z",
     "shell.execute_reply.started": "2022-10-02T17:11:48.006688Z"
    },
    "tags": []
   },
   "outputs": [],
   "source": [
    "student_grades_series = pd.Series(\n",
    "    data=[90, 83, 73, 57, 91], index=[\"Sami\", \"Ahmed\", \"Qusai\", \"Saeed\", \"Yamen\"]\n",
    ")"
   ]
  },
  {
   "cell_type": "code",
   "execution_count": null,
   "id": "68587ffe-f8ae-4103-9f48-46f80881c46b",
   "metadata": {
    "execution": {
     "iopub.execute_input": "2022-10-02T17:11:48.613539Z",
     "iopub.status.busy": "2022-10-02T17:11:48.613539Z",
     "iopub.status.idle": "2022-10-02T17:11:48.680364Z",
     "shell.execute_reply": "2022-10-02T17:11:48.678339Z",
     "shell.execute_reply.started": "2022-10-02T17:11:48.613539Z"
    },
    "tags": []
   },
   "outputs": [],
   "source": [
    "student_grades_series"
   ]
  },
  {
   "cell_type": "code",
   "execution_count": null,
   "id": "cc970527-46d8-4030-9095-ff84dbe5bda8",
   "metadata": {
    "execution": {
     "iopub.execute_input": "2022-10-02T17:11:49.130436Z",
     "iopub.status.busy": "2022-10-02T17:11:49.130436Z",
     "iopub.status.idle": "2022-10-02T17:11:49.143379Z",
     "shell.execute_reply": "2022-10-02T17:11:49.141428Z",
     "shell.execute_reply.started": "2022-10-02T17:11:49.130436Z"
    }
   },
   "outputs": [],
   "source": [
    "student_grades_series.index"
   ]
  },
  {
   "cell_type": "markdown",
   "id": "c98f21c6-160d-4ee7-9d93-590a1ffee089",
   "metadata": {},
   "source": [
    "We can use the index to access elements in the series:"
   ]
  },
  {
   "cell_type": "code",
   "execution_count": null,
   "id": "58af2468-7621-495b-8a0a-9666cbf5aa2e",
   "metadata": {},
   "outputs": [],
   "source": [
    "# get the corresponding grade for Sami\n",
    "student_grades_series[\"Sami\"]"
   ]
  },
  {
   "cell_type": "code",
   "execution_count": null,
   "id": "699198cb-b32b-4121-8546-43e816756cdd",
   "metadata": {
    "tags": []
   },
   "outputs": [],
   "source": [
    "# using slicing, get all grades starting from Qusai\n",
    "student_grades_series[\"Qusai\":]"
   ]
  },
  {
   "cell_type": "markdown",
   "id": "d3461cf9-0ee8-4285-a306-7b524822b415",
   "metadata": {},
   "source": [
    "### `Series` with datetime index"
   ]
  },
  {
   "cell_type": "markdown",
   "id": "42d458b2-afcd-48c5-b87a-6c094cbc49e3",
   "metadata": {},
   "source": [
    "Similar to the previous example, here we'll create a `Series` with a datetime index.\n",
    "\n",
    "Suppose we have the daily temperature for Damascus city for the first week of September 2022:\n",
    "\n",
    "<div>\n",
    "    <img src='img/series-datetime-index.png' alt='series-datetime-index'>\n",
    "</div>"
   ]
  },
  {
   "cell_type": "code",
   "execution_count": null,
   "id": "952ecabb-6051-4209-b4b9-18d67e003daf",
   "metadata": {
    "execution": {
     "iopub.execute_input": "2022-10-02T17:25:22.518850Z",
     "iopub.status.busy": "2022-10-02T17:25:22.517890Z",
     "iopub.status.idle": "2022-10-02T17:25:22.535069Z",
     "shell.execute_reply": "2022-10-02T17:25:22.533524Z",
     "shell.execute_reply.started": "2022-10-02T17:25:22.518850Z"
    }
   },
   "outputs": [],
   "source": [
    "date_format = \"%Y-%m-%d\""
   ]
  },
  {
   "cell_type": "code",
   "execution_count": null,
   "id": "45342b89-9faf-4a08-ade9-ba91b42f8603",
   "metadata": {
    "execution": {
     "iopub.execute_input": "2022-10-02T17:25:22.815082Z",
     "iopub.status.busy": "2022-10-02T17:25:22.815082Z",
     "iopub.status.idle": "2022-10-02T17:25:22.829344Z",
     "shell.execute_reply": "2022-10-02T17:25:22.827746Z",
     "shell.execute_reply.started": "2022-10-02T17:25:22.815082Z"
    }
   },
   "outputs": [],
   "source": [
    "temperatures_list = [33, 36, 39, 41, 42, 40, 38]"
   ]
  },
  {
   "cell_type": "code",
   "execution_count": null,
   "id": "939fb2db-93c1-47b0-b46a-835fd8637e2f",
   "metadata": {
    "execution": {
     "iopub.execute_input": "2022-10-02T17:25:23.041909Z",
     "iopub.status.busy": "2022-10-02T17:25:23.041909Z",
     "iopub.status.idle": "2022-10-02T17:25:23.060890Z",
     "shell.execute_reply": "2022-10-02T17:25:23.058953Z",
     "shell.execute_reply.started": "2022-10-02T17:25:23.041909Z"
    },
    "tags": []
   },
   "outputs": [],
   "source": [
    "dates_list = [\n",
    "    datetime.strptime(\"2020-09-01\", date_format),\n",
    "    datetime.strptime(\"2020-09-02\", date_format),\n",
    "    datetime.strptime(\"2020-09-03\", date_format),\n",
    "    datetime.strptime(\"2020-09-04\", date_format),\n",
    "    datetime.strptime(\"2020-09-05\", date_format),\n",
    "    datetime.strptime(\"2020-09-06\", date_format),\n",
    "    datetime.strptime(\"2020-09-07\", date_format),\n",
    "]"
   ]
  },
  {
   "cell_type": "code",
   "execution_count": null,
   "id": "c177d157-cb11-4079-8b06-e58ebad6cb90",
   "metadata": {
    "execution": {
     "iopub.execute_input": "2022-10-02T17:25:23.390926Z",
     "iopub.status.busy": "2022-10-02T17:25:23.389909Z",
     "iopub.status.idle": "2022-10-02T17:25:23.450206Z",
     "shell.execute_reply": "2022-10-02T17:25:23.447174Z",
     "shell.execute_reply.started": "2022-10-02T17:25:23.390926Z"
    },
    "tags": []
   },
   "outputs": [],
   "source": [
    "daily_temperature_series = pd.Series(data=temperatures_list, index=dates_list)"
   ]
  },
  {
   "cell_type": "code",
   "execution_count": null,
   "id": "63071db9-34ef-4324-942f-a3ede2ec7075",
   "metadata": {
    "execution": {
     "iopub.execute_input": "2022-10-02T17:25:24.208388Z",
     "iopub.status.busy": "2022-10-02T17:25:24.208388Z",
     "iopub.status.idle": "2022-10-02T17:25:24.237423Z",
     "shell.execute_reply": "2022-10-02T17:25:24.235387Z",
     "shell.execute_reply.started": "2022-10-02T17:25:24.208388Z"
    },
    "tags": []
   },
   "outputs": [],
   "source": [
    "daily_temperature_series"
   ]
  },
  {
   "cell_type": "code",
   "execution_count": null,
   "id": "09680342-46e7-4542-b507-5d47ceabb6a4",
   "metadata": {
    "execution": {
     "iopub.execute_input": "2022-10-02T17:25:24.804451Z",
     "iopub.status.busy": "2022-10-02T17:25:24.804451Z",
     "iopub.status.idle": "2022-10-02T17:25:24.855460Z",
     "shell.execute_reply": "2022-10-02T17:25:24.853453Z",
     "shell.execute_reply.started": "2022-10-02T17:25:24.804451Z"
    }
   },
   "outputs": [],
   "source": [
    "daily_temperature_series.index"
   ]
  },
  {
   "cell_type": "markdown",
   "id": "3f4f52f5-3392-4c45-a30d-3da9205173a5",
   "metadata": {},
   "source": [
    "Now, we can access individual elements in the `Series` using the index:"
   ]
  },
  {
   "cell_type": "markdown",
   "id": "045f3beb-c77f-4006-9a19-b8976dfda8e2",
   "metadata": {},
   "source": [
    "What was the temperature on `2020-09-02`?"
   ]
  },
  {
   "cell_type": "code",
   "execution_count": null,
   "id": "adbaa9b4-4b44-4c6a-a15f-b3bd651b1709",
   "metadata": {
    "execution": {
     "iopub.execute_input": "2022-10-02T17:25:29.270654Z",
     "iopub.status.busy": "2022-10-02T17:25:29.269668Z",
     "iopub.status.idle": "2022-10-02T17:25:29.332247Z",
     "shell.execute_reply": "2022-10-02T17:25:29.330236Z",
     "shell.execute_reply.started": "2022-10-02T17:25:29.270654Z"
    },
    "tags": []
   },
   "outputs": [],
   "source": [
    "daily_temperature_series[\"2020-09-02\"]"
   ]
  },
  {
   "cell_type": "code",
   "execution_count": null,
   "id": "0db904c7-dd32-42b0-b329-5409b646e999",
   "metadata": {
    "execution": {
     "iopub.execute_input": "2022-10-02T17:25:29.758249Z",
     "iopub.status.busy": "2022-10-02T17:25:29.757294Z",
     "iopub.status.idle": "2022-10-02T17:25:29.826456Z",
     "shell.execute_reply": "2022-10-02T17:25:29.824458Z",
     "shell.execute_reply.started": "2022-10-02T17:25:29.758249Z"
    },
    "tags": []
   },
   "outputs": [],
   "source": [
    "daily_temperature_series[\"2020-09-04\":\"2020-09-06\"]"
   ]
  },
  {
   "cell_type": "code",
   "execution_count": null,
   "id": "414547ec-ba08-494b-8a4b-57dd2c14c8c4",
   "metadata": {},
   "outputs": [],
   "source": []
  },
  {
   "cell_type": "code",
   "execution_count": null,
   "id": "834958e5-b982-4182-a50a-302e69e31c17",
   "metadata": {},
   "outputs": [],
   "source": []
  },
  {
   "cell_type": "code",
   "execution_count": null,
   "id": "c2ee6837-e2c0-4b14-8f28-95fde0473aeb",
   "metadata": {},
   "outputs": [],
   "source": []
  },
  {
   "cell_type": "code",
   "execution_count": null,
   "id": "1a5880ab-7d0b-4297-aa52-13780457ba7c",
   "metadata": {},
   "outputs": [],
   "source": []
  },
  {
   "cell_type": "markdown",
   "id": "d5fcaf28-0608-4ba3-916e-4c337a727ee7",
   "metadata": {},
   "source": [
    "If we pass a non-existent index value we get a `KeyError` exception"
   ]
  },
  {
   "cell_type": "code",
   "execution_count": null,
   "id": "67bc5e3e-84ac-4481-93b0-145814efac99",
   "metadata": {
    "tags": []
   },
   "outputs": [],
   "source": [
    "daily_temperature_series[\"2020-09-09\"]"
   ]
  },
  {
   "cell_type": "code",
   "execution_count": null,
   "id": "1f0cfb5c-2ad4-4717-8650-7f372f005f1a",
   "metadata": {
    "tags": []
   },
   "outputs": [],
   "source": [
    "daily_temperature_series[daily_temperature_series > 40]"
   ]
  },
  {
   "cell_type": "markdown",
   "id": "96da2eff-50ba-42ea-8eea-ba028a624bf6",
   "metadata": {},
   "source": [
    "# Series indexing"
   ]
  },
  {
   "cell_type": "code",
   "execution_count": null,
   "id": "2d196b28-d326-4e85-90b8-def9e7fde73b",
   "metadata": {},
   "outputs": [],
   "source": []
  },
  {
   "cell_type": "code",
   "execution_count": null,
   "id": "3d49ec52-489a-49c3-9b94-91b1fb5617f9",
   "metadata": {},
   "outputs": [],
   "source": []
  },
  {
   "cell_type": "markdown",
   "id": "5662a456-c7d7-46bd-b3ea-fd6da44c98b1",
   "metadata": {},
   "source": [
    "The `data` argument passed to the `pd.Series` must be **one-dimensional** array. Otherwise, exception is raised:"
   ]
  },
  {
   "cell_type": "code",
   "execution_count": null,
   "id": "07ed145a-c915-429c-b0e3-fcb09ae85fa0",
   "metadata": {
    "tags": []
   },
   "outputs": [],
   "source": [
    "arr = np.arange(4).reshape((2, 2))"
   ]
  },
  {
   "cell_type": "code",
   "execution_count": null,
   "id": "47cb5455-7c6f-47e0-ac99-4e9fdb3250b8",
   "metadata": {
    "tags": []
   },
   "outputs": [],
   "source": [
    "pd.Series(arr)"
   ]
  },
  {
   "cell_type": "markdown",
   "id": "f774ef21-4f0d-4a98-a067-5f9342b179fa",
   "metadata": {},
   "source": [
    "# `DataFrame`:"
   ]
  },
  {
   "cell_type": "code",
   "execution_count": null,
   "id": "e104965a-7b85-4090-96d2-7b4474400845",
   "metadata": {},
   "outputs": [],
   "source": [
    "syria_governorate_population_dict = {\n",
    "    \"Aleppo Governorate\": 4600166,\n",
    "    \"Raqqa Governorate\": 919000,\n",
    "    \"As-Suwayda Governorate\": 364000,\n",
    "    \"Damascus Governorate\": 2211042,\n",
    "    \"Daraa Governorate\": 998000,\n",
    "    \"Deir ez-Zor Governorate\": 1200500,\n",
    "    \"Hama Governorate\": 1593000,\n",
    "    \"Hasaka Governorate\": 1272702,\n",
    "    \"Homs Governorate\": 1762500,\n",
    "    \"Idlib Governorate\": 1464000,\n",
    "    \"Latakia Governorate\": 1278486,\n",
    "    \"Quneitra Governorate\": 87000,\n",
    "    \"Rif Dimashq Governorate\": 2831738,\n",
    "    \"Tartus Governorate\": 785000,\n",
    "}\n",
    "\n",
    "syria_governorate_area_dict = {\n",
    "    \"Aleppo Governorate\": 18482,\n",
    "    \"Raqqa Governorate\": 19616,\n",
    "    \"As-Suwayda Governorate\": 5550,\n",
    "    \"Damascus Governorate\": 1599,\n",
    "    \"Daraa Governorate\": 3730,\n",
    "    \"Deir ez-Zor Governorate\": 33060,\n",
    "    \"Hama Governorate\": 8883,\n",
    "    \"Hasaka Governorate\": 23334,\n",
    "    \"Homs Governorate\": 42223,\n",
    "    \"Idlib Governorate\": 6097,\n",
    "    \"Latakia Governorate\": 2297,\n",
    "    \"Quneitra Governorate\": 1861,\n",
    "    \"Rif Dimashq Governorate\": 18032,\n",
    "    \"Tartus Governorate\": 1892,\n",
    "}"
   ]
  },
  {
   "cell_type": "code",
   "execution_count": null,
   "id": "928d94b5-2198-421f-9088-60ad9b82bed7",
   "metadata": {},
   "outputs": [],
   "source": [
    "pd.DataFrame([syria_governorate_population_dict, syria_governorate_area_dict])"
   ]
  },
  {
   "cell_type": "code",
   "execution_count": null,
   "id": "da46f475-8669-47bc-bed4-55ce8cdc7643",
   "metadata": {
    "tags": []
   },
   "outputs": [],
   "source": [
    "syria_governorate_area_series = pd.Series(syria_governorate_area_dict, name='area')"
   ]
  },
  {
   "cell_type": "code",
   "execution_count": null,
   "id": "549b2504-b663-45f3-b851-0e9838876b1c",
   "metadata": {
    "tags": []
   },
   "outputs": [],
   "source": [
    "syria_governorate_population_series = pd.Series(syria_governorate_population_dict, name='population')"
   ]
  },
  {
   "cell_type": "code",
   "execution_count": null,
   "id": "8d70005f-d740-4c2a-b779-78ef8d410b4b",
   "metadata": {
    "tags": []
   },
   "outputs": [],
   "source": [
    "pd.concat([syria_governorate_area_series, syria_governorate_population_series], axis=1)"
   ]
  },
  {
   "cell_type": "markdown",
   "id": "ab8e5f9c-23b8-4219-a9b1-347aa2f58f40",
   "metadata": {},
   "source": [
    "# `pd.read_html` example:"
   ]
  },
  {
   "cell_type": "code",
   "execution_count": null,
   "id": "baf54d30-ea06-4162-bb67-e56565ca87dc",
   "metadata": {},
   "outputs": [],
   "source": [
    "syria_governorates_df = pd.read_html(\n",
    "    \"https://en.wikipedia.org/wiki/Governorates_of_Syria\", match=\"Governorate name\"\n",
    ")[0]"
   ]
  },
  {
   "cell_type": "code",
   "execution_count": null,
   "id": "ee4face8-1993-4896-90cf-e57d564e87ec",
   "metadata": {},
   "outputs": [],
   "source": []
  }
 ],
 "metadata": {
  "kernelspec": {
   "display_name": "Python 3 (ipykernel)",
   "language": "python",
   "name": "python3"
  },
  "language_info": {
   "codemirror_mode": {
    "name": "ipython",
    "version": 3
   },
   "file_extension": ".py",
   "mimetype": "text/x-python",
   "name": "python",
   "nbconvert_exporter": "python",
   "pygments_lexer": "ipython3",
   "version": "3.9.7"
  },
  "toc-autonumbering": true
 },
 "nbformat": 4,
 "nbformat_minor": 5
}
