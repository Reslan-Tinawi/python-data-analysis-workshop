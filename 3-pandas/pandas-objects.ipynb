{
 "cells": [
  {
   "cell_type": "markdown",
   "id": "6034b273-5ce0-4d95-a23c-0b404bd496a1",
   "metadata": {},
   "source": [
    "# Import libraries"
   ]
  },
  {
   "cell_type": "code",
   "execution_count": null,
   "id": "edae9edf-7814-47bf-a106-3602aef77696",
   "metadata": {
    "tags": []
   },
   "outputs": [],
   "source": [
    "from datetime import datetime\n",
    "\n",
    "import numpy as np\n",
    "import pandas as pd"
   ]
  },
  {
   "cell_type": "markdown",
   "id": "0d578ca3-58f5-4848-a2d8-797e84d4b55f",
   "metadata": {},
   "source": [
    "# Pandas objects"
   ]
  },
  {
   "cell_type": "markdown",
   "id": "c443ff57-1350-40e5-afe2-331f080ff0bb",
   "metadata": {},
   "source": [
    "At the very basic level, Pandas objects can be thought of as an enhanced versions of `NumPy` structured arrays in which the rows and columns are identified with _labels_ rather than simple integer indices\n",
    "\n",
    "The three fundamental data structures in `pandas` are: `Series`, `DataFrame`, and `Index`. We'll dive into each one in more details in the subsequent sections."
   ]
  },
  {
   "cell_type": "markdown",
   "id": "a890a74c-1b11-4edc-aaaa-2efe95b4fa5c",
   "metadata": {
    "tags": []
   },
   "source": [
    "# `Series`:"
   ]
  },
  {
   "cell_type": "markdown",
   "id": "a338118a-d8a1-4ec1-862d-d590e896cd35",
   "metadata": {},
   "source": [
    "A Pandas `Series` is a one-dimensional array of **indexed** data. It can be created from a `list`, a `dictionary`, or a `NumPy` array.\n",
    "\n",
    "It can be thought of as a **one-dimensional** `NumPy` array of **homogeneous** values, accompanied by _labelded_ axis and a _name_.\n",
    "\n",
    "The following figure illustrates the difference between a `NumPy` array and a `pd.Series`:\n",
    "\n",
    "<div>\n",
    "    <img src=\"img/series-vs-np-array.png\" alt='numpy-array-vs-pandas-series' width=\"800\"/>\n",
    "</div>\n",
    "\n",
    "The essential difference is the presence of the **index**. While the `NumPy` array has an _implicitly_ defined integer index used to access the values, the Pandas `Series` has an _explicitly_ defined index associated with the values.\n",
    "\n",
    "We'll talk about the advateges of the `Index` in a minute."
   ]
  },
  {
   "cell_type": "code",
   "execution_count": null,
   "id": "aa26220c-19aa-4b35-abcd-286c1de2811b",
   "metadata": {
    "tags": []
   },
   "outputs": [],
   "source": [
    "example_series = pd.Series(data=[10, 20, 30])"
   ]
  },
  {
   "cell_type": "code",
   "execution_count": null,
   "id": "970a9603-2afe-43a8-8044-45740dfe2367",
   "metadata": {
    "tags": []
   },
   "outputs": [],
   "source": [
    "example_series"
   ]
  },
  {
   "cell_type": "code",
   "execution_count": null,
   "id": "f0530bb3-74ac-45ee-8838-523343b0d8c7",
   "metadata": {
    "tags": []
   },
   "outputs": [],
   "source": [
    "print(f\"example_series.values: {example_series.values}\")\n",
    "print(f\"example_series.index: {example_series.index}\")\n",
    "print(f\"example_series.shape: {example_series.shape}\")\n",
    "print(f\"example_series.dtype: {example_series.dtype}\")"
   ]
  },
  {
   "cell_type": "code",
   "execution_count": null,
   "id": "29a2c013-fc45-4f8c-9ec3-d4865a4c2ace",
   "metadata": {
    "tags": []
   },
   "outputs": [],
   "source": [
    "example_np_array = np.array([10, 20, 30])"
   ]
  },
  {
   "cell_type": "code",
   "execution_count": null,
   "id": "12af09f0-14d2-4a65-8db7-7ba6b9c1a89e",
   "metadata": {
    "tags": []
   },
   "outputs": [],
   "source": [
    "print(f\"example_np_array: {example_np_array}\")\n",
    "print(f\"example_np_array.shape: {example_np_array.shape}\")\n",
    "print(f\"example_np_array.dtype: {example_np_array.dtype}\")"
   ]
  },
  {
   "cell_type": "markdown",
   "id": "ed34e929-9413-472f-8193-c5d49a02adda",
   "metadata": {},
   "source": [
    "As we can see, the `Series` wraps both a sequence of `values` and a sequence of `indices`. In this example, the default index was used as it wasn't provided for the `Series` constructor.\n",
    "\n",
    "Similar to `NumPy` arrays, we can access `Series` data:"
   ]
  },
  {
   "cell_type": "code",
   "execution_count": null,
   "id": "fd214caa-53aa-4944-99d8-aa8d996237ca",
   "metadata": {
    "tags": []
   },
   "outputs": [],
   "source": [
    "print(f\"first element in example_series: {example_series[0]}\")"
   ]
  },
  {
   "cell_type": "code",
   "execution_count": null,
   "id": "5dc1700b-f651-4f10-baef-9eebb8ede031",
   "metadata": {
    "tags": []
   },
   "outputs": [],
   "source": [
    "print(f\"first two elements in example_series: \\n{example_series[:2]}\")"
   ]
  },
  {
   "cell_type": "markdown",
   "id": "0841f326-fcb7-40be-b23c-682b75dcd7b3",
   "metadata": {},
   "source": [
    "### `Series` with string index"
   ]
  },
  {
   "cell_type": "markdown",
   "id": "68c8df70-ffcb-4f20-8014-d75770072bff",
   "metadata": {},
   "source": [
    "We'll create a `pd.Series` with a string `index` to understand how it works:\n",
    "\n",
    "<div>\n",
    "    <img src=\"img/series-string-index.png\" alt='series-string-index' width=\"800\"/>\n",
    "</div>"
   ]
  },
  {
   "cell_type": "code",
   "execution_count": null,
   "id": "da7a42e9-d69c-4258-a327-5b54130c7f50",
   "metadata": {
    "tags": []
   },
   "outputs": [],
   "source": [
    "student_grades_series = pd.Series(\n",
    "    data=[90, 83, 73, 57, 91], index=[\"Sami\", \"Ahmed\", \"Qusai\", \"Saeed\", \"Yamen\"]\n",
    ")"
   ]
  },
  {
   "cell_type": "code",
   "execution_count": null,
   "id": "68587ffe-f8ae-4103-9f48-46f80881c46b",
   "metadata": {
    "tags": []
   },
   "outputs": [],
   "source": [
    "student_grades_series"
   ]
  },
  {
   "cell_type": "code",
   "execution_count": null,
   "id": "cc970527-46d8-4030-9095-ff84dbe5bda8",
   "metadata": {
    "tags": []
   },
   "outputs": [],
   "source": [
    "student_grades_series.index"
   ]
  },
  {
   "cell_type": "markdown",
   "id": "c98f21c6-160d-4ee7-9d93-590a1ffee089",
   "metadata": {},
   "source": [
    "We can use the index to access elements in the series:"
   ]
  },
  {
   "cell_type": "code",
   "execution_count": null,
   "id": "58af2468-7621-495b-8a0a-9666cbf5aa2e",
   "metadata": {},
   "outputs": [],
   "source": [
    "# get the corresponding grade for Sami\n",
    "student_grades_series[\"Sami\"]"
   ]
  },
  {
   "cell_type": "code",
   "execution_count": null,
   "id": "699198cb-b32b-4121-8546-43e816756cdd",
   "metadata": {
    "tags": []
   },
   "outputs": [],
   "source": [
    "# using slicing, get all grades starting from Qusai\n",
    "student_grades_series[\"Qusai\":]"
   ]
  },
  {
   "cell_type": "markdown",
   "id": "d3461cf9-0ee8-4285-a306-7b524822b415",
   "metadata": {},
   "source": [
    "### `Series` with datetime index"
   ]
  },
  {
   "cell_type": "markdown",
   "id": "42d458b2-afcd-48c5-b87a-6c094cbc49e3",
   "metadata": {},
   "source": [
    "Similar to the previous example, here we'll create a `Series` with a datetime index.\n",
    "\n",
    "Suppose we have the daily temperature for Damascus city for the first week of September 2022:\n",
    "\n",
    "<div>\n",
    "    <img src='img/series-datetime-index.png' alt='series-datetime-index'>\n",
    "</div>"
   ]
  },
  {
   "cell_type": "code",
   "execution_count": null,
   "id": "952ecabb-6051-4209-b4b9-18d67e003daf",
   "metadata": {
    "tags": []
   },
   "outputs": [],
   "source": [
    "date_format = \"%Y-%m-%d\""
   ]
  },
  {
   "cell_type": "code",
   "execution_count": null,
   "id": "45342b89-9faf-4a08-ade9-ba91b42f8603",
   "metadata": {
    "tags": []
   },
   "outputs": [],
   "source": [
    "temperatures_list = [33, 36, 39, 41, 42, 40, 38]"
   ]
  },
  {
   "cell_type": "code",
   "execution_count": null,
   "id": "939fb2db-93c1-47b0-b46a-835fd8637e2f",
   "metadata": {
    "tags": []
   },
   "outputs": [],
   "source": [
    "dates_list = [\n",
    "    datetime.strptime(\"2020-09-01\", date_format),\n",
    "    datetime.strptime(\"2020-09-02\", date_format),\n",
    "    datetime.strptime(\"2020-09-03\", date_format),\n",
    "    datetime.strptime(\"2020-09-04\", date_format),\n",
    "    datetime.strptime(\"2020-09-05\", date_format),\n",
    "    datetime.strptime(\"2020-09-06\", date_format),\n",
    "    datetime.strptime(\"2020-09-07\", date_format),\n",
    "]"
   ]
  },
  {
   "cell_type": "code",
   "execution_count": null,
   "id": "c177d157-cb11-4079-8b06-e58ebad6cb90",
   "metadata": {
    "tags": []
   },
   "outputs": [],
   "source": [
    "daily_temperature_series = pd.Series(data=temperatures_list, index=dates_list)"
   ]
  },
  {
   "cell_type": "code",
   "execution_count": null,
   "id": "63071db9-34ef-4324-942f-a3ede2ec7075",
   "metadata": {
    "tags": []
   },
   "outputs": [],
   "source": [
    "daily_temperature_series"
   ]
  },
  {
   "cell_type": "code",
   "execution_count": null,
   "id": "09680342-46e7-4542-b507-5d47ceabb6a4",
   "metadata": {
    "tags": []
   },
   "outputs": [],
   "source": [
    "daily_temperature_series.index"
   ]
  },
  {
   "cell_type": "markdown",
   "id": "3f4f52f5-3392-4c45-a30d-3da9205173a5",
   "metadata": {},
   "source": [
    "Now, we can access individual elements in the `Series` using the index:"
   ]
  },
  {
   "cell_type": "markdown",
   "id": "045f3beb-c77f-4006-9a19-b8976dfda8e2",
   "metadata": {},
   "source": [
    "What was the temperature on `2020-09-02`?"
   ]
  },
  {
   "cell_type": "code",
   "execution_count": null,
   "id": "adbaa9b4-4b44-4c6a-a15f-b3bd651b1709",
   "metadata": {
    "tags": []
   },
   "outputs": [],
   "source": [
    "daily_temperature_series[\"2020-09-02\"]"
   ]
  },
  {
   "cell_type": "code",
   "execution_count": null,
   "id": "0db904c7-dd32-42b0-b329-5409b646e999",
   "metadata": {
    "tags": []
   },
   "outputs": [],
   "source": [
    "daily_temperature_series[\"2020-09-04\":\"2020-09-06\"]"
   ]
  },
  {
   "cell_type": "markdown",
   "id": "d5fcaf28-0608-4ba3-916e-4c337a727ee7",
   "metadata": {},
   "source": [
    "If we pass a non-existent index value we get a `KeyError` exception"
   ]
  },
  {
   "cell_type": "code",
   "execution_count": null,
   "id": "67bc5e3e-84ac-4481-93b0-145814efac99",
   "metadata": {
    "tags": []
   },
   "outputs": [],
   "source": [
    "daily_temperature_series[\"2020-09-09\"]"
   ]
  },
  {
   "cell_type": "markdown",
   "id": "f3b6039e-8a4b-4bc3-b3b2-a85ab58f54a5",
   "metadata": {},
   "source": [
    "We can use boolean indexing similar to `NumPy`"
   ]
  },
  {
   "cell_type": "code",
   "execution_count": null,
   "id": "1f0cfb5c-2ad4-4717-8650-7f372f005f1a",
   "metadata": {
    "tags": []
   },
   "outputs": [],
   "source": [
    "daily_temperature_series[daily_temperature_series > 40]"
   ]
  },
  {
   "cell_type": "markdown",
   "id": "6217cbac-76da-4a88-8013-4c28ecd752ea",
   "metadata": {},
   "source": [
    "## `Series` methods:"
   ]
  },
  {
   "cell_type": "markdown",
   "id": "59bcd4e5-5cb9-4180-9fef-7724e5717933",
   "metadata": {
    "tags": []
   },
   "source": [
    "### `value_counts`"
   ]
  },
  {
   "cell_type": "markdown",
   "id": "433d0dde-dd82-4113-9db1-49deef1cfadf",
   "metadata": {},
   "source": [
    "The `value_counts` method is one of the most common methods when working with `pd.Series`. For a `Sereis` of _categorical_ data, it returns a new `Series` with its **index** holding the unique values and its **values** holds the counts of the corresponding elements.\n",
    "\n",
    "The below figure illustrates how `value_counts` work for a series containing fruits data:\n",
    "\n",
    "<div>\n",
    "    <img src='img/series-value-counts.png'>\n",
    "</div>\n",
    "\n",
    "We can see that the values in the new `Series` are sorted in descending order according to their frequency.\n",
    "\n",
    "Passing `notmalize=True` can be useful to get percentage frequency rather than raw frequency."
   ]
  },
  {
   "cell_type": "code",
   "execution_count": null,
   "id": "aa119ad9-2be3-4418-ae8f-313f7b081e04",
   "metadata": {
    "tags": []
   },
   "outputs": [],
   "source": [
    "fruits_series = pd.Series(\n",
    "    data=[\n",
    "        \"Apple\",\n",
    "        \"Orange\",\n",
    "        \"Banana\",\n",
    "        \"Apple\",\n",
    "        \"Apple\",\n",
    "        \"Strawberry\",\n",
    "        \"Banana\",\n",
    "        \"Orange\",\n",
    "    ]\n",
    ")"
   ]
  },
  {
   "cell_type": "code",
   "execution_count": null,
   "id": "c7617933-e743-4a07-8394-c206a027ee2c",
   "metadata": {
    "tags": []
   },
   "outputs": [],
   "source": [
    "fruits_series"
   ]
  },
  {
   "cell_type": "code",
   "execution_count": null,
   "id": "988553cb-5848-4bd5-9f51-fd7f0fb9f9e4",
   "metadata": {},
   "outputs": [],
   "source": [
    "fruits_series.value_counts()"
   ]
  },
  {
   "cell_type": "code",
   "execution_count": null,
   "id": "2f56e8d4-a1db-4257-a189-e4d0921a75bd",
   "metadata": {},
   "outputs": [],
   "source": [
    "fruits_series.value_counts(normalize=True)"
   ]
  },
  {
   "cell_type": "markdown",
   "id": "452503c4-3a2a-4d3e-b146-9e6da2583218",
   "metadata": {},
   "source": [
    "### Aggregation functions:"
   ]
  },
  {
   "cell_type": "markdown",
   "id": "a7a9e60e-5350-4601-bf8b-d9ce9eb26210",
   "metadata": {},
   "source": [
    "Similar to `NumPy` arrays, pandas `Series` has the same aggrgation functions:"
   ]
  },
  {
   "cell_type": "code",
   "execution_count": null,
   "id": "8ec6f30f-366b-45d9-9f04-00cae59504ed",
   "metadata": {},
   "outputs": [],
   "source": [
    "series_of_integers = pd.Series(data=[1, 2, 3, 4, 5, 6])"
   ]
  },
  {
   "cell_type": "code",
   "execution_count": null,
   "id": "da45f789-9f39-457a-912c-dbec8a685a1b",
   "metadata": {
    "tags": []
   },
   "outputs": [],
   "source": [
    "print(f\"Min: {series_of_integers.min()}\")\n",
    "print(f\"Max: {series_of_integers.max()}\")\n",
    "print(f\"Sum: {series_of_integers.sum()}\")\n",
    "print(f\"Mean: {series_of_integers.mean()}\")"
   ]
  },
  {
   "cell_type": "markdown",
   "id": "96da2eff-50ba-42ea-8eea-ba028a624bf6",
   "metadata": {
    "tags": []
   },
   "source": [
    "# Series indexing"
   ]
  },
  {
   "cell_type": "code",
   "execution_count": null,
   "id": "e897b4d7-87b2-4106-9bdb-08a21a5d0957",
   "metadata": {},
   "outputs": [],
   "source": [
    "student_ids = [93, 11, 22, 51, 63]"
   ]
  },
  {
   "cell_type": "code",
   "execution_count": null,
   "id": "97b7acc4-1c38-417d-8871-0a23d3ad029d",
   "metadata": {
    "tags": []
   },
   "outputs": [],
   "source": [
    "student_grades_np_array = np.array([90, 83, 73, 57, 91])"
   ]
  },
  {
   "cell_type": "code",
   "execution_count": null,
   "id": "fe3b2f86-53e2-4552-a666-2b775ebc6f02",
   "metadata": {
    "tags": []
   },
   "outputs": [],
   "source": [
    "student_grades_series = pd.Series(data=student_grades_np_array, index=student_ids)"
   ]
  },
  {
   "cell_type": "code",
   "execution_count": null,
   "id": "681ca4ab-7965-4605-9ee2-a476f4ec364f",
   "metadata": {
    "tags": []
   },
   "outputs": [],
   "source": [
    "student_grades_series"
   ]
  },
  {
   "cell_type": "markdown",
   "id": "8394de2b-2e8f-4a2a-8708-92183c0888aa",
   "metadata": {},
   "source": [
    "<div>\n",
    "    <img src='img/series-indexing/1-student-grades-numpy-array-vs-pandas-series.png' width='700'>\n",
    "</div>"
   ]
  },
  {
   "cell_type": "markdown",
   "id": "369dab2a-c4ac-439b-8acd-fd587f05d932",
   "metadata": {},
   "source": [
    "## Single value"
   ]
  },
  {
   "cell_type": "markdown",
   "id": "f2f1d21a-16d0-4f25-aa45-159eb46aa90e",
   "metadata": {},
   "source": [
    "### Access value by its position (implicit index)"
   ]
  },
  {
   "cell_type": "markdown",
   "id": "045a234b-c6d4-4ae4-9aa2-1d524cde35b0",
   "metadata": {},
   "source": [
    "<div>\n",
    "    <img src=\"img/series-indexing/2-student-grades-single-value-access.png\" width='800'>\n",
    "</div>"
   ]
  },
  {
   "cell_type": "code",
   "execution_count": null,
   "id": "2c677ea6-6d83-438e-9089-08b01c3bc179",
   "metadata": {},
   "outputs": [],
   "source": [
    "student_grades_np_array[1]"
   ]
  },
  {
   "cell_type": "code",
   "execution_count": null,
   "id": "cad6126f-8ac5-4605-87cf-fe17673d0fc8",
   "metadata": {},
   "outputs": [],
   "source": [
    "student_grades_series.iloc[1]"
   ]
  },
  {
   "cell_type": "markdown",
   "id": "a0cd4b85-f2e6-47dd-969f-fed103ed19da",
   "metadata": {},
   "source": [
    "### Access value by its _label_ (explicit index)"
   ]
  },
  {
   "cell_type": "markdown",
   "id": "9e8ca8e9-a3ed-476b-a957-036ad5112937",
   "metadata": {},
   "source": [
    "<div>\n",
    "    <img src='img/series-indexing/3-student-grades-single-value-access-by-label.png' width='700'>\n",
    "</div>"
   ]
  },
  {
   "cell_type": "code",
   "execution_count": null,
   "id": "342c1e23-80ac-413e-86a5-7b6bb26db6e3",
   "metadata": {
    "tags": []
   },
   "outputs": [],
   "source": [
    "student_grades_series.loc[51]"
   ]
  },
  {
   "cell_type": "markdown",
   "id": "a6054ddc-60bc-4240-8a17-a93eb2ac98e9",
   "metadata": {},
   "source": [
    "## Slicing"
   ]
  },
  {
   "cell_type": "markdown",
   "id": "970db487-0946-4d7e-8fd6-542f2fb5c582",
   "metadata": {},
   "source": [
    "### Position-based"
   ]
  },
  {
   "cell_type": "markdown",
   "id": "f51bf7fa-6c1b-43d5-b219-3ddaa54dfc08",
   "metadata": {},
   "source": [
    "<div>\n",
    "    <img src='img/series-indexing/4-student-grades-position-based-slicing.png' width='800'>\n",
    "</div>"
   ]
  },
  {
   "cell_type": "code",
   "execution_count": null,
   "id": "78308bd0-2e7c-4bf4-beba-52477b71e235",
   "metadata": {},
   "outputs": [],
   "source": [
    "student_grades_np_array"
   ]
  },
  {
   "cell_type": "code",
   "execution_count": null,
   "id": "26cd9dbf-830a-40cb-852b-23cfd7f14e45",
   "metadata": {
    "tags": []
   },
   "outputs": [],
   "source": [
    "student_grades_np_array[1:4]"
   ]
  },
  {
   "cell_type": "code",
   "execution_count": null,
   "id": "f71a67da-2e71-4ae7-aeaa-9bd3f4819d66",
   "metadata": {},
   "outputs": [],
   "source": [
    "student_grades_series.iloc[1:4]"
   ]
  },
  {
   "cell_type": "markdown",
   "id": "be458c3c-f42c-467e-b63d-cf9bc22a5d1d",
   "metadata": {},
   "source": [
    "### Label-based"
   ]
  },
  {
   "cell_type": "markdown",
   "id": "83f584c5-a180-4b83-96e3-46bfb880a7fb",
   "metadata": {},
   "source": [
    "<div>\n",
    "    <img src='img/series-indexing/5-student-grades-label-based-slicing.png' width='700'>\n",
    "</div>"
   ]
  },
  {
   "cell_type": "code",
   "execution_count": null,
   "id": "c8096950-9436-4119-bee8-1e6a5ad65ba5",
   "metadata": {},
   "outputs": [],
   "source": [
    "student_grades_series.loc[11:51]"
   ]
  },
  {
   "cell_type": "markdown",
   "id": "6a88c8a9-6065-4bbe-a2c0-cc2b5ba4d7ba",
   "metadata": {},
   "source": [
    "## Masking"
   ]
  },
  {
   "cell_type": "markdown",
   "id": "895521f5-5e28-46e5-8480-10b68aed73cd",
   "metadata": {},
   "source": [
    "<div>\n",
    "    <img src='img/series-indexing/6-student-grades-boolean-masking.png' width='800'>\n",
    "</div>"
   ]
  },
  {
   "cell_type": "markdown",
   "id": "99456651-c059-47ab-99be-435a63b13118",
   "metadata": {},
   "source": [
    "Here, we can't use the `.iloc` method."
   ]
  },
  {
   "cell_type": "code",
   "execution_count": null,
   "id": "4ca32fcd-e265-445c-899a-8e11e81e7250",
   "metadata": {
    "tags": []
   },
   "outputs": [],
   "source": [
    "student_grades_np_array[student_grades_np_array > 75]"
   ]
  },
  {
   "cell_type": "code",
   "execution_count": null,
   "id": "68b70e74-fa04-4706-81b6-83c36d0a374c",
   "metadata": {
    "tags": []
   },
   "outputs": [],
   "source": [
    "student_grades_series[student_grades_series > 75]"
   ]
  },
  {
   "cell_type": "code",
   "execution_count": null,
   "id": "4797f98e-ea91-4c74-bfd9-a8e5e4fe6b46",
   "metadata": {
    "tags": []
   },
   "outputs": [],
   "source": [
    "student_grades_series.loc[student_grades_series > 75]"
   ]
  },
  {
   "cell_type": "markdown",
   "id": "9aa7aa60-e32b-4987-8108-d857d19455a5",
   "metadata": {},
   "source": [
    "## Fancy indexing:"
   ]
  },
  {
   "cell_type": "markdown",
   "id": "d0aab02a-426f-42be-be31-464dd0bd6794",
   "metadata": {},
   "source": [
    "### Position-based"
   ]
  },
  {
   "cell_type": "markdown",
   "id": "2589c8a7-2502-4a19-8bbd-967e7c711a2f",
   "metadata": {},
   "source": [
    "<div>\n",
    "    <img src='img/series-indexing/7-student-grades-position-based-fancy-indexing.png' width='800'>\n",
    "</div>"
   ]
  },
  {
   "cell_type": "code",
   "execution_count": null,
   "id": "7a618ec6-b72f-4014-bf65-577f548cab10",
   "metadata": {},
   "outputs": [],
   "source": [
    "student_grades_np_array[[0, 2, 4]]"
   ]
  },
  {
   "cell_type": "code",
   "execution_count": null,
   "id": "10dea354-ffae-4bae-9418-ec9049d7b027",
   "metadata": {},
   "outputs": [],
   "source": [
    "student_grades_series.iloc[[0, 2, 4]]"
   ]
  },
  {
   "cell_type": "markdown",
   "id": "39f0af70-d957-4f04-9335-0292b3024082",
   "metadata": {},
   "source": [
    "### Label-based"
   ]
  },
  {
   "cell_type": "markdown",
   "id": "f75ef1b5-de38-4df5-9f8d-975db6cea42e",
   "metadata": {},
   "source": [
    "<div>\n",
    "    <img src='img/series-indexing/8-student-grades-label-based-fancy-indexing.png' width='800'>\n",
    "</div>"
   ]
  },
  {
   "cell_type": "code",
   "execution_count": null,
   "id": "f8cbf8c9-378d-47d0-a1b3-c09444aa5b08",
   "metadata": {
    "tags": []
   },
   "outputs": [],
   "source": [
    "student_grades_series.loc[[93, 11, 63]]"
   ]
  },
  {
   "cell_type": "markdown",
   "id": "3822a1e0-fbdb-427a-bf23-5f530884cf0a",
   "metadata": {},
   "source": [
    "# Series exception:"
   ]
  },
  {
   "cell_type": "markdown",
   "id": "5662a456-c7d7-46bd-b3ea-fd6da44c98b1",
   "metadata": {},
   "source": [
    "The `data` argument passed to the `pd.Series` must be **one-dimensional** array. Otherwise, exception is raised:"
   ]
  },
  {
   "cell_type": "code",
   "execution_count": null,
   "id": "07ed145a-c915-429c-b0e3-fcb09ae85fa0",
   "metadata": {
    "tags": []
   },
   "outputs": [],
   "source": [
    "arr = np.arange(4).reshape((2, 2))"
   ]
  },
  {
   "cell_type": "code",
   "execution_count": null,
   "id": "47cb5455-7c6f-47e0-ac99-4e9fdb3250b8",
   "metadata": {
    "tags": []
   },
   "outputs": [],
   "source": [
    "pd.Series(arr)"
   ]
  },
  {
   "cell_type": "markdown",
   "id": "f774ef21-4f0d-4a98-a067-5f9342b179fa",
   "metadata": {
    "jp-MarkdownHeadingCollapsed": true,
    "tags": []
   },
   "source": [
    "# `DataFrame`:"
   ]
  },
  {
   "cell_type": "code",
   "execution_count": null,
   "id": "e104965a-7b85-4090-96d2-7b4474400845",
   "metadata": {},
   "outputs": [],
   "source": [
    "syria_governorate_population_dict = {\n",
    "    \"Aleppo Governorate\": 4600166,\n",
    "    \"Raqqa Governorate\": 919000,\n",
    "    \"As-Suwayda Governorate\": 364000,\n",
    "    \"Damascus Governorate\": 2211042,\n",
    "    \"Daraa Governorate\": 998000,\n",
    "    \"Deir ez-Zor Governorate\": 1200500,\n",
    "    \"Hama Governorate\": 1593000,\n",
    "    \"Hasaka Governorate\": 1272702,\n",
    "    \"Homs Governorate\": 1762500,\n",
    "    \"Idlib Governorate\": 1464000,\n",
    "    \"Latakia Governorate\": 1278486,\n",
    "    \"Quneitra Governorate\": 87000,\n",
    "    \"Rif Dimashq Governorate\": 2831738,\n",
    "    \"Tartus Governorate\": 785000,\n",
    "}\n",
    "\n",
    "syria_governorate_area_dict = {\n",
    "    \"Aleppo Governorate\": 18482,\n",
    "    \"Raqqa Governorate\": 19616,\n",
    "    \"As-Suwayda Governorate\": 5550,\n",
    "    \"Damascus Governorate\": 1599,\n",
    "    \"Daraa Governorate\": 3730,\n",
    "    \"Deir ez-Zor Governorate\": 33060,\n",
    "    \"Hama Governorate\": 8883,\n",
    "    \"Hasaka Governorate\": 23334,\n",
    "    \"Homs Governorate\": 42223,\n",
    "    \"Idlib Governorate\": 6097,\n",
    "    \"Latakia Governorate\": 2297,\n",
    "    \"Quneitra Governorate\": 1861,\n",
    "    \"Rif Dimashq Governorate\": 18032,\n",
    "    \"Tartus Governorate\": 1892,\n",
    "}"
   ]
  },
  {
   "cell_type": "code",
   "execution_count": null,
   "id": "928d94b5-2198-421f-9088-60ad9b82bed7",
   "metadata": {},
   "outputs": [],
   "source": [
    "pd.DataFrame([syria_governorate_population_dict, syria_governorate_area_dict])"
   ]
  },
  {
   "cell_type": "code",
   "execution_count": null,
   "id": "da46f475-8669-47bc-bed4-55ce8cdc7643",
   "metadata": {
    "tags": []
   },
   "outputs": [],
   "source": [
    "syria_governorate_area_series = pd.Series(syria_governorate_area_dict, name=\"area\")"
   ]
  },
  {
   "cell_type": "code",
   "execution_count": null,
   "id": "549b2504-b663-45f3-b851-0e9838876b1c",
   "metadata": {
    "tags": []
   },
   "outputs": [],
   "source": [
    "syria_governorate_population_series = pd.Series(\n",
    "    syria_governorate_population_dict, name=\"population\"\n",
    ")"
   ]
  },
  {
   "cell_type": "code",
   "execution_count": null,
   "id": "8d70005f-d740-4c2a-b779-78ef8d410b4b",
   "metadata": {
    "tags": []
   },
   "outputs": [],
   "source": [
    "pd.concat([syria_governorate_area_series, syria_governorate_population_series], axis=1)"
   ]
  },
  {
   "cell_type": "markdown",
   "id": "ab8e5f9c-23b8-4219-a9b1-347aa2f58f40",
   "metadata": {
    "jp-MarkdownHeadingCollapsed": true,
    "tags": []
   },
   "source": [
    "# `pd.read_html` example:"
   ]
  },
  {
   "cell_type": "code",
   "execution_count": null,
   "id": "baf54d30-ea06-4162-bb67-e56565ca87dc",
   "metadata": {},
   "outputs": [],
   "source": [
    "syria_governorates_df = pd.read_html(\n",
    "    \"https://en.wikipedia.org/wiki/Governorates_of_Syria\", match=\"Governorate name\"\n",
    ")[0]"
   ]
  },
  {
   "cell_type": "markdown",
   "id": "85b15952-1cf0-411c-b754-e51a472117d1",
   "metadata": {
    "jp-MarkdownHeadingCollapsed": true,
    "tags": []
   },
   "source": [
    "# Working with missing values:"
   ]
  },
  {
   "cell_type": "markdown",
   "id": "aca24985-1b33-4a6d-80b4-1179c8aede9d",
   "metadata": {},
   "source": [
    "- `pd.Series.isnull`\n",
    "- `pd.Series.notnull`\n",
    "- `pd.DataFrame.isnull`\n",
    "- `pd.DataFrame.notnull`"
   ]
  },
  {
   "cell_type": "code",
   "execution_count": null,
   "id": "f66445d8-f13b-439e-a873-c4f46f6d029c",
   "metadata": {},
   "outputs": [],
   "source": []
  }
 ],
 "metadata": {
  "kernelspec": {
   "display_name": "Python 3 (ipykernel)",
   "language": "python",
   "name": "python3"
  },
  "language_info": {
   "codemirror_mode": {
    "name": "ipython",
    "version": 3
   },
   "file_extension": ".py",
   "mimetype": "text/x-python",
   "name": "python",
   "nbconvert_exporter": "python",
   "pygments_lexer": "ipython3",
   "version": "3.9.7"
  },
  "toc-autonumbering": true
 },
 "nbformat": 4,
 "nbformat_minor": 5
}
