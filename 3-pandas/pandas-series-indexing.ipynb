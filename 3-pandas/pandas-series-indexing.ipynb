{
 "cells": [
  {
   "cell_type": "code",
   "execution_count": null,
   "id": "e6ba0eb2-a748-4031-9853-d1b82294ed0c",
   "metadata": {
    "tags": []
   },
   "outputs": [],
   "source": [
    "import numpy as np\n",
    "import pandas as pd"
   ]
  },
  {
   "cell_type": "code",
   "execution_count": null,
   "id": "fe95a94d-33a7-4fc8-a4b9-823205ef5183",
   "metadata": {},
   "outputs": [],
   "source": [
    "student_ids = [93, 11, 22, 51, 63]"
   ]
  },
  {
   "cell_type": "code",
   "execution_count": null,
   "id": "4a37d4c1-c228-4f9e-8525-d7119411edc1",
   "metadata": {
    "tags": []
   },
   "outputs": [],
   "source": [
    "student_grades_np_array = np.array([90, 83, 73, 57, 91])"
   ]
  },
  {
   "cell_type": "code",
   "execution_count": null,
   "id": "a2f406c3-77fa-4330-84d8-fde268fb49e6",
   "metadata": {
    "tags": []
   },
   "outputs": [],
   "source": [
    "student_grades_series = pd.Series(data=student_grades_np_array, index=student_ids)"
   ]
  },
  {
   "cell_type": "code",
   "execution_count": null,
   "id": "37f7f040-9199-49bf-851b-dcf964aaebe5",
   "metadata": {
    "tags": []
   },
   "outputs": [],
   "source": [
    "student_grades_series"
   ]
  },
  {
   "cell_type": "markdown",
   "id": "5e7f8cc1-2552-4539-8da1-5a2b6c62067e",
   "metadata": {},
   "source": [
    "<div>\n",
    "    <img src='../img/1-student-grades-numpy-array-vs-pandas-series.png' width='700'>\n",
    "</div>"
   ]
  },
  {
   "cell_type": "markdown",
   "id": "a5ad40eb-e10d-4f32-9e7a-a635d4620e94",
   "metadata": {},
   "source": [
    "# Single value"
   ]
  },
  {
   "cell_type": "markdown",
   "id": "35964a70-cfff-457e-820b-2dbd5adaf37e",
   "metadata": {},
   "source": [
    "## Access value by its position (implicit index)"
   ]
  },
  {
   "cell_type": "markdown",
   "id": "e399a3b6-f73d-49cc-abe5-0fce3fe19642",
   "metadata": {},
   "source": [
    "<div>\n",
    "    <img src=\"../img/2-student-grades-single-value-access.png\" width='800'>\n",
    "</div>"
   ]
  },
  {
   "cell_type": "code",
   "execution_count": null,
   "id": "7b619f47-1e37-46b8-811a-00034448bbd7",
   "metadata": {},
   "outputs": [],
   "source": [
    "student_grades_np_array[1]"
   ]
  },
  {
   "cell_type": "code",
   "execution_count": null,
   "id": "be8b1a2f-9d4d-4b77-9c17-da4682b52897",
   "metadata": {},
   "outputs": [],
   "source": [
    "student_grades_series.iloc[1]"
   ]
  },
  {
   "cell_type": "markdown",
   "id": "2bcf5e44-6236-4826-ba01-e73d5a0c8b1c",
   "metadata": {},
   "source": [
    "## Access value by its _label_ (explicit index)"
   ]
  },
  {
   "cell_type": "markdown",
   "id": "ab88d68b-6b69-410f-8827-c72d36b54eaa",
   "metadata": {},
   "source": [
    "<div>\n",
    "    <img src='../img/3-student-grades-single-value-access-by-label.png' width='700'>\n",
    "</div>"
   ]
  },
  {
   "cell_type": "code",
   "execution_count": null,
   "id": "985cd5a2-13cd-4ac9-8a0a-32972de6e763",
   "metadata": {
    "tags": []
   },
   "outputs": [],
   "source": [
    "student_grades_series.loc[51]"
   ]
  },
  {
   "cell_type": "markdown",
   "id": "f60e0664-61ee-4748-8b8f-14db751fc578",
   "metadata": {},
   "source": [
    "# Slicing"
   ]
  },
  {
   "cell_type": "markdown",
   "id": "12cd0aa0-0700-48df-8a1e-de9cf2c5fd4a",
   "metadata": {},
   "source": [
    "## Position-based"
   ]
  },
  {
   "cell_type": "markdown",
   "id": "01750274-9a1c-4622-ac83-8ac8d8abd6cc",
   "metadata": {},
   "source": [
    "<div>\n",
    "    <img src='../img/4-student-grades-position-based-slicing.png' width='800'>\n",
    "</div>"
   ]
  },
  {
   "cell_type": "code",
   "execution_count": null,
   "id": "af54502b-20da-4b8c-85a3-4947ad6fe8fd",
   "metadata": {},
   "outputs": [],
   "source": [
    "student_grades_np_array"
   ]
  },
  {
   "cell_type": "code",
   "execution_count": null,
   "id": "961dc161-1abe-4c21-b1e3-32318a4bf8a6",
   "metadata": {
    "tags": []
   },
   "outputs": [],
   "source": [
    "student_grades_np_array[1:4]"
   ]
  },
  {
   "cell_type": "code",
   "execution_count": null,
   "id": "de151590-beeb-4250-8f99-36937de94e6b",
   "metadata": {},
   "outputs": [],
   "source": [
    "student_grades_series.iloc[1:4]"
   ]
  },
  {
   "cell_type": "markdown",
   "id": "21df6116-1598-44f0-b85a-e00fdc65d6b7",
   "metadata": {},
   "source": [
    "## Label-based"
   ]
  },
  {
   "cell_type": "markdown",
   "id": "9ad1e5a7-0768-4e02-972d-f5744b38b109",
   "metadata": {},
   "source": [
    "<div>\n",
    "    <img src='../img/5-student-grades-label-based-slicing.png' width='700'>\n",
    "</div>"
   ]
  },
  {
   "cell_type": "code",
   "execution_count": null,
   "id": "411544dd-9343-4a0a-9ea8-f8f5e94a07d9",
   "metadata": {},
   "outputs": [],
   "source": [
    "student_grades_series.loc[11:51]"
   ]
  },
  {
   "cell_type": "markdown",
   "id": "96b9dc04-4d51-480f-b889-371ee5d2dd2a",
   "metadata": {},
   "source": [
    "# Masking"
   ]
  },
  {
   "cell_type": "markdown",
   "id": "0e6fb048-eaf1-4e4a-b13b-05422f87c631",
   "metadata": {},
   "source": [
    "<div>\n",
    "    <img src='../img/6-student-grades-boolean-masking.png' width='800'>\n",
    "</div>"
   ]
  },
  {
   "cell_type": "markdown",
   "id": "0aa281ed-5d5d-4dbf-9013-aa19c6758ac9",
   "metadata": {},
   "source": [
    "Here, we can't use the `.iloc` method."
   ]
  },
  {
   "cell_type": "code",
   "execution_count": null,
   "id": "b0d34caa-d10c-4f26-b687-f060dc062a5e",
   "metadata": {
    "tags": []
   },
   "outputs": [],
   "source": [
    "student_grades_np_array[student_grades_np_array > 75]"
   ]
  },
  {
   "cell_type": "code",
   "execution_count": null,
   "id": "1ff227ea-4830-4ae9-95b2-1e7e2f632ba2",
   "metadata": {
    "tags": []
   },
   "outputs": [],
   "source": [
    "student_grades_series[student_grades_series > 75]"
   ]
  },
  {
   "cell_type": "code",
   "execution_count": null,
   "id": "4553efc4-7a2a-4cd5-a6bd-9e1a4c0840b0",
   "metadata": {
    "tags": []
   },
   "outputs": [],
   "source": [
    "student_grades_series.loc[student_grades_series > 75]"
   ]
  },
  {
   "cell_type": "markdown",
   "id": "a343c99d-fcc0-4f20-b7a2-164072df15bc",
   "metadata": {},
   "source": [
    "# Fancy indexing:"
   ]
  },
  {
   "cell_type": "markdown",
   "id": "65daa2d0-dcb6-41e5-833e-2187f399be6d",
   "metadata": {},
   "source": [
    "## Position-based"
   ]
  },
  {
   "cell_type": "markdown",
   "id": "8f36d8f9-c2b4-44c7-90da-ba35a164dd6f",
   "metadata": {},
   "source": [
    "<div>\n",
    "    <img src='../img/7-student-grades-position-based-fancy-indexing.png' width='800'>\n",
    "</div>"
   ]
  },
  {
   "cell_type": "code",
   "execution_count": null,
   "id": "4a4f9e34-31f4-441e-89bf-6096e7360a2e",
   "metadata": {},
   "outputs": [],
   "source": [
    "student_grades_np_array[[0, 2, 4]]"
   ]
  },
  {
   "cell_type": "code",
   "execution_count": null,
   "id": "27eee04b-ed84-4487-9a9b-f6515569c123",
   "metadata": {},
   "outputs": [],
   "source": [
    "student_grades_series.iloc[[0, 2, 4]]"
   ]
  },
  {
   "cell_type": "markdown",
   "id": "bfb09fa8-61f6-4989-83da-9db5e40110ba",
   "metadata": {},
   "source": [
    "## Label-based"
   ]
  },
  {
   "cell_type": "markdown",
   "id": "cdefe130-daf3-4c4b-96f9-1b4b115b3eb8",
   "metadata": {},
   "source": [
    "<div>\n",
    "    <img src='../img/8-student-grades-label-based-fancy-indexing.png' width='800'>\n",
    "</div>"
   ]
  },
  {
   "cell_type": "code",
   "execution_count": null,
   "id": "cbd6033a-ccce-4b27-bc3f-6dcc8559c18d",
   "metadata": {
    "tags": []
   },
   "outputs": [],
   "source": [
    "student_grades_series.loc[[93, 11, 63]]"
   ]
  },
  {
   "cell_type": "code",
   "execution_count": null,
   "id": "60c5c766-6ec7-4f1d-a984-99de99c1949a",
   "metadata": {},
   "outputs": [],
   "source": []
  }
 ],
 "metadata": {
  "kernelspec": {
   "display_name": "Python 3 (ipykernel)",
   "language": "python",
   "name": "python3"
  },
  "language_info": {
   "codemirror_mode": {
    "name": "ipython",
    "version": 3
   },
   "file_extension": ".py",
   "mimetype": "text/x-python",
   "name": "python",
   "nbconvert_exporter": "python",
   "pygments_lexer": "ipython3",
   "version": "3.9.12"
  },
  "toc-autonumbering": true
 },
 "nbformat": 4,
 "nbformat_minor": 5
}
